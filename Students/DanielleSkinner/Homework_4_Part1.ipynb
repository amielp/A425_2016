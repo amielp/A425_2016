{
 "cells": [
  {
   "cell_type": "code",
   "execution_count": 1,
   "metadata": {
    "collapsed": false
   },
   "outputs": [],
   "source": [
    "%matplotlib inline\n",
    "import matplotlib.pyplot as plt\n",
    "import matplotlib.image as mpimg"
   ]
  },
  {
   "cell_type": "markdown",
   "metadata": {},
   "source": [
    "## [ ONE ]\n",
    "\n",
    "Consider two distant galaxies both along the same line of sight. The closest galaxy is at a redshift $z_{1}$ and the more distant galaxy at a redshift $z_{2}$. By considering how a photon might travel from galaxy 2 to galaxy 1 and then to an observer at redshift 0, calcualate:\n",
    "\n",
    "a. The redshift of second galaxy if observed from the first galaxy (in terms in $z_{1}$ and $z_{2}$).\n",
    "\n",
    "b. For a flat universe with $\\Omega_{m} = 1$ (Einstein-deSitter) calculate the angular diameter distance to galaxy 1 and 2 (if $z_{1} = 0.5$ and $z_{2} = 1.6$) and the angular diameter distance from galaxy 1 to galaxy 2.\n",
    "\n",
    "c. Comment on the similarity or difference between these values."
   ]
  },
  {
   "cell_type": "code",
   "execution_count": 2,
   "metadata": {
    "collapsed": false
   },
   "outputs": [
    {
     "data": {
      "image/png": "[encoded data removed]",
      "text/plain": [
       "<IPython.core.display.Image object>"
      ]
     },
     "execution_count": 2,
     "metadata": {},
     "output_type": "execute_result"
    }
   ],
   "source": [
    "from IPython.display import Image\n",
    "Image(filename=\"/Users/danielleskinner/Downloads/Untitled document.png\")"
   ]
  },
  {
   "cell_type": "markdown",
   "metadata": {},
   "source": [
    "### [a]\n",
    "\n",
    "To figure out the redshift of the second galaxy if oberserved from the first galaxy, a few things need to be defined. Redshift can be neatly written in terms of the emitted and observed wavelengths: $\\lambda_{o} = (1+z)\\lambda_{e}$ \n",
    "\n",
    "Using the diagram I drew above, I will define the redshift of galaxy 2 from galaxy 1 as: $\\lambda_{o,1} = (1+z_{n})\\lambda_{e}$. Here, $\\lambda_{o,1}$ is the wavelength observed from galaxy 2 at galaxy 1, $z_{n}$ is the redshift of galaxy 2 in terms of galaxy 1, and $\\lambda_{e}$ is the emitted wavelength from galaxy 2.\n",
    "\n",
    "The observed wavelength for each galaxy from the observers perspective, in terms of variables in the diagram, can be written as: \n",
    "\n",
    "<center> $\\lambda_{o} = (1+z_{2}) \\lambda_{e}$ </center>\n",
    "<center> $\\lambda_{o} = (1+z_{1}) \\lambda_{e,1}$ </center>\n",
    "\n",
    "These can be set equal to each other and it can be recognized that $\\lambda_{o,1} = \\lambda_{e,1}$, assuming the light doesn't interact with the galaxy itself. \n",
    "\n",
    "Solving for $\\lambda_{o,1}$ in the equation for the redshift of galaxy 2 from galaxy 2, plugging it in to the previous equation, and solving for $z_{n}$ yields the equation:\n",
    "\n",
    "\\begin{equation}\n",
    "    z_{n} = \\frac{1+z_{2}}{1+z_{1}} -1\n",
    "\\end{equation}"
   ]
  },
  {
   "cell_type": "markdown",
   "metadata": {
    "collapsed": true
   },
   "source": [
    "### [b] \n",
    "To calculate the angular diameter distances of the galaxies, the following equation can be used:\n",
    "\\begin{equation}\n",
    "    d_{a} = \\frac{S_{k}(r)}{1+z}\n",
    "\\end{equation}\n",
    "\n",
    "For the Einstein-deSitter Universe, this equation reduces to:\n",
    "\\begin{equation}\n",
    "    d_{a} = \\frac{r}{1+z}\n",
    "\\end{equation}\n",
    "\n",
    "Where r is the current proper distance with the following equation:\n",
    "\\begin{equation}\n",
    "    r = \\int_{0}^{z} \\frac{c \\ dz}{H_{0} \\sqrt{\\Omega_{m,0} (1+z)^{3}}}\n",
    "\\end{equation}\n",
    "\n",
    "The angular diameter distance from the observer to galaxy 1, observer to galaxy 2 and the angular diameter distance of galaxy 2 from galaxy 1 is calculated in the cell below:"
   ]
  },
  {
   "cell_type": "code",
   "execution_count": 3,
   "metadata": {
    "collapsed": false
   },
   "outputs": [
    {
     "name": "stdout",
     "output_type": "stream",
     "text": [
      "Redshift of galaxy 2 as observed from galaxy 1 =  0.733333333333\n",
      "Angular diameter distance from observer to galaxy 1 =  1048.51978747  Mpc\n",
      "Angular diameter distance from observer to galaxy 2 =  1252.0897066  Mpc\n",
      "Angular diameter distance from galaxy 1 to galaxy 2 =  1188.93537287  Mpc\n"
     ]
    }
   ],
   "source": [
    "from scipy import integrate\n",
    "import numpy as np\n",
    "\n",
    "#Needed variables\n",
    "z_1 = 0.5\n",
    "z_2 = 1.6\n",
    "c = 3.0*(10**8)\n",
    "H = 70 * (3.241*(10**-20)) #Change units if needed.\n",
    "conv = (3.24078E-23) #[Mpc/m]\n",
    "\n",
    "#a\n",
    "z_n = ((1+z_2)/(1+z_1)) - 1\n",
    "print 'Redshift of galaxy 2 as observed from galaxy 1 = ', z_n\n",
    "\n",
    "#b\n",
    "def proper(z):\n",
    "    return ((1+z)**3)**(-0.5)\n",
    "\n",
    "a_1o = integrate.quad(proper, 0, z_1)[0] * c * 1/H * (1/(1+z_1))\n",
    "a_2o = integrate.quad(proper, 0, z_2)[0] * c * 1/H * (1/(1+z_2))\n",
    "a_21 = integrate.quad(proper, 0, z_n)[0] * c * 1/H * (1/(1+z_n))\n",
    "\n",
    "print 'Angular diameter distance from observer to galaxy 1 = ', a_1o * conv, ' Mpc'\n",
    "print 'Angular diameter distance from observer to galaxy 2 = ', a_2o * conv, ' Mpc'\n",
    "print 'Angular diameter distance from galaxy 1 to galaxy 2 = ', a_21 * conv, ' Mpc'"
   ]
  },
  {
   "cell_type": "markdown",
   "metadata": {},
   "source": [
    "### [c]\n",
    "\n",
    "As seen in class, the angular diameter distance increases ($d\\theta$ decreases) up to a critical redshift value, then it starts to decrease ($d\\theta$ increases). For the benchmark model, this value is 1.6. This will be slightly different for an Einstein-deSitter Universe. \n",
    "\n",
    "It is expected that the angular diameter distance from the observer to galaxy 2 should be larger than the angular diameter distance from the observer to galaxy 1. This is because galaxy one is at a redshift of 0.5, smaller than the critical value, and galaxy two is at a redshift of 1.6, right around the critical value. So the angular diameter distance should increase from $z_{1}$ to $z_{2}$. \n",
    "\n",
    "The angular diameter distance from galaxy 1 to galaxy 2 seems to be between the previous two values. Galaxy 2 sits at a redshift of about 0.73 relative to galaxy 1. So it's expected that this value should be higher than the angular diameter distance from the observer to galaxy 1 and that this value should be lower than the angular diameter distance from the observer to galaxy 2."
   ]
  },
  {
   "cell_type": "markdown",
   "metadata": {},
   "source": [
    "## [ TWO ] \n",
    "Problem 8.5 in Ryden: Note there is a type in the problem (it states that the velocity dispersion units are $\\frac{km}{s^{3}}$ rather than the correct units of $\\frac{km}{s}$). Compare this with the collision time between Andromeda (M31) and the Milky Way (Andromeda is 700 kpc away and is moving towards us at 120 $\\frac{km}{s}$."
   ]
  },
  {
   "cell_type": "markdown",
   "metadata": {},
   "source": [
    "In order to calculate the mean number density of galaxies within the half-mass radius, the following equation can be used:\n",
    "\n",
    "\\begin{equation} \n",
    "    \\frac{Avg \\ Galaxies}{volume} = \\frac{N}{V}\n",
    "\\end{equation}\n",
    "where\n",
    "\\begin{equation}\n",
    "    N = 1000 \\ galaxies\n",
    "\\end{equation}\n",
    "\n",
    "\\begin{equation}\n",
    "    V = \\frac{4\\pi}{3} R_{h}^{3}\n",
    "\\end{equation}\n",
    "\n",
    "Plugging in values, the mean number density of galaxies within the half-mass radius is:\n",
    "\n",
    "\\begin{equation}\n",
    "    \\frac{Avg \\ Galaxies}{volume} = \\frac{1000}{\\frac{4\\pi}{3} (1.5)^{3}} \\ \\ \\left [ \\frac{Galaxies}{Mpc^{3}} \\right ] = 70.74 \\ \\ \\left [ \\frac{Galaxies}{Mpc^{3}} \\right ]\n",
    "\\end{equation}\n",
    "\n",
    "To calculate how far a galaxy in the Coma cluster will travel, on average, before it collides with another galaxy, I can think about this in terms of a problem I solved in the second homework. I can calculate a length per collision to solve this problem.\n",
    "\n",
    "\\begin{equation}\n",
    "    r = \\frac{length}{collision}\n",
    "\\end{equation}\n",
    "Where\n",
    "\\begin{equation}\n",
    "    length = vt\n",
    "\\end{equation}\n",
    "\n",
    "\\begin{equation}\n",
    "    collision = \\Sigma \\ vt \\ N_{average \\ galaxies}\n",
    "\\end{equation}\n",
    "\n",
    "Here, $\\Sigma = 10^{-3} \\ Mpc^{2}$, and $ N_{average \\ galaxies} $ is the value calculated in the first step. This yields a value of:\n",
    "\n",
    "\\begin{equation}\n",
    "    r = \\frac{1}{\\Sigma \\ N_{average \\ galaxies}} = 14.14 \\ \\frac{Mpc}{collision}\n",
    "\\end{equation}\n",
    "\n",
    "To calculate the average time between collisions for a galaxy in the Coma cluster, the average distance calculated above needs to be divided by the velocity dispersion of the Coma cluster. The velocity dispersion of the Coma cluster is $\\sigma = 880 \\left [ \\frac{km}{s} \\right ]$. After converting this from km/s to Mpc/s, the average time between collisions can be calculated as follows:\n",
    "\n",
    "\\begin{equation}\n",
    "    Avg \\ time = \\frac{r}{\\sigma}\n",
    "\\end{equation}\n",
    "\n",
    "Divide the final value by 31557600000000000 (conversion rate from seconds to Gyrs), and the average time between collisions becomes:\n",
    "\n",
    "\\begin{equation}\n",
    "    Avg \\ time = 15.71 \\ \\frac{Gyr}{collision}\n",
    "\\end{equation}\n",
    "\n",
    "This value is longer than the Hubble time (approximately 14 Gyrs)! My discussion comparing this with the collision time between Andromeda and the Milky Way is at the end of the cell below."
   ]
  },
  {
   "cell_type": "code",
   "execution_count": 4,
   "metadata": {
    "collapsed": false
   },
   "outputs": [
    {
     "name": "stdout",
     "output_type": "stream",
     "text": [
      "Mean number density of galaxies =  70.7355302631 galaxies/Mpc^3\n",
      "Average distance before collision =  14.1371669412 Mpc\n",
      "Average time between collisions =  15.7081953062 Gyrs. This is longer than the Hubble time!\n",
      "Collision time between Andromeda and the Milky Way =  5.70378670922 Gyrs.\n",
      "\n",
      "\n",
      "Andromeda will collide with the Milky way in 5.7 Gigayears, a little less than half the hubble time, compared with the collision time for a galaxy in the Coma cluster, which is 15 Gigayears, longer than the hubble time. \n"
     ]
    }
   ],
   "source": [
    "import math\n",
    "from decimal import Decimal\n",
    "\n",
    "N = 1000 #galaxies\n",
    "r_h = 1.5 # Mpc\n",
    "sig = 10.**(-3) #Mpc^2\n",
    "\n",
    "#What is the mean number density of galaxies within the half-mass radius?\n",
    "V = (4/3.) * math.pi * (r_h)**3\n",
    "avg_gal = N / V\n",
    "print 'Mean number density of galaxies = ', avg_gal, 'galaxies/Mpc^3'\n",
    "\n",
    "#How far will a galaxy in the Coma cluster travel, on average, before it collides with another galaxy?\n",
    "avg_dist = 1. / (sig * avg_gal)\n",
    "print 'Average distance before collision = ', avg_dist, 'Mpc'\n",
    "\n",
    "#What is the average time between collisions for a galaxy in the Coma cluster?\n",
    "vel_disp = 880 #km/s\n",
    "conv = 3.085677581e+19 # _km = 1 Mpc \n",
    "vel = 880 * (1/conv)\n",
    "avg_time = (avg_dist / vel) / (31557600000000000) #Gyrs\n",
    "print 'Average time between collisions = ', avg_time, 'Gyrs. This is longer than the Hubble time!'\n",
    "\n",
    "#Collision time between Andromeda and the Milky Way:\n",
    "coll_time = 700. / (120*(3.24078E-17)) / (31557600000000000) #Gyrs\n",
    "print 'Collision time between Andromeda and the Milky Way = ', coll_time,'Gyrs.'\n",
    "print '\\n'\n",
    "print 'Andromeda will collide with the Milky way in 5.7 Gigayears, a little less than half the hubble time, compared with the collision time for a galaxy in the Coma cluster, which is 15 Gigayears, longer than the hubble time. '\n"
   ]
  },
  {
   "cell_type": "code",
   "execution_count": null,
   "metadata": {
    "collapsed": true
   },
   "outputs": [],
   "source": []
  }
 ],
 "metadata": {
  "anaconda-cloud": {},
  "kernelspec": {
   "display_name": "Python [default]",
   "language": "python",
   "name": "python2"
  },
  "language_info": {
   "codemirror_mode": {
    "name": "ipython",
    "version": 2
   },
   "file_extension": ".py",
   "mimetype": "text/x-python",
   "name": "python",
   "nbconvert_exporter": "python",
   "pygments_lexer": "ipython2",
   "version": "2.7.12"
  }
 },
 "nbformat": 4,
 "nbformat_minor": 1
}
