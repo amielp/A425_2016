{
 "cells": [
  {
   "cell_type": "code",
   "execution_count": 1,
   "metadata": {
    "collapsed": false
   },
   "outputs": [
    {
     "name": "stdout",
     "output_type": "stream",
     "text": [
      "Populating the interactive namespace from numpy and matplotlib\n"
     ]
    }
   ],
   "source": [
    "%pylab inline\n",
    "import numpy as np\n",
    "from astropy.table import Table, Column\n",
    "from scipy.optimize import curve_fit\n",
    "from IPython.display import display, Math, Latex\n",
    "from scipy.integrate import odeint, quad\n",
    "plt.style.use('seaborn-whitegrid')"
   ]
  },
  {
   "cell_type": "markdown",
   "metadata": {},
   "source": [
    "### 1.  Two distant galaxies along the same line of sight. Closer galaxy at z = $z_1$, farther at z = $z_2$. Calculate:"
   ]
  },
  {
   "cell_type": "markdown",
   "metadata": {},
   "source": [
    "#### (a) Redshift of the second galaxy if observed from the first galaxy\n",
    "\n",
    "Redshift z is defined by the relation that $1 + z = \\frac{a(t_o)}{a(t_e)}$, where a is the scale factor and $t_o$ and $t_e$ are the times observed and emitted. Because $a(t_o)$ is defined to be 1 at the observer, we can represent $z_1$ and $z_2$ as:\n",
    "\n",
    "(1) $$1 + z_1 = \\frac{1}{a(t_{e1})} \\quad 1 + z_2 = \\frac{1}{a(t_{e2})}$$\n",
    "\n",
    "Then, to determine what the redshift of $z_2$ is from the galaxy at $z_1$, (we'll call this $z'_2$), we can express this as:\n",
    "\n",
    "(2) $$1 + z'_2 = \\frac{a(t_{o @ 1})}{a(t_{e2})}$$\n",
    "\n",
    "In our frame, $a(t_{o @ 1})$ is actually $a(t_{e1})$, which makes the relation with $z'_2$:\n",
    "\n",
    "(3) $$1 + z'_2 = \\frac{a(t_{e1})}{a(t_{e2})}$$\n",
    "\n",
    "From (1) we can see that $a(t_{e1}) = \\frac{1}{1 + z_1}$, so we substitute that in:\n",
    "\n",
    "(4) $$1 + z'_2 = \\frac{1}{(1 + z_1)a(t_{e2})}$$\n",
    "\n",
    "Also pulling from (1) we can see that $a(t_{e2}) = \\frac{1}{1 + z_2}$, and implementing that:\n",
    "\n",
    "(5) $$1 + z'_2 = \\frac{(1 + z_2)}{(1 + z_1)}$$\n",
    "\n",
    "Which gives us that the redshift of the second galaxy from the reference frame of the first is:\n",
    "\n",
    "(6) $$z'_2 = \\frac{(1 + z_2)}{(1 + z_1)} - 1$$"
   ]
  },
  {
   "cell_type": "markdown",
   "metadata": {},
   "source": [
    "#### (b) Flat Universe, $\\Omega_m = 1$ (Einstein-deSitter), calculate angular diameter distances from here to galaxies 1 and 2, and from galaxy 1 to galaxy 2, given $z_1 = 0.5$ and $z_2 = 1.6$\n",
    "\n",
    "Ryden shows, that in a flat universe, the angular diameter distance and proper distance are related such that:\n",
    "\n",
    "(7) $$d_A = \\frac{d_p(t_o)}{1 + z}$$ (Eq. 7.38)\n",
    "\n",
    "Where $d_A$ is the angular diameter distance and $d_p(t_o)$ is the proper distance at the time observed. In class, we showed that the proper distance at $t_o$ is related to the redshift $z$ and the equation-of-state parameter $\\omega$ such that:\n",
    "\n",
    "(8) $$d_p(t_o) = \\frac{c}{H_o}\\frac{2}{1 + 3\\omega}[1 - (1 + z)^{\\frac{-(1 + 3\\omega)}{2}}]$$\n",
    "\n",
    "For a matter only universe, $\\omega = 0$, which reduces the equation to:\n",
    "\n",
    "(9) $$d_p(t_o) = \\frac{2c}{H_o}[1 - \\frac{1}{\\sqrt{1 + z}}] $$\n",
    "\n",
    "Thus, using (7), we can write the angular diameter distance in an Einstein-deSitter universe as:\n",
    "\n",
    "(10) $$d_A = \\frac{2c}{H_o(1+z)}[1 - \\frac{1}{\\sqrt{1 + z}}] $$\n",
    "\n",
    "For simplicity, we will assign the letter $h = \\frac{2c}{H_o}$, and using $H_o = 70 km/Mpc*s$, that means $h = 8542.857143$ Mpc and that:\n",
    "\n",
    "(11) $$d_A = \\frac{h}{(1+z)}[1 - \\frac{1}{\\sqrt{1 + z}}] $$\n",
    "\n",
    "Then, the angular diameter distance for the galaxy at $z_1 = 0.5$ is then:\n",
    "\n",
    "(12) $$d_A(z_1) = \\frac{8542.857143}{(1+0.5)}[1 - \\frac{1}{\\sqrt{1 + 0.5}}] = 1045.096\\:Mpc$$\n",
    "\n",
    "And at $z_2 = 1.6$:\n",
    "\n",
    "(13) $$d_A(z_2) = \\frac{8542.857143}{(1+1.6)}[1 - \\frac{1}{\\sqrt{1 + 1.6}}] = 1248.001 \\:Mpc$$\n",
    "\n",
    "To find the angular diameter distance between the two galaxies, we can use this same formula on $z'_2$ as we discovered in part (a), which now plugging in $z_1$ and $z_2$ means that $z'_2 = 0.733$ and the angular diameter distance is:\n",
    "\n",
    "(14) $$d_A(z'_2) = \\frac{8542.857143}{(1+0.733)}[1 - \\frac{1}{\\sqrt{1 + 0.733}}] = 1184.921\\:Mpc$$"
   ]
  },
  {
   "cell_type": "markdown",
   "metadata": {},
   "source": [
    "#### (c) Comment on the similarity or difference of these distances\n",
    "\n",
    "Clearly, we can see that redshift is not linear, as to us, the galaxies appear to have a difference in angular diameter distance of about 200 Mpc, but from one galaxy to the farther one, the galaxy appears to be over 1000 Mpc away. These distances are all very close to each other, around 1000 Mpc, which makes sense because we are looking at reasonably similar redshifts. However, the redshift of galaxy 2 is over three times the redshift of galaxy 1 and yet it appears only 200 Mpc farther, which is consistent with the growing expansion rate in the universe. Also, looking at the angular diameter distance plot below we can see that in a matter-only universe, angular diameter distance is fairly constant after a certain redshift.\n",
    "\n",
    "<img src=\"da_plot.png\">"
   ]
  },
  {
   "cell_type": "markdown",
   "metadata": {},
   "source": [
    "### 2. Ryden 8.5: Galaxy Merger Rate in the Coma Cluster. \n",
    "#### The Coma Cluster contains approximately N = 1000 galaxies within the half-mass radius $r_h$ = 1.5 Mpc"
   ]
  },
  {
   "cell_type": "markdown",
   "metadata": {},
   "source": [
    "#### (i) Mean Number Density of Galaxies within $r_h$? \n",
    "\n",
    "number density $n = \\frac{N}{V}$ where N is the number of galaxies and V is the total volume. Approximating the cluster as a spherical volume, then:\n",
    "\n",
    "(15) $$V_{r_h} = \\frac{4}{3}\\pi r^3_h $$\n",
    "\n",
    "This gives us a volume of about 14.137 $Mpc^3$. Since N is approximately 1000, the mean number density $n = 70.736 \\:Mpc^{-3}$"
   ]
  },
  {
   "cell_type": "markdown",
   "metadata": {},
   "source": [
    "#### (ii) Typical cross section of a galaxy is $10^{-3} \\: Mpc^2$. How far will a galaxy in the Coma Cluster travel on average, before it collides with another galaxy?\n",
    "\n",
    "The average distance a galaxy (modelled as a particle) will travel before it collides with another is the mean free path:\n",
    "\n",
    "(16) $$ d = \\frac{1}{n_{galaxies}\\sigma_{galaxy}} $$\n",
    "\n",
    "Where $n_{galaxies}$ is the mean number density of galaxies, and $\\sigma_{galaxy}$ is the cross section of a galaxy. Then:\n",
    "\n",
    "(17) $$d = \\frac{1}{70.736 \\:Mpc^{-3}*10^{-3} \\:Mpc^2} = 14.137 \\: Mpc$$"
   ]
  },
  {
   "cell_type": "markdown",
   "metadata": {},
   "source": [
    "#### (iii) The velocity dispersion of the Coma Cluster is approximately $\\sigma = 880 \\:km/s$.  What is the average time between collisions for a galaxy in the Coma Cluster? Is this time greater or less than the Hubble time?\n",
    "\n",
    "The average time $<t>$ between collisions can be determined from the average distance before collision, $<d>$, and the average velocity $<v>$ of galaxies in the cluster, such that $<t> = \\frac{<d>}{<v>}$. Without knowing the average velocity of a galaxy in the cluster, we can instead use the relation between the average velocity and the velocity dispersion, where $<v^2> = 3\\sigma$. This allows us to rewrite the average time such that:\n",
    "\n",
    "(18) $$<t> = \\frac{<d>}{<v>} = \\frac{<d>}{\\sqrt{<v^2>}} = \\frac{<d>}{\\sqrt{3\\sigma}} $$\n",
    "\n",
    "Putting in our numbers we get that:\n",
    "\n",
    "(19) $$<t> = \\frac{14.137\\:Mpc}{3*880\\:km/s} = \\frac{4.362 \\times 10^{20}\\:km}{2640\\:km/s} = 1.75 \\times 10^{17} \\:s = 5.549 \\:Gyr$$\n",
    "\n",
    "This is large, but not larger than the Hubble time, which is 14.4 Gyr. Therefore, we should expect that galaxies in the Coma Cluster have collided during the existence of the Universe, providing the Coma Cluster is older than 5.549 Gyr."
   ]
  },
  {
   "cell_type": "markdown",
   "metadata": {},
   "source": [
    "#### (iv) Compare this with the collision time between Andromeda and the Milky Way. Andromeda is 700 kpc away and moving towards us at 120 km/s.\n",
    "\n",
    "In our frame of reference, we are not moving at all but Andromeda is moving towards us, so using this distance and speed we should be able to calculate a collision time:\n",
    "\n",
    "(20) $$t = \\frac{d}{v} = \\frac{700\\:kpc}{120\\:km/s} = \\frac{2.16\\times 10^{19}\\:km}{120\\:km/s} = 1.8\\times10^{17} \\:s = 5.708 \\:Gyr$$\n",
    "\n",
    "Since this number is similar to the average collision time in the Coma Cluster, this seems to imply a fairly standard collision time amongst similarly sized and spaced galaxies, which is consistent with the gravitational forces between them."
   ]
  },
  {
   "cell_type": "code",
   "execution_count": null,
   "metadata": {
    "collapsed": true
   },
   "outputs": [],
   "source": []
  }
 ],
 "metadata": {
  "kernelspec": {
   "display_name": "Python [Root]",
   "language": "python",
   "name": "Python [Root]"
  },
  "language_info": {
   "codemirror_mode": {
    "name": "ipython",
    "version": 2
   },
   "file_extension": ".py",
   "mimetype": "text/x-python",
   "name": "python",
   "nbconvert_exporter": "python",
   "pygments_lexer": "ipython2",
   "version": "2.7.11"
  }
 },
 "nbformat": 4,
 "nbformat_minor": 0
}
