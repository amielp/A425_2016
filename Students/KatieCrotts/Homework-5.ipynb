{
 "cells": [
  {
   "cell_type": "markdown",
   "metadata": {},
   "source": [
    "# Homework 5"
   ]
  },
  {
   "cell_type": "code",
   "execution_count": 4,
   "metadata": {
    "collapsed": true
   },
   "outputs": [],
   "source": [
    "import numpy as np\n",
    "import matplotlib.pyplot as plt\n",
    "from scipy.integrate import odeint\n",
    "import scipy.special as special\n",
    "import astropy.units as u\n",
    "import warnings\n",
    "from scipy.integrate import quad\n",
    "from sympy import *\n",
    "import scipy.integrate as integ\n",
    "%matplotlib inline\n",
    "warnings.filterwarnings('ignore')"
   ]
  },
  {
   "cell_type": "markdown",
   "metadata": {},
   "source": [
    "## Question 1:"
   ]
  },
  {
   "cell_type": "markdown",
   "metadata": {},
   "source": [
    "For this problem, we need Friedmann's Equation: $H(t) = H_0 \\cdot \\sqrt{\\Omega_r \\cdot (a)^{-4} + \\Omega_m \\cdot (a)^{-3} + \\Omega_\\Lambda + (1-\\Omega_0) \\cdot (a)^{-2}}$"
   ]
  },
  {
   "cell_type": "markdown",
   "metadata": {},
   "source": [
    "Where $\\Omega_0 = \\Omega_r + \\Omega_m + \\Omega_\\Lambda$"
   ]
  },
  {
   "cell_type": "markdown",
   "metadata": {},
   "source": [
    "We will also need the equation $H(t)=\\large\\frac{a'(t)}{a(t)}$ to solve for a(t) in terms of t."
   ]
  },
  {
   "cell_type": "markdown",
   "metadata": {},
   "source": [
    "### a) Loitering Universe"
   ]
  },
  {
   "cell_type": "markdown",
   "metadata": {},
   "source": [
    "A Loitering Universe is one that is between a \"Big Bounce\" and a \"Big Chill\" universe."
   ]
  },
  {
   "cell_type": "markdown",
   "metadata": {},
   "source": [
    "For this problem, I am going to set $\\Omega_r = 0$, $\\Omega_m = .3$ and $\\Omega_\\Lambda = 1.7134$ (from Ryden pg. 116) which gives $\\Omega_0 = 2.0134$."
   ]
  },
  {
   "cell_type": "code",
   "execution_count": 280,
   "metadata": {
    "collapsed": true
   },
   "outputs": [],
   "source": [
    "def H(O_l, at):\n",
    "    h = 70*(3.15e16/3e19)\n",
    "    O_r = 0\n",
    "    O_m = .3\n",
    "    O_0 = 2.0134\n",
    "    result = h*((O_r*(at**-4) + O_m*(at**-3) + O_l + (1-O_0)*(at**-2))**.5)\n",
    "    return result"
   ]
  },
  {
   "cell_type": "code",
   "execution_count": 281,
   "metadata": {
    "collapsed": false
   },
   "outputs": [],
   "source": [
    "def time(O_l, a1, a2): \n",
    "    at = np.linspace(a1, a2, 1000)\n",
    "    xs = lambda a: (H(O_l, a)*a)**(-1.0) \n",
    "    t = np.asarray([quad(xs, a1, i)[0] for i in at])\n",
    "    return t"
   ]
  },
  {
   "cell_type": "code",
   "execution_count": 282,
   "metadata": {
    "collapsed": false
   },
   "outputs": [
    {
     "data": {
      "text/plain": [
       "<matplotlib.text.Text at 0x135c8da0>"
      ]
     },
     "execution_count": 282,
     "metadata": {},
     "output_type": "execute_result"
    },
    {
     "data": {
      "image/png": "[encoded data removed]",
      "text/plain": [
       "<matplotlib.figure.Figure at 0x135ee048>"
      ]
     },
     "metadata": {},
     "output_type": "display_data"
    }
   ],
   "source": [
    "ax = plt.subplot(111)    \n",
    "ax.spines[\"top\"].set_visible(False)    \n",
    "ax.spines[\"bottom\"].set_visible(True)    \n",
    "ax.spines[\"right\"].set_visible(False)    \n",
    "ax.spines[\"left\"].set_visible(True)\n",
    "ax.get_xaxis().tick_bottom()    \n",
    "ax.get_yaxis().tick_left()\n",
    "#ax.grid(True)\n",
    "ax.spines['bottom'].set_color('grey')\n",
    "ax.tick_params(axis='x', colors='grey')\n",
    "ax.spines['left'].set_color('grey')\n",
    "ax.tick_params(axis='y', colors='grey')\n",
    "\n",
    "ys = np.linspace(0.000001, 2.0, 1000)\n",
    "variable = time(1.7134,.000001, 2.0)\n",
    "plt.plot(variable , ys)\n",
    "fig = plt.gcf()\n",
    "fig.set_size_inches(8, 5)\n",
    "plt.xlabel('t (Gyr)')\n",
    "plt.ylabel('a(t) (km/Mpc)')\n",
    "plt.title('Loitering Universe')"
   ]
  },
  {
   "cell_type": "markdown",
   "metadata": {},
   "source": [
    "Here we see that in this universe, a(t) stays about constant for a long time, until it starts growing very quickly."
   ]
  },
  {
   "cell_type": "markdown",
   "metadata": {
    "collapsed": true
   },
   "source": [
    "### b) Big Crunch Universe"
   ]
  },
  {
   "cell_type": "markdown",
   "metadata": {},
   "source": [
    "The Big Crunch Universe is when the universe expands to a certain point, and then collapses."
   ]
  },
  {
   "cell_type": "markdown",
   "metadata": {},
   "source": [
    "For this problem, I am going to set $\\Omega_r = 0$, $\\Omega_m = 1.5$ and $\\Omega_\\Lambda = 0$ which gives $\\Omega_0 = 1.5$."
   ]
  },
  {
   "cell_type": "code",
   "execution_count": 278,
   "metadata": {
    "collapsed": true
   },
   "outputs": [],
   "source": [
    "def H(O_l, at):\n",
    "    h = 70*(3.15e16/3e19)\n",
    "    O_r = 0\n",
    "    O_m = 1.5\n",
    "    O_0 = 1.5\n",
    "    result = h*((O_r*(at**-4) + O_m*(at**-3) + O_l + (1-O_0)*(at**-2))**.5)\n",
    "    return result\n",
    "\n",
    "def time(O_l, a1, a2): \n",
    "    at = np.linspace(a1, a2, 1000)\n",
    "    xs = lambda a: (H(O_l, a)*a)**(-1.0) \n",
    "    t = np.asarray([quad(xs, a1, i)[0] for i in at])\n",
    "    return t"
   ]
  },
  {
   "cell_type": "code",
   "execution_count": 279,
   "metadata": {
    "collapsed": false
   },
   "outputs": [
    {
     "data": {
      "text/plain": [
       "<matplotlib.text.Text at 0x15666400>"
      ]
     },
     "execution_count": 279,
     "metadata": {},
     "output_type": "execute_result"
    },
    {
     "data": {
      "image/png": "[encoded data removed]",
      "text/plain": [
       "<matplotlib.figure.Figure at 0x135d35f8>"
      ]
     },
     "metadata": {},
     "output_type": "display_data"
    }
   ],
   "source": [
    "ax = plt.subplot(111)    \n",
    "ax.spines[\"top\"].set_visible(False)    \n",
    "ax.spines[\"bottom\"].set_visible(True)    \n",
    "ax.spines[\"right\"].set_visible(False)    \n",
    "ax.spines[\"left\"].set_visible(True)\n",
    "ax.get_xaxis().tick_bottom()    \n",
    "ax.get_yaxis().tick_left()\n",
    "#ax.grid(True)\n",
    "ax.spines['bottom'].set_color('grey')\n",
    "ax.tick_params(axis='x', colors='grey')\n",
    "ax.spines['left'].set_color('grey')\n",
    "ax.tick_params(axis='y', colors='grey')\n",
    "\n",
    "\n",
    "ys = linspace(.000001, 3.0, 1000)\n",
    "variable = time(0, .000001, 3.0)\n",
    "plt.plot(variable, ys)\n",
    "part2 = variable[999]*2.0\n",
    "plt.plot(part2 - variable, ys, color = 'b')\n",
    "fig = plt.gcf()\n",
    "fig.set_size_inches(8, 5)\n",
    "plt.xlabel('t (Gyr)')\n",
    "plt.ylabel('a(t) (km/Mpc)')\n",
    "plt.title('Scale Factor a(t) vs Time')"
   ]
  },
  {
   "cell_type": "markdown",
   "metadata": {},
   "source": [
    "Here, we can see that universe starts out expanding very quickly, until it reaches a maximum time and scale factor, and then sadly collapses."
   ]
  },
  {
   "cell_type": "markdown",
   "metadata": {},
   "source": [
    "## Question 2:"
   ]
  },
  {
   "cell_type": "markdown",
   "metadata": {},
   "source": [
    "For this problem, we want to show that velocity dispersion is related to angle of arc of an einstein ring through the equation $\\normalsize\\sigma_v \\approx \\small10^3 kms^{-1}\\left(\\large\\frac{\\theta}{28\"} \\frac{D_S}{D_{LS}}\\right)^{\\frac{1}{2}}$"
   ]
  },
  {
   "cell_type": "markdown",
   "metadata": {},
   "source": [
    "Where the density profile of an isothermal sphere is $\\rho(r) = \\large\\frac{\\Large\\sigma_v^2}{2\\pi G r^2}$"
   ]
  },
  {
   "cell_type": "markdown",
   "metadata": {
    "collapsed": true
   },
   "source": [
    "We know that the deflection angle is $\\tilde{\\alpha} = \\large\\frac{4GM(r)}{c^2 r}$. \n",
    "Using the equation for the density profile, we can get the surface mass density, $\\Sigma(r) = \\large\\frac{\\sigma_v^2}{2Gr}$.\n",
    "We can define the mass for a sphere as $M = 2\\pi\\int_0^r r'\\cdot \\Sigma(r') \\, \\mathrm{d} r\\\\ = \\large\\frac{\\pi \\sigma_v^2 r}{G}\\\\ \\therefore \\tilde{\\alpha} = \\large\\frac{4\\pi \\sigma_v^2}{c^2}$ "
   ]
  },
  {
   "cell_type": "markdown",
   "metadata": {},
   "source": [
    "We can get the observed angle $\\alpha$, where $\\alpha = \\large\\frac{D_{LS}}{D_S D_L}\\frac{4GM}{c^2 \\theta}$, using the relationship $\\alpha = \\large\\frac{D_{LS}}{D_S}\\normalsize\\tilde\\alpha\\\\ \\therefore \\alpha = \\large\\frac{D_{LS}}{D_S}\\frac{4\\pi \\sigma_v^2}{c^2} \\normalsize\\equiv \\theta_E$"
   ]
  },
  {
   "cell_type": "markdown",
   "metadata": {},
   "source": [
    "Moving terms around, we get $\\normalsize\\sigma_v^2 \\approx \\large\\frac{c^2 \\theta_E}{4\\pi}\\frac{D_S}{D_{LS}}$"
   ]
  },
  {
   "cell_type": "markdown",
   "metadata": {},
   "source": [
    "For a value of $\\sigma_v = 10^3kms^{-1} \\to \\left(\\large\\frac{\\sigma_v}{10^3kms^{-1}}\\right)^2 \\approx \\large\\frac{\\theta_E}{28\"}\\frac{D_S}{D_{LS}}\\\\ \\to \\normalsize\\sigma_v \\approx \\small10^3kms^{-1} \\large\\sqrt{\\frac{\\theta_E}{28\"}\\frac{D_S}{D_{LS}}}$"
   ]
  },
  {
   "cell_type": "markdown",
   "metadata": {},
   "source": [
    "The 28\" comes from $4\\pi\\large\\frac{(10^3kms^{-1})^2}{c^2}$ where $4\\pi$ is converted from radians to arcseconds and c is $3x10^5 kms^{-1}$."
   ]
  },
  {
   "cell_type": "code",
   "execution_count": null,
   "metadata": {
    "collapsed": true
   },
   "outputs": [],
   "source": []
  }
 ],
 "metadata": {
  "anaconda-cloud": {},
  "kernelspec": {
   "display_name": "Python [conda root]",
   "language": "python",
   "name": "conda-root-py"
  },
  "language_info": {
   "codemirror_mode": {
    "name": "ipython",
    "version": 2
   },
   "file_extension": ".py",
   "mimetype": "text/x-python",
   "name": "python",
   "nbconvert_exporter": "python",
   "pygments_lexer": "ipython2",
   "version": "2.7.12"
  }
 },
 "nbformat": 4,
 "nbformat_minor": 1
}
