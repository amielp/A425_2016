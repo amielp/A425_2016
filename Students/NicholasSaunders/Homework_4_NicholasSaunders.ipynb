{
 "cells": [
  {
   "cell_type": "markdown",
   "metadata": {},
   "source": [
    "# **Nicholas Saunders**\n",
    "**Astronomy 425**  \n",
    "**Homework 4, Part 1**"
   ]
  },
  {
   "cell_type": "markdown",
   "metadata": {},
   "source": [
    "**Problem 1**  \n",
    "**(a)**\n",
    "\n",
    "First, I'll define the given redshifts for the two galaxies, and the equation for redshift as a function of $\\lambda_o$ and $\\lambda_e$:\n",
    "\n",
    "Galaxy 1: z = 0.5  \n",
    "Galaxy 2: z = 1.6\n",
    "\n",
    "$z = \\frac{\\lambda_o-\\lambda_e}{\\lambda_e} = \\frac{\\lambda_o}{\\lambda_e} + 1 \\rightarrow \\lambda_o=(1+z)\\lambda_e,\\quad z_1 = \\frac{\\lambda_{o,1}-\\lambda_{e,1}}{\\lambda_{e,1}},\\quad z_2 = \\frac{\\lambda_{o,2}-\\lambda_{e,2}}{\\lambda_{e,2}}$\n",
    "\n",
    "The value for $\\lambda_o$ for galaxy 2 as measured in galaxy 1 ($\\lambda_{o,1,2}$) will be equal to $\\lambda_{e,1}$ because they are in the same location:\n",
    "\n",
    "$\\lambda_{o,1,2}=\\lambda_{e,1}$\n",
    "\n",
    "Now, taking the emitted $\\lambda$ of galaxy 2, $\\lambda_{e,2}$, and using the values for $z_1$ and $z_2$ given above, we can solve for $z_{1,2}$, which will give the redshift of galaxy 2 observed at galaxy 1:\n",
    "\n",
    "$z_{1,2} = \\frac{\\lambda_{o,1,2}-\\lambda_{e,2}}{\\lambda_{e,2}}=\\frac{1+z_2}{1+z_1}-1$\n",
    "\n",
    "Solving for the redshift of galaxy 2 as observed by galaxy 1 yields\n",
    "\n",
    "$z_{1,2} = \\frac{1+1.6}{1+0.5}-1 = \\boxed{0.733}$."
   ]
  },
  {
   "cell_type": "markdown",
   "metadata": {},
   "source": [
    "**(b)**  \n",
    "Angular diameter distance is given by the relation\n",
    "\n",
    "$d_A=\\frac{\\mathscr{l}}{\\delta\\theta}$.\n",
    "\n",
    "Starting from the Robertson-Walker metric and assuming $d\\phi=0$,\n",
    "\n",
    "$ds = a(t_e)S_\\kappa(r)d\\theta \\rightarrow \\mathscr{l}=\\int ds = a(t_e)S_\\kappa(r)\\theta$\n",
    "\n",
    "$\\mathscr{l}=\\frac{S_\\kappa(r)}{1+z}\\theta$\n",
    "\n",
    "$\\rightarrow d_A = \\frac{S_\\kappa(r)}{1+z}=\\frac{d_L}{(1+z)^2}$.\n",
    "\n",
    "For a flat universe,\n",
    "\n",
    "$d_A = \\frac{d_p(t_0)}{1+z}=d_p(t_e)$\n",
    "\n",
    "and assuming matter only ($\\Omega_m=1$),\n",
    "\n",
    "$d_A=d_p(t_e)=\\frac{2c}{H_0(1+z)}\\left[1-\\frac{1}{\\sqrt{1+z}}\\right]$."
   ]
  },
  {
   "cell_type": "code",
   "execution_count": 6,
   "metadata": {
    "collapsed": false
   },
   "outputs": [
    {
     "name": "stdout",
     "output_type": "stream",
     "text": [
      "Angular diameter distance to galaxy 1 (z=0.5): 1048.59 Mpc\n",
      "Angular diameter distance to galaxy 2 (z=1.6): 1252.17 Mpc\n",
      "Angular diameter distance from galaxy 1 to galaxy 2 (z=0.733): 1188.88 Mpc\n"
     ]
    },
    {
     "data": {
      "image/png": "[encoded data removed]",
      "text/plain": [
       "<matplotlib.figure.Figure at 0x109f09ef0>"
      ]
     },
     "metadata": {},
     "output_type": "display_data"
    }
   ],
   "source": [
    "import numpy as np\n",
    "import matplotlib.pyplot as pl\n",
    "%matplotlib inline\n",
    "\n",
    "z1 = 0.5\n",
    "z2 = 1.6\n",
    "z12 = 0.733\n",
    "H0 = 70 / 3.09e19 # hubble constant in s^-1\n",
    "c = 3e8  # speed of light in m/s\n",
    "\n",
    "# returns angular diameter distance in meters\n",
    "def d_A(z):\n",
    "    return ((2 * c) / (H0 * (1 + z))) * (1 - 1 / np.sqrt(1 + z))\n",
    "\n",
    "d1 = d_A(z1)\n",
    "d2 = d_A(z2)\n",
    "d12 = d_A(z12)\n",
    "\n",
    "print(\"Angular diameter distance to galaxy 1 (z=0.5): %.2f Mpc\" % (d1 / 3.09e22))\n",
    "print(\"Angular diameter distance to galaxy 2 (z=1.6): %.2f Mpc\" % (d2 / 3.09e22))\n",
    "print(\"Angular diameter distance from galaxy 1 to galaxy 2 (z=0.733): %.2f Mpc\" % (d12 / 3.09e22))\n",
    "\n",
    "z = np.linspace(0,6,100)\n",
    "\n",
    "pl.scatter(z1,(H0 / c) * d1);\n",
    "pl.scatter(z2,(H0 / c) * d2);\n",
    "pl.scatter(z12,(H0 / c) * d12);\n",
    "p1 = pl.plot(z,(H0 / c) * d_A(z),'r-.');\n",
    "pl.axis([0,6,0,0.35]);\n",
    "pl.xlabel('z');\n",
    "pl.ylabel('$\\\\left(\\\\frac{H_0}{c}\\\\right)d_A$');\n",
    "pl.legend((p1),('$\\\\frac{2c}{H_0(1+z)}\\\\left[1-\\\\frac{1}{\\\\sqrt{1+z}}\\\\right]$',),shadow='true');\n",
    "pl.tight_layout();"
   ]
  },
  {
   "cell_type": "markdown",
   "metadata": {},
   "source": [
    "**(c)**  \n",
    "Despite having a difference in redshift by a factor of greater than 3, the difference in angular diameter distance is relatively small. This is due to the shape of the angular diameter as a function of redshift. For a matter-only universe, $d_A$ will plateau at ~ z=1, then drop off gradually with increasing z (I plotted $\\frac{H_0}{c}d_A$ vs. z to show its shape). "
   ]
  },
  {
   "cell_type": "markdown",
   "metadata": {},
   "source": [
    "**Problem 2**"
   ]
  },
  {
   "cell_type": "markdown",
   "metadata": {
    "collapsed": true
   },
   "source": [
    "$r_h \\approx 1.5$ Mpc  \n",
    "$N \\approx 1000$ galaxies within $r_h$  \n",
    "$\\Sigma \\approx 10^{-3}$ Mpc$^{2}$  \n",
    "$\\sigma \\approx 880$ km s$^{-1}$  \n",
    "\n",
    "$V_h = \\frac{4}{3}\\pi r_h^3$  \n",
    "density = $\\frac{Galaxies}{Volume} = \\frac{3N}{4\\pi r_h^3}$"
   ]
  },
  {
   "cell_type": "code",
   "execution_count": 7,
   "metadata": {
    "collapsed": false
   },
   "outputs": [
    {
     "name": "stdout",
     "output_type": "stream",
     "text": [
      "Mean number density of galaxies within the half-mass radius: 70.74 Galaxies/Mpc\n"
     ]
    }
   ],
   "source": [
    "r_h = 1.5 # Mpc\n",
    "N = 1000 # galaxies within r_h\n",
    "sigma = 1e-3 # Mpc^2\n",
    "v_d = 880 # km s^-1\n",
    "rho = (3 * N) / (4 * np.pi * r_h**3)\n",
    "print('Mean number density of galaxies within the half-mass radius: %.2f Galaxies/Mpc' % rho)"
   ]
  },
  {
   "cell_type": "markdown",
   "metadata": {},
   "source": [
    "$d = \\frac{1}{\\rho_{galaxy}\\Sigma}$  \n",
    "for $\\rho_{galaxy}$: mean number density of galaxies within $r_h$."
   ]
  },
  {
   "cell_type": "code",
   "execution_count": 3,
   "metadata": {
    "collapsed": false
   },
   "outputs": [
    {
     "name": "stdout",
     "output_type": "stream",
     "text": [
      "On average, a galaxy in the coma cluster will travel 14.14 Mpc before a collision.\n"
     ]
    }
   ],
   "source": [
    "d = 1.0 / (rho * sigma)\n",
    "print('On average, a galaxy in the coma cluster will travel %.2f Mpc before a collision.' % d)"
   ]
  },
  {
   "cell_type": "markdown",
   "metadata": {},
   "source": [
    "$t = \\frac{d}{\\sigma}$"
   ]
  },
  {
   "cell_type": "code",
   "execution_count": 4,
   "metadata": {
    "collapsed": false
   },
   "outputs": [
    {
     "name": "stdout",
     "output_type": "stream",
     "text": [
      "Average time between collisions in the Coma cluster: 15.76 Gyr\n"
     ]
    }
   ],
   "source": [
    "v_d_gyr = v_d * (3.15e16 / 3.09e19) # convert to Mpc/Gyr\n",
    "t = d / v_d_gyr\n",
    "print('Average time between collisions in the Coma cluster: %.2f Gyr' % t)"
   ]
  },
  {
   "cell_type": "markdown",
   "metadata": {},
   "source": [
    "The average time between collisions in the Coma cluster ~15.76 Gyr, which is longer than the Hubble time by almost 2 Gyr.\n",
    "\n",
    "$d_A = 700$ kpc  \n",
    "$v_A = 120$ km s$^{-1}$\n",
    "\n",
    "$t = \\frac{d_A}{v_A}$"
   ]
  },
  {
   "cell_type": "code",
   "execution_count": 8,
   "metadata": {
    "collapsed": false
   },
   "outputs": [
    {
     "name": "stdout",
     "output_type": "stream",
     "text": [
      "Andromeda will collide with the Milky Way in ~5.72 Gyr\n"
     ]
    }
   ],
   "source": [
    "d_A = 700 * 3.09e19 # distance to Andromeda in m\n",
    "v_A = 120 * 1000 # relative velocity of Andromeda in m/s\n",
    "\n",
    "t_s = (d_A / v_A) # time until collision in seconds\n",
    "t = t_s / 3.15e16 # converting from seconds to Gyr\n",
    "print('Andromeda will collide with the Milky Way in ~%.2f Gyr' % t)"
   ]
  },
  {
   "cell_type": "markdown",
   "metadata": {},
   "source": [
    "The time until Andromeda collides with the Milky Way is ~ 5.72 Gyr. When added to the age of Andromeda, the result is roughly 14.7 Gyr, which offers an estimate for the total collision time of the two galaxies (there are obvious issues with this estimate but it offers an order of magnitude for comparison). The total collision time between Andromeda and the Milky Way is reasonably close to the collision time for galaxies is the Coma cluster."
   ]
  },
  {
   "cell_type": "code",
   "execution_count": null,
   "metadata": {
    "collapsed": true
   },
   "outputs": [],
   "source": []
  }
 ],
 "metadata": {
  "kernelspec": {
   "display_name": "Python 3",
   "language": "python",
   "name": "python3"
  },
  "language_info": {
   "codemirror_mode": {
    "name": "ipython",
    "version": 3
   },
   "file_extension": ".py",
   "mimetype": "text/x-python",
   "name": "python",
   "nbconvert_exporter": "python",
   "pygments_lexer": "ipython3",
   "version": "3.5.1"
  }
 },
 "nbformat": 4,
 "nbformat_minor": 0
}
