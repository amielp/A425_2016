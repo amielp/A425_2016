{
 "cells": [
  {
   "cell_type": "code",
   "execution_count": 3,
   "metadata": {
    "collapsed": false
   },
   "outputs": [
    {
     "name": "stdout",
     "output_type": "stream",
     "text": [
      "type any image name here:  hstphoto\n",
      "1701 1701\n",
      "2405.577269596635\n"
     ]
    }
   ],
   "source": [
    "from PIL import Image\n",
    "file_locate = ''\n",
    "image_name = input(\"type any image name here:  \")    # for example I used \"  hs-2006-17-c-full_jpg.jpg  \"\n",
    "#file_locate = \"C:\" + \"\\\\\" + \"Users\" + \"\\\\\" +  \"justin\" + \"\\\\\" + \"Pictures\" + \"\\\\\"\n",
    "final_name = file_locate + image_name + \".jpg\"\n",
    "img = Image.open(final_name)\n",
    "pix = img.load()\n",
    "\n",
    "img.show()\n",
    "\n",
    "hor = img.size[0]\n",
    "ver = img.size[1]\n",
    "print(hor , ver)\n",
    "obs_img = Image.new( 'RGB', (hor,ver), \"black\") # create a new black image\n",
    "obs = obs_img.load() # create the pixel map\n",
    "\n",
    "radius = (hor ** 2 + ver ** 2) ** 0.5\n",
    "print(radius)\n",
    "\n",
    "for x_test in range(0 , hor):    # testing obs pixels\n",
    "    for y_test in range(0 , ver):\n",
    "        x_rel = (x_test - (hor/2))      # coordinates are relative to center (250 , 250)\n",
    "        y_rel = (y_test - (ver/2))\n",
    "        \n",
    "        T = ((x_rel)**2 + (y_rel)**2) ** 0.5   # lens function\n",
    "        if T == 0:\n",
    "            print(x_rel , y_rel)\n",
    "            break\n",
    "        B = abs(T - ((30 * radius)/T))       #50000 is convinient Einstein Radius for the display\n",
    "        dist = (B/T)     # dist: is ratio describing the particles change in distance from the center (250 , 250)\n",
    "        pix_x = int((hor/2) + (x_rel * dist))\n",
    "        pix_y = int((ver/2) + (y_rel * dist))\n",
    "        if pix_x > (hor - 1) or pix_x < 1:\n",
    "            pix_x = 1\n",
    "        if pix_y > (ver - 1) or pix_y < 1:\n",
    "            pix_y = 1\n",
    "        rgb_val = pix[pix_x , pix_y]        #checks if lensed pixel operated upon by \"dist\" produces a source image pixel\n",
    "        obs[x_test , y_test] = rgb_val   # blue\n",
    "\n",
    "\n",
    "\n",
    "obs_img.show()\n",
    "obs_img.save(image_name + 'g' + '.jpg' , 'jpeg')\n",
    "obs_img.close()\n",
    "\n",
    "# produces 2 pictures. First is the source image along with the lensed image and the second is just the lensed image. \n",
    "# Source image is white\n",
    "\n",
    "# C:\\Users\\justin\\Pictures\\"
   ]
  },
  {
   "cell_type": "code",
   "execution_count": 51,
   "metadata": {
    "collapsed": false
   },
   "outputs": [
    {
     "name": "stdout",
     "output_type": "stream",
     "text": [
      " Volume in drive C is OS\n",
      " Volume Serial Number is C0B6-74F0\n",
      "\n",
      " Directory of C:\\Users\\justin\\Documents\\GitHub\\A425_2016\\Students\\justinDirectory\n",
      "\n",
      "11/29/2016  06:19 PM    <DIR>          .\n",
      "11/29/2016  06:19 PM    <DIR>          ..\n",
      "11/29/2016  06:11 PM    <DIR>          .ipynb_checkpoints\n",
      "03/27/2016  07:21 PM            49,786 ac76a11a64f182187b27ff066d5a6ba7.jpg\n",
      "11/28/2016  08:33 PM             7,659 Access email.ipynb\n",
      "11/28/2016  08:33 PM           761,370 David2517Update.json\n",
      "11/28/2016  08:33 PM         4,779,508 hs-2006-17-c-full_jpg (1).jpg\n",
      "11/28/2016  08:33 PM         4,779,508 hs-2006-17-c-full_jpg.jpg\n",
      "11/29/2016  06:16 PM           710,744 hstphotog.jpg\n",
      "11/29/2016  06:18 PM           745,169 hstphotogg.jpg\n",
      "11/28/2016  08:33 PM                69 hw4p3.png\n",
      "11/28/2016  08:33 PM             6,148 HW_4 part 3.ipynb\n",
      "11/29/2016  04:12 AM             3,289 HW_4.3_grav_lensing.ipynb\n",
      "11/28/2016  08:33 PM    <DIR>          IGM J1059+2517 - jutnlife@gmail.com - Gmail_files\n",
      "11/28/2016  08:33 PM         2,088,975 IGM J1059+2517final.html\n",
      "11/28/2016  08:33 PM            73,472 IGM_JSON_DOUG-Copy1.ipynb\n",
      "11/28/2016  08:33 PM            78,761 IGM_JSON_DOUG.ipynb\n",
      "11/28/2016  08:33 PM           849,892 IGM_model_final1.json\n",
      "11/28/2016  08:33 PM           851,295 IGM_model_master.json\n",
      "11/29/2016  06:13 PM             2,565 image_lenser-other.ipynb\n",
      "11/29/2016  06:19 PM             6,858 image_lenser.ipynb\n",
      "11/28/2016  08:33 PM             1,814 Integrator.ipynb\n",
      "11/28/2016  08:33 PM         2,092,207 ipython notebook - jutnlife@gmail.com - Gmail.html\n",
      "11/28/2016  08:33 PM    <DIR>          ipython notebook - jutnlife@gmail.com - Gmail_files\n",
      "11/29/2016  03:47 AM            29,255 jin.jpg\n",
      "11/29/2016  05:31 PM           183,460 jos1g\n",
      "11/29/2016  05:35 PM           183,460 jos1g.jpg\n",
      "11/29/2016  05:36 PM           142,206 jos2g.jpg\n",
      "09/28/2016  04:49 PM                27 justin_homework1\n",
      "11/28/2016  08:33 PM            83,316 Justin_Homework_2_Revised.ipynb\n",
      "11/28/2016  08:33 PM           107,496 Justin_HW3_draft.ipynb\n",
      "11/13/2016  10:59 PM             8,889 Justin_HW4.ipynb\n",
      "11/28/2016  08:33 PM            84,461 Justin_IGM_J1059+2517.ipynb\n",
      "11/29/2016  04:12 AM             2,363 lensed image attempt.ipynb\n",
      "11/28/2016  08:33 PM    <DIR>          Master J1059+2517 spectrum analysis - jutnlife@gmail.com - Gmail_files\n",
      "11/28/2016  08:33 PM    <DIR>          meeeeeeee - jutnlife@gmail.com - Gmail_files\n",
      "09/06/2015  05:47 AM           137,146 phototest.jpg\n",
      "11/29/2016  06:11 PM            84,984 sammyg.jpg\n",
      "11/28/2016  08:33 PM             1,792 Scam analyzer.ipynb\n",
      "09/28/2016  02:07 PM                 7 test again\n",
      "11/28/2016  08:33 PM             3,155 testing grounds.ipynb\n",
      "11/28/2016  08:33 PM             1,499 Untitled.ipynb\n",
      "11/28/2016  08:33 PM             3,452 Untitled1.ipynb\n",
      "11/28/2016  08:33 PM             1,295 Untitled2.ipynb\n",
      "11/28/2016  08:33 PM             3,064 Untitled3.ipynb\n",
      "              38 File(s)     18,950,416 bytes\n",
      "               7 Dir(s)  818,183,491,584 bytes free\n"
     ]
    }
   ],
   "source": [
    "!dir\n"
   ]
  },
  {
   "cell_type": "code",
   "execution_count": null,
   "metadata": {
    "collapsed": true
   },
   "outputs": [],
   "source": []
  }
 ],
 "metadata": {
  "anaconda-cloud": {},
  "kernelspec": {
   "display_name": "Python [conda root]",
   "language": "python",
   "name": "conda-root-py"
  },
  "language_info": {
   "codemirror_mode": {
    "name": "ipython",
    "version": 3
   },
   "file_extension": ".py",
   "mimetype": "text/x-python",
   "name": "python",
   "nbconvert_exporter": "python",
   "pygments_lexer": "ipython3",
   "version": "3.5.2"
  }
 },
 "nbformat": 4,
 "nbformat_minor": 1
}
