{
 "cells": [
  {
   "cell_type": "markdown",
   "metadata": {},
   "source": [
    "# Homework 4: Part 1"
   ]
  },
  {
   "cell_type": "code",
   "execution_count": 1,
   "metadata": {
    "collapsed": true
   },
   "outputs": [],
   "source": [
    "import numpy as np\n",
    "import matplotlib.pyplot as plt\n",
    "from scipy.integrate import odeint\n",
    "import scipy.special as special\n",
    "import astropy.units as u\n",
    "import warnings\n",
    "from scipy.integrate import quad\n",
    "from scipy.optimize import fsolve\n",
    "from sympy import *\n",
    "import scipy.integrate as integ\n",
    "%matplotlib inline\n",
    "warnings.filterwarnings('ignore')"
   ]
  },
  {
   "cell_type": "markdown",
   "metadata": {},
   "source": [
    "### Question 1: "
   ]
  },
  {
   "cell_type": "markdown",
   "metadata": {},
   "source": [
    "#### a)"
   ]
  },
  {
   "cell_type": "markdown",
   "metadata": {},
   "source": [
    "$1+z = \\frac{a(t_0)}{a(t_e)}$ where $a(t_0)$ is the scale factor when the light is observed, and $a(t_e)$ is the scale factor when the light is emitted. "
   ]
  },
  {
   "cell_type": "markdown",
   "metadata": {},
   "source": [
    "Therefore, $1 + z_1 = \\frac{1}{a(t_1)}$\n",
    "and \n",
    "$1 + z_2 = \\frac{1}{a(t_2)}$"
   ]
  },
  {
   "cell_type": "markdown",
   "metadata": {},
   "source": [
    "To get the redshift between the two galaxies, we will want to divide the two equations about so that we get $1 + Z = \\frac{a(t_1)}{a(t_2)}$."
   ]
  },
  {
   "cell_type": "markdown",
   "metadata": {},
   "source": [
    "Doing this we get $1 + Z = \\frac{1 + z_2}{1 + z_1}$, and therefore $Z = \\frac{1 + z_2}{1 + z_1} - 1$"
   ]
  },
  {
   "cell_type": "markdown",
   "metadata": {},
   "source": [
    "#### b)"
   ]
  },
  {
   "cell_type": "markdown",
   "metadata": {},
   "source": [
    "To calculate the angular diameter distance we will need the equations:"
   ]
  },
  {
   "cell_type": "markdown",
   "metadata": {},
   "source": [
    "$(\\frac{H(z)}{H_0})^2 = \\Omega_{r,0} \\cdot (1+z)^4 + \\Omega_{M,0} \\cdot (1+z)^3 + \\Omega_{\\Lambda,0} + (1 - \\Omega_0) \\cdot (1+z)^2$ with $\\Omega_{r,0}=0, \\Omega_{\\Lambda,0}=0, \\Omega_{M,0}=1, \\Omega_0=1$"
   ]
  },
  {
   "cell_type": "markdown",
   "metadata": {},
   "source": [
    "$r(z) = c \\cdot \\int \\frac{dz}{H(z)}$ for 0 to z."
   ]
  },
  {
   "cell_type": "markdown",
   "metadata": {},
   "source": [
    "and $d_A = \\frac{r}{1 + z}$ for a flat universe."
   ]
  },
  {
   "cell_type": "code",
   "execution_count": 2,
   "metadata": {
    "collapsed": true
   },
   "outputs": [],
   "source": [
    "def H(z):\n",
    "    h = 70\n",
    "    result = h*np.sqrt((1 + z)**3)\n",
    "    return result\n",
    "\n",
    "def r(z):\n",
    "    c = 3*(10**5)\n",
    "    result = c / H(z)\n",
    "    return result"
   ]
  },
  {
   "cell_type": "code",
   "execution_count": 3,
   "metadata": {
    "collapsed": false
   },
   "outputs": [
    {
     "name": "stdout",
     "output_type": "stream",
     "text": [
      "1572.88644919\n"
     ]
    }
   ],
   "source": [
    "ans, err = quad(r, 0, .5) #r(z) for z_1 = .5 in Mpc\n",
    "print ans"
   ]
  },
  {
   "cell_type": "code",
   "execution_count": 4,
   "metadata": {
    "collapsed": false
   },
   "outputs": [
    {
     "name": "stdout",
     "output_type": "stream",
     "text": [
      "1048.59096613\n"
     ]
    }
   ],
   "source": [
    "dA1 = ans / (1+.5) #Angular diameter distance for z_1 = .5 in Mpc\n",
    "print dA1"
   ]
  },
  {
   "cell_type": "markdown",
   "metadata": {},
   "source": [
    "$d_A = 1048.591$ Mpc for galaxy one with z = .5"
   ]
  },
  {
   "cell_type": "code",
   "execution_count": 5,
   "metadata": {
    "collapsed": false
   },
   "outputs": [
    {
     "name": "stdout",
     "output_type": "stream",
     "text": [
      "3255.65423189\n"
     ]
    }
   ],
   "source": [
    "ans2, err = quad(r, 0, 1.6) #r(z) for z_2 = 1.6 in Mpc\n",
    "print ans2"
   ]
  },
  {
   "cell_type": "code",
   "execution_count": 6,
   "metadata": {
    "collapsed": false
   },
   "outputs": [
    {
     "name": "stdout",
     "output_type": "stream",
     "text": [
      "1252.17470457\n"
     ]
    }
   ],
   "source": [
    "dA2 = ans2 / (1+1.6) #Angular diameter distance for z_2 = 1.6 in Mpc\n",
    "print dA2"
   ]
  },
  {
   "cell_type": "markdown",
   "metadata": {},
   "source": [
    "$d_A = 1252.175$ Mpc for galaxy 2 with z = 1.6"
   ]
  },
  {
   "cell_type": "code",
   "execution_count": 7,
   "metadata": {
    "collapsed": false
   },
   "outputs": [
    {
     "name": "stdout",
     "output_type": "stream",
     "text": [
      "2054.6921034\n"
     ]
    }
   ],
   "source": [
    "ans3, err = quad(r, 0, .73) #r(z) for between galaxy 1 and 2 using Z which we calculated.\n",
    "print ans3"
   ]
  },
  {
   "cell_type": "code",
   "execution_count": 8,
   "metadata": {
    "collapsed": false
   },
   "outputs": [
    {
     "name": "stdout",
     "output_type": "stream",
     "text": [
      "1187.68329676\n"
     ]
    }
   ],
   "source": [
    "dA3 = ans3 / (1+.73) #Angular diameter distance for between galaxy 1 and 2, where z = z2 - z1\n",
    "print dA3"
   ]
  },
  {
   "cell_type": "markdown",
   "metadata": {},
   "source": [
    "$d_A = 1187.863$ when looking at galaxy 2 from galaxy 1"
   ]
  },
  {
   "cell_type": "markdown",
   "metadata": {},
   "source": [
    "#### c)"
   ]
  },
  {
   "cell_type": "markdown",
   "metadata": {},
   "source": [
    "It makes sense that the angular diameter distance would be larger for galaxy 2 than galaxy 1 as it is farther away. From galaxy 1 we see galaxy 2 has a redshift of about .73, right in between the redshift for galaxy 1 and 2 when viewed from here. Therefore, it also makes sense that we got an angular diameter distance in between what we got for galaxy 1 with z = .5 and galaxy 2 with z = 1.6. "
   ]
  },
  {
   "cell_type": "markdown",
   "metadata": {
    "collapsed": true
   },
   "source": [
    "### Question 2:"
   ]
  },
  {
   "cell_type": "markdown",
   "metadata": {},
   "source": [
    "#### Ryden 8.5"
   ]
  },
  {
   "cell_type": "markdown",
   "metadata": {},
   "source": [
    "Mean number density $n = \\frac{N}{V}$ where N is the number of galaxies and V is the volume which in this case would be $\\frac{4 \\cdot \\Pi}{3} \\cdot (r_H)^3$. Therefore $n = \\frac{3 \\cdot N}{4 \\cdot \\Pi \\cdot (r_H)^3}$"
   ]
  },
  {
   "cell_type": "code",
   "execution_count": 15,
   "metadata": {
    "collapsed": false
   },
   "outputs": [
    {
     "name": "stdout",
     "output_type": "stream",
     "text": [
      "70.7355302631\n"
     ]
    }
   ],
   "source": [
    "N = 1000\n",
    "r = 1.5 #in Mpc\n",
    "n = 3*N / (4*np.pi*r**3)\n",
    "print n"
   ]
  },
  {
   "cell_type": "markdown",
   "metadata": {},
   "source": [
    "Therefore, $n = 70.74$ $galaxies \\cdot Mpc^{-3}$"
   ]
  },
  {
   "cell_type": "markdown",
   "metadata": {},
   "source": [
    "Next we want to know how far a galaxy in the Coma cluster will travel on average, before colliding with another galaxy. Here the cross section $\\Sigma = 10^{-3} Mpc^2$."
   ]
  },
  {
   "cell_type": "code",
   "execution_count": 26,
   "metadata": {
    "collapsed": false
   },
   "outputs": [
    {
     "name": "stdout",
     "output_type": "stream",
     "text": [
      "14.1371669412\n"
     ]
    }
   ],
   "source": [
    "E = 10**-3\n",
    "d = 1 / (E*n) \n",
    "print d #distance in Mpc"
   ]
  },
  {
   "cell_type": "markdown",
   "metadata": {},
   "source": [
    "So on average, the distance a galaxy in the Coma cluster will travel before colliding with another galaxy would be 14.14 Mpc."
   ]
  },
  {
   "cell_type": "markdown",
   "metadata": {},
   "source": [
    "Lastly, we want to know what the average time between collisions is. For this we will need the velocity dispersion for the Coma cluster which is $\\sigma = 880 km \\cdot s^{-1}$. "
   ]
  },
  {
   "cell_type": "code",
   "execution_count": 18,
   "metadata": {
    "collapsed": false
   },
   "outputs": [
    {
     "name": "stdout",
     "output_type": "stream",
     "text": [
      "4.36272971804e+20\n"
     ]
    }
   ],
   "source": [
    "Mpc = 3.086*(10**19) #number of km in one Mpc\n",
    "d2 = d*Mpc\n",
    "print d2 #new value for d in km instead of Mpc"
   ]
  },
  {
   "cell_type": "code",
   "execution_count": 39,
   "metadata": {
    "collapsed": false
   },
   "outputs": [
    {
     "name": "stdout",
     "output_type": "stream",
     "text": [
      "2.8622990649e+17\n"
     ]
    }
   ],
   "source": [
    "sigma = 880\n",
    "t = d2 / (np.sqrt(3)*sigma) #multiplying sigma by sqrt(3) to get the square root of the mean square velocity.\n",
    "print t #t in seconds"
   ]
  },
  {
   "cell_type": "code",
   "execution_count": 38,
   "metadata": {
    "collapsed": false
   },
   "outputs": [
    {
     "name": "stdout",
     "output_type": "stream",
     "text": [
      "9075139711.16\n"
     ]
    }
   ],
   "source": [
    "tyrs = t / (3.154*(10**7)) #converting seconds to years\n",
    "print tyrs"
   ]
  },
  {
   "cell_type": "markdown",
   "metadata": {},
   "source": [
    "So the average time between collisions is approximately 9.08 Gyrs. This is smaller than the Hubble time of 13.7 Gyrs."
   ]
  },
  {
   "cell_type": "code",
   "execution_count": null,
   "metadata": {
    "collapsed": true
   },
   "outputs": [],
   "source": []
  }
 ],
 "metadata": {
  "anaconda-cloud": {},
  "kernelspec": {
   "display_name": "Python [conda root]",
   "language": "python",
   "name": "conda-root-py"
  },
  "language_info": {
   "codemirror_mode": {
    "name": "ipython",
    "version": 2
   },
   "file_extension": ".py",
   "mimetype": "text/x-python",
   "name": "python",
   "nbconvert_exporter": "python",
   "pygments_lexer": "ipython2",
   "version": "2.7.12"
  }
 },
 "nbformat": 4,
 "nbformat_minor": 1
}
