{
 "cells": [
  {
   "cell_type": "code",
   "execution_count": 2,
   "metadata": {
    "collapsed": true
   },
   "outputs": [],
   "source": [
    "import numpy as np\n",
    "import matplotlib.pyplot as plt\n",
    "from scipy.integrate import odeint"
   ]
  },
  {
   "cell_type": "markdown",
   "metadata": {},
   "source": [
    "**Question 1**\n",
    "\n",
    "Begin by defining $\\Omega$ to be the solid angle subtended by the stars at a particular distance from the origin, $r$. As there are $4\\pi$ steradians in a sphere, we must find $r'$ such that $\\int_{0}^{r'} \\Omega dr = 4\\pi$. \n",
    "\n",
    "$\\Omega$ is a function of the number of stars, their solid angle and their distance. Using the small angle approximation, we can write $\\Omega dr = \\frac{\\pi*a^2}{4\\pi r^2} dn$, where $a$ is the radius of the stars, $r$ is the distance to the star and $dn$ is the number of stars in a spherical shell of thickness $dr$. To calculate $dn$ we assume isotropy and homogeneity. Then the number of stars is simply the volume of a spherical shell of radius $r$, times the density of stars, $\\rho$. Specifically: $dn = 4\\pi r^2 \\rho$. Substituting this into the expression above gives $\\Omega dr = \\pi a^2 \\rho$\n",
    "\n",
    "$\\int_{0}^{r} \\pi a^2 \\rho = 4\\pi \\implies r = \\frac{4}{a^2 \\rho}$\n",
    "\n",
    "The last consideration is our units. While $a$ has been given to us in meters, $\\rho$ is given in megaparsecs, so a conversion must be performed to get the proper result."
   ]
  },
  {
   "cell_type": "code",
   "execution_count": 25,
   "metadata": {
    "collapsed": false
   },
   "outputs": [
    {
     "name": "stdout",
     "output_type": "stream",
     "text": [
      "The distance at which any line of sight intersects a star in this Obertian universe is 7.94857269634e+17 Megaparsecs\n"
     ]
    }
   ],
   "source": [
    "s_density = 10e9\n",
    "s_radius_m = 7e8\n",
    "m_to_mpc = 3.2047e-23\n",
    "\n",
    "r = 4/((s_radius_m * m_to_mpc)**2 * s_density)\n",
    "\n",
    "print \"The distance at which any line of sight intersects a star in this Obertian universe is\", r, \"Megaparsecs\""
   ]
  },
  {
   "cell_type": "markdown",
   "metadata": {},
   "source": [
    "**Question 2**\n",
    "\n",
    "This one is nice and easy. Since Hubble's constant is simply $\\frac{velocity}{distance}$, the error can be calculated through simple division.\n",
    "\n",
    "Since Hubble's initial estimate of the age of the universe was too low it would imply that the universe had recently begun accelerating in expansion. This is because the Hubble time gives an estimate of the age of the universe by extrapolating the current rate of expansion back in time. Faster expansion implies a younger universe, so the universe must have been expaning slower in the past to have the proper age."
   ]
  },
  {
   "cell_type": "code",
   "execution_count": 26,
   "metadata": {
    "collapsed": false
   },
   "outputs": [
    {
     "name": "stdout",
     "output_type": "stream",
     "text": [
      "Hubble's estimates of Cepheid distances was too small by a factor of 7 .\n",
      "\n",
      "The estimated age of the universe was 1.95679061918 Gyrs instead of the proper estimate of 13.9770758513 Gyrs.\n"
     ]
    }
   ],
   "source": [
    "H0_incorrect = 500\n",
    "H0_actual = 70\n",
    "\n",
    "cepheid_distance_error = H0_incorrect / H0_actual\n",
    "\n",
    "print \"Hubble's estimates of Cepheid distances was too small by a factor of\", cepheid_distance_error, \".\\n\"\n",
    "\n",
    "km_per_mpc = 3.241e-20\n",
    "\n",
    "H_time_incorrect = (1/(H0_incorrect * km_per_mpc))/(60*60*24*365*1e9)\n",
    "H_time_actual = (1/(H0_actual * km_per_mpc))/(60*60*24*365*1e9)\n",
    "\n",
    "print \"The estimated age of the universe was\", H_time_incorrect, \"Gyrs instead of the proper estimate of\",H_time_actual,\"Gyrs.\"\n"
   ]
  },
  {
   "cell_type": "markdown",
   "metadata": {
    "collapsed": true
   },
   "source": [
    "**Question 3**\n",
    "\n",
    "The metric on a sphere is $ds^2 = dr^2 + R^2 sin^2(\\frac{r}{R})d\\theta^2$. For simplicity, assume the observer is at the origin of this coordinate system and one of the points lies on the prime meridian. The coordinates of the two points are then $(r,0)$ and $(r,d\\theta)$. The metric above can be re-written to solve for $d\\theta$ as such:\n",
    "\n",
    "$d\\theta = \\sqrt{\\frac{ds^2 - dr^2}{R^2 sin^2(r/R)}}$\n",
    "\n",
    "In our case, $dr=0$ since the points are assumed to be equidistant, so the above equation reduces to:\n",
    "\n",
    "$d\\theta = \\frac{ds}{R sin(\\frac{r}{R})}$\n",
    "\n",
    "As shown in the plot below, the angle subtended by the object approaches infinity at both very small r, and as r approaches $\\pi r$. If you imagine the lines of sight coming from the origin and converging on the opposite pole, this makes sense."
   ]
  },
  {
   "cell_type": "code",
   "execution_count": 49,
   "metadata": {
    "collapsed": false
   },
   "outputs": [
    {
     "name": "stderr",
     "output_type": "stream",
     "text": [
      "/usr/local/lib/python2.7/dist-packages/ipykernel/__main__.py:3: RuntimeWarning: divide by zero encountered in divide\n",
      "  app.launch_new_instance()\n"
     ]
    },
    {
     "data": {
      "image/png": "[encoded data removed]",
      "text/plain": [
       "<matplotlib.figure.Figure at 0x7f5fe6b32250>"
      ]
     },
     "metadata": {},
     "output_type": "display_data"
    }
   ],
   "source": [
    "r_linspace = np.linspace(0,10*np.pi,1000)\n",
    "def theta(r):\n",
    "    return 1/(10*np.sin(r/10)) #0.1 and 100 were used as we assume ds<<R\n",
    "\n",
    "plt.plot(r_linspace/np.pi, theta(r_linspace))\n",
    "plt.xlabel(\"Distance, in units of pi\")\n",
    "plt.ylabel(\"Angle subtended in radians\")\n",
    "plt.title(\"Example case for angles in a positively curved space\")\n",
    "plt.ylim([0,2])\n",
    "plt.show()"
   ]
  },
  {
   "cell_type": "markdown",
   "metadata": {},
   "source": [
    "**Question 4**\n",
    "\n",
    "To begin, this is the work to solve the integral exactly:\n",
    "\n",
    "$\\dot{a}^2 = H_0^2 a^{-3} \\implies \\frac{da}{dt} = H_0 a^{-\\frac{3}{2}} \\implies \\int da * a^\\frac{3}{2} = H_0 \\int dt \\implies \\frac{2}{5} a^\\frac{5}{2} = H_0 * t + C$\n",
    "\n",
    "To solve for the constant of integration, we use the equalities $H_0 t_0 = 1$, and, $a(t_0) = 1$ (both by definition):\n",
    "\n",
    "$\\frac{2}{5} = 1 + C \\implies -\\frac{3}{5} = C $\n",
    "\n",
    "Thus the exact solution is:\n",
    "\n",
    "$ a = (\\frac{5}{2} H_0 * t - \\frac{3}{5})^\\frac{2}{5} $\n",
    "\n",
    "This is graphed as a line in the plot below, while scipy's numerical integration task odeint is used to make an estimate of the same relation using the differential formula for $\\dot{a}$ above, and is graphed as points.\n",
    "\n",
    "The range of t values is backwards because scipy needs the first value of the array to be the one for which initial conditions are defined. The \"invalid value encountered in power\" shows this simple model predicts non-real values for the scale factor prior to approximately 8.5 gigayears. Not the best model is it?"
   ]
  },
  {
   "cell_type": "code",
   "execution_count": 30,
   "metadata": {
    "collapsed": false
   },
   "outputs": [
    {
     "name": "stderr",
     "output_type": "stream",
     "text": [
      "/usr/local/lib/python2.7/dist-packages/ipykernel/__main__.py:2: RuntimeWarning: invalid value encountered in power\n",
      "  from ipykernel import kernelapp as app\n",
      "/usr/local/lib/python2.7/dist-packages/ipykernel/__main__.py:5: RuntimeWarning: invalid value encountered in power\n"
     ]
    },
    {
     "data": {
      "image/png": "[encoded data removed]",
      "text/plain": [
       "<matplotlib.figure.Figure at 0x7f5fe6fb2790>"
      ]
     },
     "metadata": {},
     "output_type": "display_data"
    }
   ],
   "source": [
    "t_list = np.arange(4.407e17, 0,-1e16)\n",
    "a_exact = (2.5*H0_actual*km_per_mpc*t_list - 1.5)**0.4\n",
    "\n",
    "def adot(a,t0):\n",
    "    return (70*3.241e-20)/(a**1.5)\n",
    "\n",
    "solve = odeint(adot,1,t_list)\n",
    "\n",
    "plt.plot(t_list/3.154e16,solve,marker='o',ls='')\n",
    "plt.plot(t_list/3.154e16, a_exact)\n",
    "plt.xlabel(\"Age of Universe (Gigayears)\")\n",
    "plt.ylabel(\"Scale Factor\")\n",
    "plt.title(\"Simple Model of Scale Factor Evolution\")\n",
    "plt.show()"
   ]
  },
  {
   "cell_type": "code",
   "execution_count": null,
   "metadata": {
    "collapsed": true
   },
   "outputs": [],
   "source": []
  },
  {
   "cell_type": "code",
   "execution_count": null,
   "metadata": {
    "collapsed": true
   },
   "outputs": [],
   "source": []
  }
 ],
 "metadata": {
  "kernelspec": {
   "display_name": "Python 2",
   "language": "python",
   "name": "python2"
  },
  "language_info": {
   "codemirror_mode": {
    "name": "ipython",
    "version": 2
   },
   "file_extension": ".py",
   "mimetype": "text/x-python",
   "name": "python",
   "nbconvert_exporter": "python",
   "pygments_lexer": "ipython2",
   "version": "2.7.6"
  }
 },
 "nbformat": 4,
 "nbformat_minor": 1
}
