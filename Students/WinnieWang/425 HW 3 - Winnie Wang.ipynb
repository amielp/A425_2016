{
 "cells": [
  {
   "cell_type": "markdown",
   "metadata": {},
   "source": [
    "##### 425 Homework 3\n",
    "\n",
    "##### Winnie Wang, Prof. Andrew Connolly"
   ]
  },
  {
   "cell_type": "markdown",
   "metadata": {},
   "source": [
    "##### Problem 1: Derivation of Friedmann Equations"
   ]
  },
  {
   "cell_type": "markdown",
   "metadata": {
    "collapsed": false
   },
   "source": [
    "In the Friedmann Equations we are given:\n",
    "\n",
    "$$ \\frac{\\ddot{a(t)}}{a(t)} = -\\frac{4\\pi G}{3{c}^{2}} \\{\\epsilon(t) + 3P(t)\\} $$\n",
    "\n",
    "$$ {(\\frac{\\dot{a(t)}}{a(t)}})^{2} = \\frac{8\\pi G\\epsilon(t)}{3{c}^{2}} - \\frac{k{c}^{2}}{{a(t)}^{2}} $$\n",
    "\n",
    "\n",
    "Simplify the second equation by multiplying the whole expression by ${a(t)}^{2}$, and it is observed:\n",
    "\n",
    "$$ {\\dot{a(t)}}^{2} = \\frac{8\\pi G\\epsilon(t)\\bullet{a(t)}^{2}}{3{c}^{2}} - k{c}^{2} $$\n",
    "\n",
    "To obtain something similar in the first Friedmann equation, take the time derivative of this equation and then divide the whole equation by $a(t)$, and it is observed that:\n",
    "\n",
    "Taking the time derivative (recalling that 'c' and 'k' are constants):  \n",
    "\n",
    "\n",
    "$$\\frac{d}{dt}[{\\dot{a(t)}}^{2} = \\frac{8\\pi G\\epsilon(t)\\bullet {a(t)}^{2}}{3{c}^{2}} - k{c}^{2}] \\rightarrow \\frac{d}{dt}[{\\dot{a(t)}}^{2}] = \\frac{d}{dt}[\\frac{8\\pi G\\epsilon(t)\\bullet {a(t)}^{2}}{3{c}^{2}}] \\rightarrow 2{\\dot{a(t)}}{\\ddot{a(t)}} = \\frac{8\\pi G}{3{c}^{2}}[{\\dot{\\epsilon(t)}}{{a(t)}^{2}} + 2{\\epsilon(t)}{\\dot{a(t)}}]$$\n",
    "\n",
    "\n",
    "\n",
    "Now we divide the whole expression by $a(t)$ and replacing $\\frac{\\ddot{a(t)}}{a(t)}$ by the first Friedmann equation:\n",
    "\n",
    "$$\\frac{2{\\dot{a(t)}}{\\ddot{a(t)}}}{a(t)} = \\frac{8\\pi G [{\\dot{\\epsilon(t)}}{{a(t)}^{2}} + 2{\\epsilon(t)}{\\dot{a(t)}}]}{3{c}^{2}a(t)}$$\n",
    "\n",
    "$$\\frac{2{\\dot{a(t)}}{\\ddot{a(t)}}}{a(t)} = 2\\dot{a(t)}(-\\frac{4\\pi G}{3{c}^{2}} \\{\\epsilon(t) + 3P(t)\\})$$\n",
    "\n",
    "$$\\frac{2{\\dot{a(t)}}{\\ddot{a(t)}}}{a(t)} = \\dot{a(t)}(-\\frac{8\\pi G}{3{c}^{2}} \\{\\epsilon(t) + 3P(t)\\}) =  \\frac{8\\pi G}{3{c}^{2}}[{\\dot{\\epsilon(t)}}{{a(t)}} + 2{\\epsilon(t)}{\\dot{a(t)}}]$$\n",
    "\n",
    "\n",
    "Dividing by $-\\frac{8\\pi G}{3{c}^{2}}$, it is observed that:\n",
    "\n",
    "$$ \\dot{a(t)}(-\\frac{8\\pi G}{3{c}^{2}} \\{\\epsilon(t) + 3P(t)\\}) = \\frac{8\\pi G}{3{c}^{2}}[{\\dot{\\epsilon(t)}}{{a(t)}} + 2{\\epsilon(t)}{\\dot{a(t)}}] \\rightarrow -\\dot{a(t)}\\{\\epsilon(t) + 3P(t)\\} = [{\\dot{\\epsilon(t)}}{{a(t)}} + 2{\\epsilon(t)}{\\dot{a(t)}}]$$\n",
    "\n",
    "Now dividing by $\\dot{a(t)}$:\n",
    "\n",
    "$$-\\dot{a(t)}\\{\\epsilon(t) + 3P(t)\\} = [{\\dot{\\epsilon(t)}}{{a(t)}} + 2{\\epsilon(t)}{\\dot{a(t)}}] \\rightarrow -\\{\\epsilon(t) + 3P(t)\\} = \\dot{\\epsilon(t)}\\frac{a(t)}{\\dot{a(t)}} + 2{\\epsilon(t)}$$\n",
    "\n",
    "Moving all variables to one side, thus equating the whole thing to zero:\n",
    "\n",
    "$$\\dot{\\epsilon(t)}\\frac{a(t)}{\\dot{a(t)}} + 2{\\epsilon(t)} +  \\{\\epsilon(t) + 3P(t)\\} = \\dot{\\epsilon(t)}\\frac{a(t)}{\\dot{a(t)}} + 3\\{{\\epsilon(t)} + P(t)\\} = 0$$\n",
    "\n",
    "Or equivalently (multiplying the whole thing by $\\frac{\\dot{a(t)}}{a(t)}$:\n",
    "\n",
    "$$\\dot{\\epsilon(t)} + 3\\frac{\\dot{a(t)}}{a(t)}[{\\epsilon(t)} + 3P(t)\\}] = 0 $$"
   ]
  },
  {
   "cell_type": "markdown",
   "metadata": {},
   "source": [
    "##### Problem 2: Integration of Friedmann Equation (code)"
   ]
  },
  {
   "cell_type": "markdown",
   "metadata": {},
   "source": [
    "Before the integrals for finding the comoving distance and age of universe are evaluated, the expansion factor is solved through the given equations: \n",
    "\n",
    "$$ H(z) = H_{0} \\bullet \\sqrt{\\Omega_{r,0}{(1-z)}^{4} + \\Omega_{m,0}{(1-z)}^{3} + \\Omega_{\\Lambda, 0} + (1 - \\Omega_{0}){(1-z)}^{2}} $$\n",
    "\n",
    "To find the comoving distance along z=0 to z=10, the light path along the geodesic needs to be evaluated. Since the travel path is along a geodesic, the light's comoving distance is known to have a relation of:  ${c}^{2}{dt}^{2} = {a(t)}^{2}{r}^{2}$\n",
    "\n",
    "After rearranging this, it is observed that the above relation is equivalent to (after integration):\n",
    "\n",
    "$$ c\\frac{dt}{a(t)} = dr \\rightarrow c\\int_{t_e+\\frac{\\lambda_e}{c}}^{t_0+\\frac{\\lambda_e}{c}} \\frac{dt}{a(t)} = \\int_{t_e}^{t_0} \\frac{dt}{a(t)} =  \\int_0^r dr $$\n",
    "\n",
    "Replacing the $a(t)$ with the Hubble constant equation, $H(z)$, and the relation of Hubble's constant the integral for the comoving distance from z=0 to z=10 is evaluated as:\n",
    "\n",
    "$$ c\\int_{t_e}^{t_0} \\frac{dt}{a(t)} = \\int_0^r dr \\rightarrow c\\int_{0}^{z} \\frac{dt}{H(t)} = \\int_0^r dr$$\n",
    "\n",
    "Using the definition of redshift, specifically the fact that $a(t) = \\frac{1}{1+z} \\rightarrow z = \\frac{1}{a}-1\\,or\\,\\frac{1}{a} = 1+z$ and $H(t) = \\frac{\\dot{a(t)}}{a(t)}$ it is observed that by taking the time derivative of both sides, or $\\frac{dz}{dt} =  \\frac{-\\dot{a(t)}}{{a(t)}^{2}} = \\frac{-\\dot{a(t)}}{a(t)}(1+z)$, after replacing $\\frac{1}{a(t)} = 1+z$. \n",
    "\n",
    "Since $H(t) = \\frac{\\dot{a(t)}}{a(t)}$, it is observed that $dt = -\\frac{dz}{1+z)}\\frac{a(t)}{\\dot{a(t)}} = -\\frac{dz}{H(z)(1+z)}$. Integrating this it is observed that the integral for the age of the universe is:\n",
    "\n",
    "$$ \\int_{t_e}^{t_o} dt = -\\int_{z}^{0} \\frac{dz}{H(z)(1+z)} \\rightarrow t_e - t_o = -\\int_{z}^{0} \\frac{dz}{H(z)(1+z)} \\rightarrow t_o - t_e = \\int_{z}^{0} \\frac{dz}{H(z)(1+z)} $$"
   ]
  },
  {
   "cell_type": "code",
   "execution_count": 2,
   "metadata": {
    "collapsed": false
   },
   "outputs": [
    {
     "name": "stdout",
     "output_type": "stream",
     "text": [
      "425 HW 3 - Hubble's Constant\n",
      "Winnie Wang, Prof. Andrew Connelly\n",
      "This is Problem 2.\n"
     ]
    }
   ],
   "source": [
    "%matplotlib inline\n",
    "import numpy as np\n",
    "import matplotlib.pyplot as plt\n",
    "import scipy.integrate as integrate\n",
    "\n",
    "print \"425 HW 3 - Hubble's Constant\"\n",
    "print \"Winnie Wang, Prof. Andrew Connelly\"\n",
    "print \"This is Problem 2.\""
   ]
  },
  {
   "cell_type": "code",
   "execution_count": 28,
   "metadata": {
    "collapsed": false
   },
   "outputs": [
    {
     "name": "stdout",
     "output_type": "stream",
     "text": [
      "425 HW 3 - Hubble's Constant\n",
      "Winnie Wang, Prof. Andrew Connelly\n",
      "\n",
      "This is Question 2.\n",
      "\n",
      "Part A: Evaluating for Comoving Distance vs Redshift\n"
     ]
    },
    {
     "data": {
      "image/png": "[encoded data removed]",
      "text/plain": [
       "<matplotlib.figure.Figure at 0x10f084b50>"
      ]
     },
     "metadata": {},
     "output_type": "display_data"
    },
    {
     "name": "stdout",
     "output_type": "stream",
     "text": [
      "Part B: Evaluating for Age vs Redshift\n"
     ]
    },
    {
     "data": {
      "image/png": "[encoded data removed]",
      "text/plain": [
       "<matplotlib.figure.Figure at 0x10e19af10>"
      ]
     },
     "metadata": {},
     "output_type": "display_data"
    }
   ],
   "source": [
    "print \"425 HW 3 - Hubble's Constant\"\n",
    "print \"Winnie Wang, Prof. Andrew Connolly\"\n",
    "print\n",
    "print \"This is Question 2.\"\n",
    "#Constants:\n",
    "H_0 = 3.241e-20 #Hubble constant scaled to 1/s\n",
    "H_02 = 0.07154 #Hubble constant scaled to 1/Gyr\n",
    "c = 2.9979e8 #Speed of light in m/s\n",
    "scale = 3.241e-23 #Scaling factor of meters to Mpc\n",
    "\n",
    "size = 1000 #arbitrary number of steps to evaluate z\n",
    "z = np.linspace(0,10,size) #linear space of z to integrate against\n",
    "\n",
    "#H(z) solved:\n",
    "def Hubble(z,r,m,l,H):\n",
    "    omega_0 = r + m + l\n",
    "    return (H)*((r*((z+1)**4)+m*((z+1)**3)+(1-omega_0)*((z+1)**2)+l))**(0.5)\n",
    "    \n",
    "#Part A: Where 0_r = 0, 0_m = 0.3, 0_l = 0.7\n",
    "#0_o = 0 for a flat universe:\n",
    "HubblePartA = lambda z: c/(Hubble(z,0,0.3,0.7,H_0)) #For Comoving Distance\n",
    "resultPartA = np.array([])\n",
    "\n",
    "Hubble2PartA = lambda z: 1/(Hubble(z,0,0.3,0.7,H_02)*(1+z)) #For Age\n",
    "result2PartA = np.array([])\n",
    "\n",
    "#Part B: Where 0_r = 0, 0_m = 10, 0_l = 0 \n",
    "#0_o = 1 for a closed universe:\n",
    "HubblePartB = lambda z: c/(Hubble(z,0,10,0,H_0)) #For Comoving Distance\n",
    "resultPartB = np.array([])\n",
    "\n",
    "Hubble2PartB = lambda z: 1/(Hubble(z,0,10,0,H_02)*(1+z)) #For Age\n",
    "result2PartB = np.array([])\n",
    "\n",
    "for i in z:\n",
    "    integrate_A = integrate.quad(HubblePartA, 0, i) #integrating Part A for comoving dist.\n",
    "    integrate_A2 = integrate.quad(Hubble2PartA, 0, i) #Part A for age; \n",
    "    \n",
    "    resultPartA = np.append(resultPartA, integrate_A[0]*scale)\n",
    "    result2PartA = np.append(result2PartA, integrate_A2[0])\n",
    "    \n",
    "    integrate_B = integrate.quad(HubblePartB, 0, i) #Part B for comoving dist.\n",
    "    integrate_B2 = integrate.quad(Hubble2PartB, 0, i) #Part B for age.\n",
    "    \n",
    "    resultPartB = np.append(resultPartB, integrate_B[0]*scale)\n",
    "    result2PartB = np.append(result2PartB, integrate_B2[0])\n",
    "   \n",
    "print\n",
    "print \"Part A: Evaluating for Comoving Distance vs Redshift\"\n",
    "plt.plot(z, resultPartA, \"g--\")\n",
    "plt.plot(z, resultPartB, \"b--\")\n",
    "plt.title(\"Comoving Distance vs. Redshift\") #Y VS X NOT X VS Y\n",
    "plt.xlabel(\"Redshift, z\")\n",
    "plt.ylabel(\"Comoving Distance in Mpc\")\n",
    "plt.show()\n",
    "\n",
    "print \"Part B: Evaluating for Age vs Redshift\"\n",
    "plt.plot(z, result2PartA, \"g-\")\n",
    "plt.plot(z, result2PartB, \"b-\")\n",
    "plt.title(\"Age vs. Redshift\")\n",
    "plt.xlabel(\"Redshift, z\")\n",
    "plt.ylabel(\"Age in Gyr\")\n",
    "plt.show()"
   ]
  },
  {
   "cell_type": "markdown",
   "metadata": {},
   "source": [
    "##### Problem 3: Finding $\\Omega_{r,0}$ for an open universe (code)"
   ]
  },
  {
   "cell_type": "markdown",
   "metadata": {
    "collapsed": true
   },
   "source": [
    "To find $\\Omega_{r,0}$ within an open universe (with no cosmological constant) up to the current age of our universe with $\\Omega_{r,0} = 0.3$ and $\\Omega_{\\Lambda,0} = 0.7$, a 'While' loop was implemented to evaluate the age of the open universe.\n",
    "\n",
    "The 'While' loop runs until it evaluates to an age that is equal to the result from a universe with $\\Omega_{r,0} = 0.3$ and $\\Omega_{\\Lambda,0} = 0.7$. \n",
    "\n",
    "At this point $\\Omega_{r,0}$ is printed, which is evaluated to about 0.001389."
   ]
  },
  {
   "cell_type": "code",
   "execution_count": 29,
   "metadata": {
    "collapsed": false
   },
   "outputs": [
    {
     "name": "stdout",
     "output_type": "stream",
     "text": [
      "This is Problem 3.\n",
      "\n",
      "This is the benchmark age obtained with O_m = 0.3 and O_lambda = 0.7:  13.4758309936 Gyr.\n",
      "This is the age of matter only open universe:  13.4757676261 Gyr.\n",
      "Solved O_r for the open universe:  0.001389\n"
     ]
    }
   ],
   "source": [
    "print \"This is Problem 3.\"\n",
    "print\n",
    "#This is the evaluated age of (benchmark) flat universe from Part A:\n",
    "#With 0_m = 0.3, and 0_l = 0.7\n",
    "benchmark_Age_A = integrate.quad(Hubble2PartA, 0, size)[0]\n",
    "\n",
    "#To solve for 0_r, set 0_r = 0 in the integral for age, then evaluate with a conditional loop:\n",
    "r2 = 0.0 #radiation density; given as zero\n",
    "\n",
    "Hubble3 = lambda z: 1.0/(Hubble(z,r2,0,0,H_02)*(1.0+z)) #For Age in flat Universe\n",
    "Hubble3_Age = integrate.quad(Hubble3, 0, size)[0]\n",
    "\n",
    "while(Hubble3_Age >= benchmark_Age_A):\n",
    "    r2 += 1e-6 #step size; larger resolutions won't work\n",
    "    Hubble3 = Hubble3 = lambda z: 1.0/(Hubble(z,r2,0,0,H_02)*(1.0+z))\n",
    "    Hubble3_Age = integrate.quad(Hubble3, 0, size)[0]\n",
    "    \n",
    "print \"This is the benchmark age obtained with O_m = 0.3 and O_lambda = 0.7: \", benchmark_Age_A, \"Gyr.\"\n",
    "print \"This is the age of matter only open universe: \", Hubble3_Age, \"Gyr.\"\n",
    "print \"Solved O_r for the open universe: \", r2"
   ]
  }
 ],
 "metadata": {
  "kernelspec": {
   "display_name": "Python 2",
   "language": "python",
   "name": "python2"
  },
  "language_info": {
   "codemirror_mode": {
    "name": "ipython",
    "version": 2
   },
   "file_extension": ".py",
   "mimetype": "text/x-python",
   "name": "python",
   "nbconvert_exporter": "python",
   "pygments_lexer": "ipython2",
   "version": "2.7.11"
  }
 },
 "nbformat": 4,
 "nbformat_minor": 0
}
