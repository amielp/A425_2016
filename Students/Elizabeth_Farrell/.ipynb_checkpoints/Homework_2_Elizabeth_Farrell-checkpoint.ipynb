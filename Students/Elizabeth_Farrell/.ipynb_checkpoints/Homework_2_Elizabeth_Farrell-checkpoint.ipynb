{
 "cells": [
  {
   "cell_type": "markdown",
   "metadata": {},
   "source": [
    "Problem #1"
   ]
  },
  {
   "cell_type": "markdown",
   "metadata": {},
   "source": [
    "stellar radii $R_s = 7 \\cdot 10^{5} m = 7 \\cdot 10^{5}km$"
   ]
  },
  {
   "cell_type": "markdown",
   "metadata": {},
   "source": [
    "density of stars $\\rho = 10^{9} Mpc^{-3}$"
   ]
  },
  {
   "cell_type": "markdown",
   "metadata": {},
   "source": [
    "stellar cross section $\\sigma = \\pi \\cdot R_s^{2}$"
   ]
  },
  {
   "cell_type": "markdown",
   "metadata": {},
   "source": [
    "$l = \\frac{\\sqrt2}{\\rho \\sigma}$ mean free path in kinetic theory. $\\rightarrow$ the distance at which any line-of-sight will intersect the surface of a star."
   ]
  },
  {
   "cell_type": "code",
   "execution_count": 102,
   "metadata": {
    "collapsed": false
   },
   "outputs": [
    {
     "name": "stdout",
     "output_type": "stream",
     "text": [
      "8.74904980003e+17\n"
     ]
    }
   ],
   "source": [
    "import numpy as np\n",
    "\n",
    "R_s = 7.0 * 10**5 #km\n",
    "R_Mpc = R_s / (3.086*10**19)\n",
    "rho_s = 10**9 #Mpc^(-3)\n",
    "s_s = np.pi * (R_Mpc)**2 #sigma, the stellar cross section, in Mpc^2.\n",
    "\n",
    "def l(rho, s):\n",
    "    return np.sqrt(2)/(rho*s)\n",
    "\n",
    "l_s = l(rho_s, s_s)\n",
    "print l_s"
   ]
  },
  {
   "cell_type": "markdown",
   "metadata": {},
   "source": [
    "Therefore, the distance at which any line-of-sight will intersect the surface of a star is $8.75 \\cdot 10^{17} Mpc$"
   ]
  },
  {
   "cell_type": "markdown",
   "metadata": {},
   "source": [
    "Problem #2"
   ]
  },
  {
   "cell_type": "markdown",
   "metadata": {},
   "source": [
    "$H_H = 500\\frac{km}{s \\cdot Mpc} = 0.511 Gyr^{-1}$"
   ]
  },
  {
   "cell_type": "markdown",
   "metadata": {},
   "source": [
    "$t_H = \\frac{1}{H_H} = \\frac{1}{0.511} Gyr = 1.957 Gyr $"
   ]
  },
  {
   "cell_type": "code",
   "execution_count": 103,
   "metadata": {
    "collapsed": false
   },
   "outputs": [
    {
     "name": "stdout",
     "output_type": "stream",
     "text": [
      "1.95694716243\n"
     ]
    }
   ],
   "source": [
    "H_H = 0.511\n",
    "\n",
    "def T(H):\n",
    "    return 1.0/H\n",
    "\n",
    "T_H = T(H_H)\n",
    "print T_H"
   ]
  },
  {
   "cell_type": "markdown",
   "metadata": {},
   "source": [
    "$t_0 = 13.7 Gyr$"
   ]
  },
  {
   "cell_type": "markdown",
   "metadata": {},
   "source": [
    "Percent error $\\rightarrow t_p = \\frac{t_0 - t_H}{t_0} \\cdot 100 \\%$"
   ]
  },
  {
   "cell_type": "markdown",
   "metadata": {},
   "source": [
    "$\\rightarrow t_p = (\\frac{13.7 Gyr}{13.7 - 1.957 Gyr}) = 116\\%$"
   ]
  },
  {
   "cell_type": "markdown",
   "metadata": {},
   "source": [
    "i.e. Hubble underestimated the age of the universe by 116%."
   ]
  },
  {
   "cell_type": "code",
   "execution_count": 104,
   "metadata": {
    "collapsed": false
   },
   "outputs": [
    {
     "name": "stdout",
     "output_type": "stream",
     "text": [
      "116.664722449\n"
     ]
    }
   ],
   "source": [
    "T_0 = 13.7\n",
    "\n",
    "def t_P(t_r, t_o,):\n",
    "    return ((t_r)/(t_r - t_o))*100.0\n",
    "\n",
    "t_p = t_P(T_0, T_H)\n",
    "print t_p"
   ]
  },
  {
   "cell_type": "markdown",
   "metadata": {},
   "source": [
    "recessional velocity $v = \\frac{70 km}{s} = 2.21 \\cdot 10^{18} km \\cdot Gyr^{-1}$ at 1 Mpc."
   ]
  },
  {
   "cell_type": "markdown",
   "metadata": {},
   "source": [
    "Hubble Law $\\rightarrow r_H = \\frac{v}{H_H} = 4.32 \\cdot 10^{18} km \\cdot Gyr^{-1}$"
   ]
  },
  {
   "cell_type": "code",
   "execution_count": 105,
   "metadata": {
    "collapsed": false
   },
   "outputs": [
    {
     "name": "stdout",
     "output_type": "stream",
     "text": [
      "4.32485322896e+18\n"
     ]
    }
   ],
   "source": [
    "v_0 = 2.21 * 10**(18)\n",
    "\n",
    "def r(v, H):\n",
    "    return v/H\n",
    "\n",
    "r_H = r(v_0, H_H)\n",
    "print r_H"
   ]
  },
  {
   "cell_type": "markdown",
   "metadata": {},
   "source": [
    "$H_0 = 70 \\frac{km}{s \\cdot Mpc} = 0.072 Gyr^{-1}$"
   ]
  },
  {
   "cell_type": "markdown",
   "metadata": {},
   "source": [
    "$r_0 = \\frac{v}{H_0} = \\frac{2.21 \\cdot 10^{18} km}{0.072 Gyr} = 3.07 \\cdot 10^{19} km \\cdot Gyr^{-1}$"
   ]
  },
  {
   "cell_type": "code",
   "execution_count": 106,
   "metadata": {
    "collapsed": false,
    "scrolled": false
   },
   "outputs": [
    {
     "name": "stdout",
     "output_type": "stream",
     "text": [
      "3.06944444444e+19\n"
     ]
    }
   ],
   "source": [
    "H_0 = 0.072\n",
    "\n",
    "r_0 = r(v_0, H_0)\n",
    "print r_0"
   ]
  },
  {
   "cell_type": "markdown",
   "metadata": {},
   "source": [
    "Percent error $\\rightarrow r_p = \\frac{r_0 - r_H}{r_0} \\cdot 100 \\%$"
   ]
  },
  {
   "cell_type": "markdown",
   "metadata": {},
   "source": [
    "$\\rightarrow r_p = (\\frac{3.07 \\cdot 10^{19} Gyr^{-1}}{3.07 \\cdot 10^{19} - 4.32 \\cdot 10^{18} Gyr^{-1}}) \\cdot 100\\% = 116 \\%$"
   ]
  },
  {
   "cell_type": "markdown",
   "metadata": {},
   "source": [
    "i.e. Hubble underestimated the distance to Cepheid stars by 116%."
   ]
  },
  {
   "cell_type": "code",
   "execution_count": 107,
   "metadata": {
    "collapsed": false
   },
   "outputs": [
    {
     "name": "stdout",
     "output_type": "stream",
     "text": [
      "116.400911162\n"
     ]
    }
   ],
   "source": [
    "def r_P(r_r, r_o,):\n",
    "    return ((r_r)/(r_r - r_o))*100.0\n",
    "\n",
    "r_p = r_P(r_0, r_H)\n",
    "print r_p"
   ]
  },
  {
   "cell_type": "markdown",
   "metadata": {},
   "source": [
    "$r_0 > r_H \\rightarrow v_0 > v_H \\rightarrow$ an accelerating universe."
   ]
  },
  {
   "cell_type": "markdown",
   "metadata": {},
   "source": [
    "Problem #3"
   ]
  },
  {
   "cell_type": "markdown",
   "metadata": {},
   "source": [
    "$ds \\ll R$ at a distance r"
   ]
  },
  {
   "cell_type": "markdown",
   "metadata": {},
   "source": [
    "$ds^{2} = dr^{2} + R^{2} sin^{2}(\\frac{r}{R})(d\\theta^{2} + sin^{2}(\\theta) \\cdot d\\phi^{2})$\n",
    "in a three-dimensional universe with positive curvature, i.e. a sphere."
   ]
  },
  {
   "cell_type": "markdown",
   "metadata": {},
   "source": [
    "$ds \\rightarrow dr'$ and $r \\rightarrow R $"
   ]
  },
  {
   "cell_type": "markdown",
   "metadata": {},
   "source": [
    "$\\rightarrow dr'^{2} = dr^{2} + R^{2}sin^{2}(\\frac{R}{R})(d\\theta^{2} + sin^2(\\theta) \\cdot d\\phi^{2})$"
   ]
  },
  {
   "cell_type": "markdown",
   "metadata": {},
   "source": [
    "$\\rightarrow dr'^{2} = 0 + R^{2}sin^{2}(1)(d\\theta^{2} + sin^{2}(0) \\cdot d\\phi^{2})$"
   ]
  },
  {
   "cell_type": "markdown",
   "metadata": {},
   "source": [
    "$\\rightarrow dr'^{2} = R^{2}sin^{2}(1) \\cdot d\\theta^2$"
   ]
  },
  {
   "cell_type": "markdown",
   "metadata": {},
   "source": [
    "$d\\theta^{2} = \\frac{dr'^{2}}{R^{2}sin^{2}(1)}$"
   ]
  },
  {
   "cell_type": "markdown",
   "metadata": {},
   "source": [
    "$r' \\rightarrow \\pi R$"
   ]
  },
  {
   "cell_type": "markdown",
   "metadata": {},
   "source": [
    "$d\\theta^{2} = \\frac{d(\\pi R)^{2}}{R^{2}sin^{2}(1)}$"
   ]
  },
  {
   "cell_type": "markdown",
   "metadata": {},
   "source": [
    "where $d(\\pi R) = \\pi \\rightarrow d\\theta^{2} = \\frac{\\pi^{2}}{R^{2}sin^{2}(1)}$"
   ]
  },
  {
   "cell_type": "markdown",
   "metadata": {},
   "source": [
    "$\\rightarrow d\\theta = \\frac{\\pi}{R sin(1)}$"
   ]
  },
  {
   "cell_type": "markdown",
   "metadata": {},
   "source": [
    "Problem #4"
   ]
  },
  {
   "cell_type": "markdown",
   "metadata": {},
   "source": [
    "Solved Algebraically"
   ]
  },
  {
   "cell_type": "markdown",
   "metadata": {},
   "source": [
    "$\\dot{a}^{2} = H_0^{2}a^{-3}$ (Matter dominated Universe)"
   ]
  },
  {
   "cell_type": "markdown",
   "metadata": {},
   "source": [
    "$\\rightarrow (\\frac{da}{dt})^{2} = H_0^{2}a^{-3}$"
   ]
  },
  {
   "cell_type": "markdown",
   "metadata": {},
   "source": [
    "$ \\rightarrow \\frac{da}{dt} = \\sqrt{H_0^{2}a^{-3}} = H_0a^{-\\frac{3}{2}}$"
   ]
  },
  {
   "cell_type": "markdown",
   "metadata": {},
   "source": [
    "$\\rightarrow a^{\\frac{3}{2}} da = H_0 dt$"
   ]
  },
  {
   "cell_type": "markdown",
   "metadata": {},
   "source": [
    "$\\rightarrow \\int{a^{\\frac{3}{2}} da} = \\int{H_0 dt}$"
   ]
  },
  {
   "cell_type": "markdown",
   "metadata": {},
   "source": [
    "$\\rightarrow \\frac{2}{5}a^{\\frac{5}{2}} = H_0t$"
   ]
  },
  {
   "cell_type": "markdown",
   "metadata": {},
   "source": [
    "$\\rightarrow a = (\\frac{5}{2}H_0 t)^{\\frac{2}{5}}$"
   ]
  },
  {
   "cell_type": "code",
   "execution_count": 111,
   "metadata": {
    "collapsed": false,
    "scrolled": true
   },
   "outputs": [
    {
     "data": {
      "image/png": "[encoded data removed]",
      "text/plain": [
       "<matplotlib.figure.Figure at 0x11981d550>"
      ]
     },
     "metadata": {},
     "output_type": "display_data"
    }
   ],
   "source": [
    "%matplotlib inline\n",
    "\n",
    "import matplotlib.pyplot as plt\n",
    "\n",
    "t_n = np.arange(4.3354e17, 0, -1.0e16) #array of input times in seconds.\n",
    "\n",
    "a_a = ((5/2)*H_0*t_n)**(2/5)\n",
    "\n",
    "plt.plot(t_n, a_a, 'k--')\n",
    "plt.tight_layout()\n",
    "plt.show()"
   ]
  },
  {
   "cell_type": "markdown",
   "metadata": {},
   "source": [
    "Solved Numerically"
   ]
  },
  {
   "cell_type": "code",
   "execution_count": 112,
   "metadata": {
    "collapsed": false,
    "scrolled": true
   },
   "outputs": [
    {
     "data": {
      "image/png": "[encoded data removed]",
      "text/plain": [
       "<matplotlib.figure.Figure at 0x118c729d0>"
      ]
     },
     "metadata": {},
     "output_type": "display_data"
    }
   ],
   "source": [
    "from scipy import integrate\n",
    "from scipy.integrate import odeint\n",
    "\n",
    "def a_N(a, t):\n",
    "    return H_0 * a**(-3/2)\n",
    "\n",
    "a_n = odeint(a_N, 1, t_n)\n",
    "\n",
    "plt.plot(t_n, a_n, 'k--')\n",
    "plt.tight_layout()\n",
    "plt.show()"
   ]
  },
  {
   "cell_type": "code",
   "execution_count": 114,
   "metadata": {
    "collapsed": false
   },
   "outputs": [
    {
     "data": {
      "image/png": "[encoded data removed]",
      "text/plain": [
       "<matplotlib.figure.Figure at 0x119f77fd0>"
      ]
     },
     "metadata": {},
     "output_type": "display_data"
    }
   ],
   "source": [
    "plt.plot(t_n, a_n, 'k--')\n",
    "plt.plot(t_n, a_a, 'b--')\n",
    "plt.title('a(t) Solutions Overlayed')\n",
    "plt.xlabel('time (s)')\n",
    "plt.ylabel('a(t)')\n",
    "plt.ylim([-0.2, 1.2])\n",
    "plt.tight_layout()\n",
    "plt.show()"
   ]
  },
  {
   "cell_type": "code",
   "execution_count": null,
   "metadata": {
    "collapsed": true
   },
   "outputs": [],
   "source": []
  }
 ],
 "metadata": {
  "kernelspec": {
   "display_name": "Python 2",
   "language": "python",
   "name": "python2"
  },
  "language_info": {
   "codemirror_mode": {
    "name": "ipython",
    "version": 2
   },
   "file_extension": ".py",
   "mimetype": "text/x-python",
   "name": "python",
   "nbconvert_exporter": "python",
   "pygments_lexer": "ipython2",
   "version": "2.7.10"
  }
 },
 "nbformat": 4,
 "nbformat_minor": 0
}
