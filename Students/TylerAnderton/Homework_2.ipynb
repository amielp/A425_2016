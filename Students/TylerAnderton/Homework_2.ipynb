{
 "cells": [
  {
   "cell_type": "markdown",
   "metadata": {},
   "source": [
    "# 1\n",
    "\n",
    "We assume an Olberian universe to be infinitely old, infinitely big, and homogenous and isotropic throughout, with a density of stars of $n=10^9$ Mpc$^{-1}$ and a radius of $d=7*10^8$ m for each star. We want to calculate the minimum distance in such a universe such that any line of sight from an arbitrary point is guaranteed to collide with a star. We will call this distance $R$. \n",
    "\n",
    "The solid angle that each star creates on the celestial sphere, $\\omega$, is\n",
    "\n",
    "$\\omega=\\iint_S\\frac{\\bf{\\hat{n}}\\cdot\\bf{da}}{r^2}=\\int_0^{2\\pi}\\int_0^d\\frac{d'dd'd\\theta}{r^2}=\\frac{{\\pi}d^2}{r^2}$\n",
    "\n",
    "We also know that the number of stars in a given area $N(r)$ can be calculated by\n",
    "\n",
    "$N(r)=\\frac{4}{3}n{\\pi}r^3$\n",
    "\n",
    "It follows then that the number of stars in a spherical shell of thickness $dr$ is\n",
    "\n",
    "$dN=4n{\\pi}r^2dr$\n",
    "\n",
    "The total solid angle covered by all stars within a distance $R$ would then be\n",
    "\n",
    "$\\Omega=\\int_{r=0}^{r=R}{\\omega}dN=4n\\pi^2d^2\\int_0^Rdr=4n\\pi^2d^2R=4\\pi$\n",
    "\n",
    "Set equal to $4\\pi$ because we want the total solid angle to cover all possible lines of sight. Solving for $R$ yeilds\n",
    "\n",
    "$R=\\frac{1}{n{\\pi}d^2}=1.94*10^{40}$ m$=6.24*10^{17}$ Mpc"
   ]
  },
  {
   "cell_type": "markdown",
   "metadata": {},
   "source": [
    "#2\n",
    "We know in general that\n",
    "\n",
    "$v=Hr$\n",
    "\n",
    "$r=v/H$\n",
    "\n",
    "With these relationships, we can find the ratio of error between Hubble's distance measurement $r_H$ and today's measurement $r_0$ while assuming a constant rate of expansion $v$:\n",
    "\n",
    "$\\frac{r_0-r_H}{r_0}=\\frac{\\frac{v}{H_0}-\\frac{v}{H_H}}{\\frac{v}{H_0}}=\\frac{vH_0(\\frac{H_H-H_0}{H_0H_H})}{v}=\\frac{H_H-H_0}{H_H}$\n",
    "\n",
    "where $H_H$ is Hubble's derivation of his constant: \n",
    "\n",
    "$H_H=500$ km s$^{-1}$ Mpc$^{-1}=0.516$ Gyr$^{-1}$\n",
    "\n",
    "This corresponds to an age of the universe $t_H=1.9375$ Gyr, which is much less than the currently accepted age of the universe, $t_0=13.7$ Gyr, from which $H_0$ can be derived:\n",
    "\n",
    "$H_0=\\frac{1}{t_0}=0.0730$ Gyr$^{-1}$\n",
    "\n",
    "Then, inputing these values to the equation above, we can see that Hubble was off in his distance measurements by a ratio of about:\n",
    "\n",
    "$\\frac{H_H-H_0}{H_H}=0.859$\n",
    "\n",
    "If we wanted to accept Hubble's constant as true and reconcile his findings with the current state of the universe, we would need to compare the two equations:\n",
    "\n",
    "$r_0=\\frac{v_0}{H_H}$\n",
    "\n",
    "$r_H=\\frac{v_H}{H_H}$\n",
    "\n",
    "$r_0>r_H{\\Rightarrow}v_0>v_H$\n",
    "\n",
    "Therefore, we must live in an accelerating universe if Hubble is to be believed."
   ]
  },
  {
   "cell_type": "markdown",
   "metadata": {
    "collapsed": true
   },
   "source": [
    "#3\n",
    "\n",
    "Living in a two-dimensional universe on the surface of a sphere of radius $R$, I am looking at an object of width $ds<<R$ that is a length $r$ away from me as measured along the surface of the sphere. I want to find the angle $d\\theta$ subtended by the object from my point of view. I will define my spherical coordinate system such that I am looking along the longitudinal line $\\theta=\\frac{\\pi}{2}$. $d\\phi$ will define the angle measured from the center of the sphere, between myself and the object. I will begin with the general formula for the distance between two points on a positively curved surface:\n",
    "\n",
    "$dl^2=dr'^2+R^2\\sin^2{\\frac{r'}{R}}(d\\theta^2+\\sin^2{\\theta}d\\phi^2)$\n",
    "\n",
    "where $dl$ will translate to $dr$ in our case, and $r'=R{\\Rightarrow}dr'=0$. $d\\theta$ will also go to zero, as we are remaining on $\\theta=\\frac{\\pi}{2}$, which also means that $\\sin^2{\\theta}=1$. What we are left with is:\n",
    "\n",
    "$dr^2=R^2\\sin^2{(1)}d\\phi^2$\n",
    "\n",
    "$dr=R\\sin{(1)}d\\phi$\n",
    "\n",
    "Simple integration will give us:\n",
    "\n",
    "$r=R\\sin{(1)}\\phi$\n",
    "\n",
    "Now that we have a good expression for $r$, we can use the small angle approximation to find an expression for our desired quantity:\n",
    "\n",
    "$d\\theta=\\frac{ds}{r}$\n",
    "\n",
    "$d\\theta=\\frac{ds}{R\\sin{(1)}\\phi}$\n",
    "\n",
    "As our length of $r$ extends all the way around to the exact opposite side of the sphere,\n",
    "\n",
    "$\\lim_{r{\\rightarrow}{\\pi}R}d\\theta=\\frac{ds}{{\\pi}R}$"
   ]
  },
  {
   "cell_type": "markdown",
   "metadata": {
    "collapsed": true
   },
   "source": [
    "#4\n",
    "\n",
    "$(\\frac{da}{dt})^2=\\frac{H_0^2}{a^3}$\n",
    "\n",
    "$\\frac{da}{dt}=\\frac{H_0}{a^{\\frac{3}{2}}}$\n",
    "\n",
    "${\\int}a^{\\frac{3}{2}}da={\\int}H_0dt$\n",
    "\n",
    "$\\frac{2}{3}a^{\\frac{5}{2}}=H_0t+c$\n",
    "\n",
    "$\\frac{2}{5}=H_0t_0+c$\n",
    "\n",
    "$\\frac{-3}{5}=c$\n",
    "\n",
    "Finally, $a(t)=(\\frac{5}{2}H_0t-\\frac{3}{2})^\\frac{2}{5}$"
   ]
  },
  {
   "cell_type": "code",
   "execution_count": 21,
   "metadata": {
    "collapsed": false
   },
   "outputs": [
    {
     "data": {
      "image/png": "[encoded data removed]",
      "text/plain": [
       "<matplotlib.figure.Figure at 0x10552ba50>"
      ]
     },
     "metadata": {},
     "output_type": "display_data"
    }
   ],
   "source": [
    "%matplotlib inline\n",
    "\n",
    "import math\n",
    "import numpy as np\n",
    "import matplotlib.pyplot as plt\n",
    "from scipy import integrate\n",
    "from scipy.integrate import odeint\n",
    "\n",
    "H=70\n",
    "\n",
    "def adot(a,H):\n",
    "    return H/(a**1.5)\n",
    "\n",
    "t = np.linspace(1,200,200)\n",
    "\n",
    "solve = odeint(adot, 1, t)\n",
    "\n",
    "#print solve\n",
    "\n",
    "A = (2.5*H*t-1.5)**0.4\n",
    "\n",
    "estimate, = plt.plot(t,solve, label='Numerical Estimate')\n",
    "actual, = plt.plot(A, label='Actual Solution')\n",
    "plt.legend(handles=[estimate, actual])\n",
    "plt.xlabel('$t$')\n",
    "plt.ylabel('$a(t)$ when $H_0=70$')\n",
    "plt.title('Numerical Approximation Using scipy odeint')\n",
    "plt.show()"
   ]
  },
  {
   "cell_type": "code",
   "execution_count": null,
   "metadata": {
    "collapsed": true
   },
   "outputs": [],
   "source": []
  },
  {
   "cell_type": "code",
   "execution_count": null,
   "metadata": {
    "collapsed": true
   },
   "outputs": [],
   "source": []
  }
 ],
 "metadata": {
  "kernelspec": {
   "display_name": "Python 2",
   "language": "python",
   "name": "python2"
  },
  "language_info": {
   "codemirror_mode": {
    "name": "ipython",
    "version": 2
   },
   "file_extension": ".py",
   "mimetype": "text/x-python",
   "name": "python",
   "nbconvert_exporter": "python",
   "pygments_lexer": "ipython2",
   "version": "2.7.10"
  }
 },
 "nbformat": 4,
 "nbformat_minor": 0
}
