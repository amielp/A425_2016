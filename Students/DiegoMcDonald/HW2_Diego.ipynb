{
 "cells": [
  {
   "cell_type": "code",
   "execution_count": 1,
   "metadata": {
    "collapsed": false
   },
   "outputs": [
    {
     "name": "stdout",
     "output_type": "stream",
     "text": [
      "6.185219803478888e+17 Mpc\n"
     ]
    }
   ],
   "source": [
    "import numpy as np\n",
    "from astropy import units as u\n",
    "from astropy import constants as const\n",
    "import sympy as sp\n",
    "sp.init_printing() \n",
    "import matplotlib.pyplot as plt\n",
    "%matplotlib inline\n",
    "from scipy.integrate import odeint\n",
    "\n",
    "'''\n",
    "think of line of sight as cylinder with radius r = r_star and distance l. We are solving for l.\n",
    "\n",
    "volume of cylinder * density = 1\n",
    "'''\n",
    "\n",
    "# Luminosity \n",
    "L = const.L_sun\n",
    "\n",
    "#defining Mpc unit\n",
    "Mpc = u.def_unit('Mpc', u.pc * 10**6)\n",
    "\n",
    "#Number Density\n",
    "n = (10**9)/(u.Mpc)**3\n",
    "\n",
    "#radius\n",
    "r_star= 7*(10**8)*u.m\n",
    "\n",
    "# np.pi * (r_star)**2 * l * n = 1; solve for l\n",
    "\n",
    "l = 1/(n * np.pi * (r_star)**2)\n",
    "#l=l.to(u.pc)\n",
    "print(l.to(u.Mpc))\n",
    "\n",
    "\n",
    "\n"
   ]
  },
  {
   "cell_type": "code",
   "execution_count": 2,
   "metadata": {
    "collapsed": false
   },
   "outputs": [
    {
     "name": "stdout",
     "output_type": "stream",
     "text": [
      "Hubble determined the false distance to be  0.14*r  where r = true distance to cepheids\n",
      "Thus making the age of the Universe  1.9555844433462568 Gyr\n",
      "In order to reconcile this difference, the Universe would have to be accelerating in order for the current age of the Universe to be 13.7 Gyrs\n"
     ]
    }
   ],
   "source": [
    "H_false = 500 *u.km*((u.s)**-1)*((u.Mpc)**-1)\n",
    "H_true = 70 *u.km*((u.s)**-1)*((u.Mpc)**-1)\n",
    "c = 299792485 * (u.m/u.s)\n",
    "Gyr = u.def_unit('Gyr',u.yr * 10**9)\n",
    "# Hubble's Law; z = (H_o/c)*r; \n",
    "\n",
    "# defining sympy vars for r_true used below\n",
    "r_true = sp.symbols('r')\n",
    "\n",
    "#z1 = H_false * r_false / c\n",
    "#z2 = H_true * r_true / c\n",
    "\n",
    "#setting z1 = z2 in order to determine r_false in terms of r_true for given z;\n",
    "r_false = (H_true/H_false)*r_true\n",
    "print ('Hubble determined the false distance to be ',r_false, ' where r = true distance to cepheids')\n",
    "\n",
    "# r_false = 0.14*r_true; therefore Hubble's estimation of distance to cepheids was 14% of the actual distance.\n",
    "age_false = 1/H_false # t_univerise = 1 / H_o\n",
    "print('Thus making the age of the Universe ',age_false.to(u.Gyr))\n",
    "\n",
    "# assuming Hubbles determined parameter (H_false) to be for a expanding but not accelerating universe\n",
    "print('In order to reconcile this difference, the Universe would have to be accelerating in order for the current age of the Universe to be 13.7 Gyrs')\n"
   ]
  },
  {
   "cell_type": "code",
   "execution_count": 3,
   "metadata": {
    "collapsed": false
   },
   "outputs": [
    {
     "data": {
      "image/png": "[encoded data removed]",
      "text/latex": [
       "$$R^{2} dθ^{2} \\sin^{2}{\\left (\\frac{r}{R} \\right )}$$"
      ],
      "text/plain": [
       " 2   2    2⎛r⎞\n",
       "R ⋅dθ ⋅sin ⎜─⎟\n",
       "           ⎝R⎠"
      ]
     },
     "execution_count": 3,
     "metadata": {},
     "output_type": "execute_result"
    }
   ],
   "source": [
    "# Ryden 3.2\n",
    "sp.init_printing()\n",
    "# We know that dr = 0 since ds << R. \n",
    "dr = 0\n",
    "dr2 = dr**2\n",
    "# First, we define metric:\n",
    "# ds2 = ds^2 = dr^2 + (R^2)sin^2(r/R)dTheta^2;\n",
    "# define sympy vars: \n",
    "R = sp.symbols('R')\n",
    "r = sp.symbols('r')\n",
    "dTheta = sp.symbols('d\\u03B8')\n",
    "ds2 = dr2 + (R**2)*(sp.sin(r/R))**(2)*(dTheta**2)\n",
    "ds2"
   ]
  },
  {
   "cell_type": "code",
   "execution_count": 4,
   "metadata": {
    "collapsed": false
   },
   "outputs": [
    {
     "name": "stdout",
     "output_type": "stream",
     "text": [
      "Taking the square root and rearranging to solve for dθ:\n"
     ]
    },
    {
     "data": {
      "image/png": "[encoded data removed]",
      "text/latex": [
       "$$\\frac{ds}{R \\sin{\\left (\\frac{r}{R} \\right )}}$$"
      ],
      "text/plain": [
       "   ds   \n",
       "────────\n",
       "     ⎛r⎞\n",
       "R⋅sin⎜─⎟\n",
       "     ⎝R⎠"
      ]
     },
     "execution_count": 4,
     "metadata": {},
     "output_type": "execute_result"
    }
   ],
   "source": [
    "# Ryden 3.2 Cont'd\n",
    "print ('Taking the square root and rearranging to solve for d\\u03B8:')\n",
    "ds = sp.symbols('ds') # defining sympy var ds to make pretty output\n",
    "dTheta = ds/(R * sp.sin(r/R))\n",
    "dTheta\n",
    "\n",
    "# Now to describe the behavior of dTheta as dTheta --> (pi*R)\n",
    "# we know when r = (pi*R)/2, dtheta = ds/R\n",
    "# keeping ds fixed, as r descrease from 0 to (pi*R)/2\n",
    "# for r > (pi*R)/2, dTheta increases wrt "
   ]
  },
  {
   "cell_type": "code",
   "execution_count": 10,
   "metadata": {
    "collapsed": false
   },
   "outputs": [
    {
     "data": {
      "text/plain": [
       "<matplotlib.text.Text at 0x7f0b71a35cc0>"
      ]
     },
     "execution_count": 10,
     "metadata": {},
     "output_type": "execute_result"
    },
    {
     "data": {
      "image/png": "[encoded data removed]",
      "text/plain": [
       "<matplotlib.figure.Figure at 0x7f0b71a89e48>"
      ]
     },
     "metadata": {},
     "output_type": "display_data"
    }
   ],
   "source": [
    "H_o = 70 *u.km*((u.s)**-1)*((u.Mpc)**-1)\n",
    "# numerical solution\n",
    "\n",
    "a = np.linspace(0,2,41) # samples a between 0 and 2, [0,0.05];[0.05,0.1];[0.1,0.15]; etc.\n",
    "t = (2/5)*(a**(5/2))/(H_o) * (10**12) # multiply by 10^12 to get graphs on same scale of Gyrs\n",
    "\n",
    "fig,ax = plt.subplots(1,1)\n",
    "ax.plot(t,a,color='r')\n",
    "\n",
    "# analytical/algebraic solution:\n",
    "H_o = 70 *u.km*((u.s)**-1)*((u.Mpc)**-1)\n",
    "t = np.linspace(0,13700000000,1000)*u.yr # time scale from 0 to 13.7 Gyrs, 1000 bins spaced linearly\n",
    "c=0\n",
    "a_t = ((5/2)*(H_o*t+c))**(2/5)\n",
    "ax.plot(t,a_t)\n",
    "ax.set_xlabel('time(years)')\n",
    "ax.set_ylabel('Scale factor (a)')\n"
   ]
  },
  {
   "cell_type": "code",
   "execution_count": null,
   "metadata": {
    "collapsed": true
   },
   "outputs": [],
   "source": []
  }
 ],
 "metadata": {
  "anaconda-cloud": {},
  "kernelspec": {
   "display_name": "Python [default]",
   "language": "python",
   "name": "python3"
  },
  "language_info": {
   "codemirror_mode": {
    "name": "ipython",
    "version": 3
   },
   "file_extension": ".py",
   "mimetype": "text/x-python",
   "name": "python",
   "nbconvert_exporter": "python",
   "pygments_lexer": "ipython3",
   "version": "3.5.2"
  }
 },
 "nbformat": 4,
 "nbformat_minor": 1
}
