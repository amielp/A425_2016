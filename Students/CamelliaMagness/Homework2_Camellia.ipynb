{
 "cells": [
  {
   "cell_type": "code",
   "execution_count": 4,
   "metadata": {
    "collapsed": false
   },
   "outputs": [
    {
     "name": "stdout",
     "output_type": "stream",
     "text": [
      "Populating the interactive namespace from numpy and matplotlib\n"
     ]
    }
   ],
   "source": [
    "%pylab inline\n",
    "import numpy as np\n",
    "from astropy.table import Table, Column\n",
    "from scipy.optimize import curve_fit\n",
    "from IPython.display import display, Math, Latex\n",
    "from scipy.integrate import odeint\n",
    "plt.style.use('seaborn-whitegrid')"
   ]
  },
  {
   "cell_type": "markdown",
   "metadata": {},
   "source": [
    "##### 1. If we lived in a Olberian universe\n",
    "##### (a) calculate the distance at which any random line-of-sight will intersect the surface of a star (this is referred to as the point at which the optical depth of uniformly distributed stars is unity)\n",
    "\n",
    "##### Assume all the stars have the same luminosity as the Sun, the average number density of stars is $10^{9} \\: Mpc^{-3}$, and the radius of the stars is $7x10^{8}m$."
   ]
  },
  {
   "cell_type": "markdown",
   "metadata": {
    "collapsed": true
   },
   "source": [
    "In an Olberian Universe no stars block any other stars, and the universe is infinite in age. We can find the distance that any random line-of-sight will intersect with a star by calculating the mean free path, as described by\n",
    "\n",
    "$$ d = \\frac{1}{n_{stars}\\sigma_{\\star}} $$\n",
    "\n",
    "where $n_{stars}$ is the average number density of the stars and $\\sigma_{\\star}$ is the angular area of the mean star. Putting this in terms of the radius\n",
    "\n",
    "$$ d = \\frac{1}{n_{stars}\\pi(r_{\\star})^{2}} $$\n",
    "\n",
    "using n_{stars} = $10^{9} \\:Mpc^{-3}$ and $r_{\\star} = 2.269x10^{-14} \\:Mpc$\n",
    "\n",
    "$$ d = \\frac{1}{(10^9)(\\pi)(2.269x10^{-14})^{2}} \\: Mpc = 6.183x10^{17} \\:Mpc$$"
   ]
  },
  {
   "cell_type": "markdown",
   "metadata": {},
   "source": [
    "##### 2. When Edwin Hubble measured the expansion rate of the universe he derived a Hubble’s constant of 500 $\\frac{km}{Mpc\\:s}$. To get this value of $H_{o}$ how incorrect were his estimates of the distances to Cepheid stars? How does his value of the universe change the age of the universe and would we need to live in an accelerating or decelerating universe in order to reconcile the Hubble time with the current age of the universe (13.7 Gyr). Remember to explain your answers."
   ]
  },
  {
   "cell_type": "markdown",
   "metadata": {},
   "source": [
    "To measure the distances to Cepheid stars with the Hubble constant we can use  $\\:v_{Cepheid} = H_{o}d$\n",
    "\n",
    "In our universe, this velocity is invariable but based on varying values for Hubble's constant, the distance will change. Thus we can equate the velocity with our current known value versus his:\n",
    "\n",
    "$$H_{o\\:hubble}\\:d_{hubble} = H_{o\\:current}\\:d_{current} \\:\\rightarrow \\:d_{hubble} = \\frac{H_{o\\:current}}{H_{o\\:hubble}}\\:d_{current} \\:\\rightarrow \\:d_{hubble} = \\frac{70}{500}\\:d_{current} \\:\\rightarrow \\:d_{hubble} = 0.14\\:d_{current}$$\n",
    "\n",
    "His values for distances must have been 0.14 of the currently determined distances.\n",
    "\n",
    "To determine the approximate age of the universe we can use the fact that the Hubble time $t_{o} = H_{o}^{-1}$ and use Hubble's value for $H_{o}$:\n",
    "\n",
    "$$t_{o} = \\frac{1}{500} \\:\\frac{km}{Mpc \\:s} \\:\\rightarrow t_{o} = \\frac{1}{1.62x10^{-17}} \\:s \\:\\rightarrow t_{o} = 6.17x10^{16} \\:s \\:\\rightarrow t_{o} = 1.95x10^{9} \\:yr = 1.95 \\:Gyr$$\n",
    "\n",
    "This is approximately 0.14 the age of the universe we estimate now. In order to reconcile this with the current age of the universe, the universe would have to be deaccelerating. We can see this easily by looking at the Hubble time from our value for $H_{o}$, which is about 14.4 Gyr, an overestimate in a universe we know is accelerating. To calculate an underestime in the age of the universe implies to opposite, deacceleration."
   ]
  },
  {
   "cell_type": "markdown",
   "metadata": {},
   "source": [
    "##### 3. Ryden Problem 3.2: Suppose you are a two-dimensional being, living on the surface of a sphere with radius R. An object of width ds ≪ R is at a distance r from you (remember, all distances are measured on the surface of the sphere). What angular width dθ will you measure for the object? Explain the behavior of dθ as r → πR."
   ]
  },
  {
   "cell_type": "markdown",
   "metadata": {},
   "source": [
    "The proper metric $ds^{2}$ for a positively curved surface like a sphere with radius $R$ between two points in $(r,\\theta)$ with separation $(dr, d\\theta)$ is:\n",
    "\n",
    "$$ds^{2} = dr^{2} + R^{2}sin^{2}(\\frac{r}{R})d\\theta^{2} $$\n",
    "\n",
    "Solving for $d\\theta$:\n",
    "\n",
    "$$ds^{2} - dr^{2} = R^{2}sin^{2}(\\frac{r}{R})d\\theta^{2} \\:\\rightarrow\\: d\\theta^{2} = \\frac{ds^{2} - dr^{2}}{R^{2}sin^{2}(\\frac{r}{R})} \\:\\rightarrow\\: d\\theta = \\sqrt{\\frac{ds^{2} - dr^{2}}{R^{2}sin^{2}(\\frac{r}{R})}}$$\n",
    "\n",
    "For a this surface, Ryden details that $r = \\pi R$ is the antipodal distance, that is, the distance at maximum possible separation, or infinity. We see this to be true from evaluating $d\\theta$ when $r \\rightarrow \\pi R$:\n",
    "\n",
    "$$d\\theta = \\sqrt{\\frac{ds^{2} - dr^{2}}{R^{2}sin^{2}(\\frac{r}{R})}}; r = \\pi R \\:\\rightarrow\\:  d\\theta = \\sqrt{\\frac{ds^{2} - dr^{2}}{R^{2}sin^{2}(\\frac{\\pi R}{R})}} \\:\\rightarrow\\:  d\\theta = \\sqrt{\\frac{ds^{2} - dr^{2}}{R^{2}sin^{2}(\\pi)}} \\:\\rightarrow\\:  d\\theta = \\sqrt{\\frac{ds^{2} - dr^{2}}{R^{2}(0)}} \\:\\rightarrow\\:  d\\theta = \\infty$$"
   ]
  },
  {
   "cell_type": "markdown",
   "metadata": {},
   "source": [
    "##### 4. Using Python solve the following equation numerically and plot a(t) vs t. Note “.” represents the time derivative,\n",
    "$$\\dot{a}(t)^{2} = H_{0}^{2}a(t)^{-3}$$\n",
    "##### where $H_{o}$ is the Hubble constant ($H_{o} = 70 \\frac{km}{Mpc\\:s}$)\n",
    "##### Solve the integration algebraically and overlay the solution on your plot."
   ]
  },
  {
   "cell_type": "markdown",
   "metadata": {},
   "source": [
    "If we define $\\dot{a}$ as a function, we can numerically solve using the Python function odeint. Taking the square root of both sides we see that $\\dot{a} = H_{o}a(t)^{-3/2}$. Writing a quick function for this in the next cell:"
   ]
  },
  {
   "cell_type": "code",
   "execution_count": 13,
   "metadata": {
    "collapsed": false
   },
   "outputs": [],
   "source": [
    "h = 70\n",
    "def a_dot(a,t):\n",
    "    return h*a**-1.5\n",
    "\n",
    "t = np.linspace(0,1000,100)\n",
    "\n",
    "a_t = odeint(a_dot, 1, t)"
   ]
  },
  {
   "cell_type": "code",
   "execution_count": 15,
   "metadata": {
    "collapsed": false
   },
   "outputs": [
    {
     "data": {
      "text/plain": [
       "[<matplotlib.lines.Line2D at 0x10d498bd0>]"
      ]
     },
     "execution_count": 15,
     "metadata": {},
     "output_type": "execute_result"
    },
    {
     "data": {
      "image/png": "[encoded data removed]",
      "text/plain": [
       "<matplotlib.figure.Figure at 0x10d412410>"
      ]
     },
     "metadata": {},
     "output_type": "display_data"
    }
   ],
   "source": [
    "fig,ax = subplots(1,1)\n",
    "fig.tight_layout()\n",
    "\n",
    "ax.set_title(\"Scale Factor vs. Time\")\n",
    "ax.set_xlabel(\"t\")\n",
    "ax.set_ylabel(\"a(t)\")\n",
    "\n",
    "ax.plot(t,a_t,linestyle=\"none\",marker=\".\", markersize=5,color=\"k\")"
   ]
  },
  {
   "cell_type": "markdown",
   "metadata": {},
   "source": [
    "Solving algebraically\n",
    "\n",
    "$$\\dot{a}(t)^{2} = H_{0}^{2}a(t)^{-3} \\:\\rightarrow \\: \\dot{a}(t) = H_{0}a(t)^{-3/2} \\:\\rightarrow\\: \\frac{da(t)}{dt} = H_{0}a(t)^{-3/2} \\:\\rightarrow\\: a^{3/2}da = H_{o}dt$$\n",
    "\n",
    "$$\\int_{o}^{a} a^{3/2}da = \\int_{o}^{t} H_{o}dt \\:\\rightarrow\\: \\frac{2}{5}a^{5/2} \\mid_{0}^{a} \\:= H_{0}t \\:\\mid_{o}^{t} \\:\\rightarrow\\: a(t) = (\\frac{5}{2}H_{o}t)^{2/5}$$\n",
    "\n",
    "Plotting this (red) along with the numerical solution (black):"
   ]
  },
  {
   "cell_type": "code",
   "execution_count": 19,
   "metadata": {
    "collapsed": false
   },
   "outputs": [
    {
     "data": {
      "text/plain": [
       "[<matplotlib.lines.Line2D at 0x110896b50>]"
      ]
     },
     "execution_count": 19,
     "metadata": {},
     "output_type": "execute_result"
    },
    {
     "data": {
      "image/png": "[encoded data removed]",
      "text/plain": [
       "<matplotlib.figure.Figure at 0x110584290>"
      ]
     },
     "metadata": {},
     "output_type": "display_data"
    }
   ],
   "source": [
    "def a(t):\n",
    "    return (2.5*h*t)**0.4\n",
    "\n",
    "fig,ax = subplots(1,1)\n",
    "fig.tight_layout()\n",
    "\n",
    "ax.set_title(\"Scale Factor vs. Time\")\n",
    "ax.set_xlabel(\"t\")\n",
    "ax.set_ylabel(\"a(t)\")\n",
    "\n",
    "ax.plot(t,a_t,linestyle=\"none\",marker=\".\", markersize=5,color=\"k\")\n",
    "ax.plot(t,a(t),linestyle=\"none\",marker=\".\", markersize=5,color=\"r\")"
   ]
  },
  {
   "cell_type": "markdown",
   "metadata": {},
   "source": [
    "Clearly these are quite similar, we can see the near perfect overlap."
   ]
  },
  {
   "cell_type": "code",
   "execution_count": null,
   "metadata": {
    "collapsed": true
   },
   "outputs": [],
   "source": []
  }
 ],
 "metadata": {
  "anaconda-cloud": {},
  "kernelspec": {
   "display_name": "Python [Root]",
   "language": "python",
   "name": "Python [Root]"
  },
  "language_info": {
   "codemirror_mode": {
    "name": "ipython",
    "version": 2
   },
   "file_extension": ".py",
   "mimetype": "text/x-python",
   "name": "python",
   "nbconvert_exporter": "python",
   "pygments_lexer": "ipython2",
   "version": "2.7.11"
  }
 },
 "nbformat": 4,
 "nbformat_minor": 0
}
