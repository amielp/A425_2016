{
 "cells": [
  {
   "cell_type": "markdown",
   "metadata": {},
   "source": [
    "# HW4 Pt1 - Locke Patton"
   ]
  },
  {
   "cell_type": "code",
   "execution_count": 20,
   "metadata": {
    "collapsed": true
   },
   "outputs": [],
   "source": [
    "import numpy as np\n",
    "import astropy.units as u\n",
    "%matplotlib inline"
   ]
  },
  {
   "cell_type": "markdown",
   "metadata": {},
   "source": [
    "## Problem 1\n",
    "\n",
    "#### Consider two distant galaxies both along the same line of sight. The closest galaxy is at a redshift $z_1$ and the more distant galaxy at a redshift $z_2$. By considering how a photon might travel from galaxy 2 to galaxy 1 and then to an observer at redshift 0 calculate.\n",
    "\n",
    "###### a. The redshift of second galaxy if observed from the first galaxy (in terms of z1 and z2)\n",
    "\n",
    "We define redshift using:\n",
    "$$1 + z = \\frac{a(t_o)}{a(t_e)}$$\n",
    "\n",
    "Comparing our observations of the each galaxy, we find:\n",
    "$$1 + z_1 = \\frac{1}{a(t_{e1})} \\quad 1 + z_2 = \\frac{1}{a(t_{e2})}$$\n",
    "\n",
    "Comparing the two galaxies to each other, we find:\n",
    "\n",
    "$$1 + z_{21} = \\frac{a(t_{observed\\, 1})}{a(t_{emitted\\, 2})}$$\n",
    "\n",
    "Since we $t_{observed\\, 1} = t_{emitted\\, 1}$:\n",
    "\n",
    "$$1 + z_{21} = \\frac{a(t_{emitted\\, 1})}{a(t_{emitted\\, 2})}$$\n",
    "\n",
    "Plugging in for $a(t_{emitted\\, 1})$:\n",
    "\n",
    "$$1 + z_{21} = \\frac{1}{(1+z_1)a(t_{emitted\\, 2})}$$\n",
    "\n",
    "Similarly pluggin in for $a(t_{emitted\\, 2})$:\n",
    "\n",
    "$$1 + z_{21} = \\frac{1+z_2}{1+z_1}$$\n",
    "\n",
    "Therfore the redshift of second galaxy if observed from the first galaxy $z_{21}$:\n",
    "\n",
    "$$z_{21} = \\frac{1+z_2}{1+z_1} - 1$$\n",
    "\n",
    "\n",
    "###### b. For a flat universe with Ωm=1 (Einstein-deSitter) calculate the angular diameter distance to galaxy 1 and 2 (if z1=0.5 and z2 = 1.6) and the angular diameter distance from galaxy 1 to galaxy 2\n",
    "\n",
    "In a flat universe, the angular diameter distance, $d_A$, and proper distance, $d_p$ are related like so:\n",
    "\n",
    "$$d_A = \\frac{d_p(t_o)}{1 + z}$$\n",
    "\n",
    "The proper distance at $t_o$ is related to z and $\\omega$ like so:\n",
    "\n",
    "$$d_p(t_o) = \\frac{c}{H_0}\\frac{2}{1 + 3\\omega}[1 - (1 + z)^{\\frac{-(1 + 3\\omega)}{2}}]$$\n",
    "\n",
    "Plugging in $\\omega = 0$ for a matter only universe:\n",
    "\n",
    "$$d_p(t_o) = \\frac{2c}{H_0}[1 - \\frac{1}{\\sqrt{1 + z}}] $$\n",
    "\n",
    "Plugging in $d_p(t_o)$ into our equation for $d_A$:\n",
    "\n",
    "$$d_A = \\frac{2c}{(1+z)H_0}[1 - \\frac{1}{\\sqrt{1 + z}}] $$\n",
    "\n",
    "Assuming $H_0 = 70 km/Mpc *s$ and $c = 3*10^8 m/s$, and plugging in z, in each case we see the following:\n",
    "\n",
    "At $z_1 = .5$,\n",
    "$$d_A(z_1) = 1048.591 \\:Mpc$$\n",
    "\n",
    "At $z_2 = 1.6$,\n",
    "$$d_A(z_2) = 1248.001 \\:Mpc$$\n",
    "\n",
    "###### c. Comment on the similarity or difference between these values.\n",
    "\n",
    "In a matter dominated universe, the plot of $ \\frac{H0}{c} d_A$ vs. $z$ rises initially but then gradually falls with z. Our values for $d_A$ support this shape. Clearly $d_A$ does not linearly increase with redshift in a matter-dominated universe. The redshift of galaxy 2 is around 3X galaxy 1, but appears only 200 Mpc farther, which is consistent with the growing expansion rate in the universe."
   ]
  },
  {
   "cell_type": "code",
   "execution_count": 21,
   "metadata": {
    "collapsed": false
   },
   "outputs": [
    {
     "name": "stdout",
     "output_type": "stream",
     "text": [
      "Ho         70.0 km / (Mpc s)\n",
      "           2.26854550263e-18 1 / s\n",
      "c          300000000.0 m / s\n",
      "\n",
      "dA(0.5)    1048.59096613 Mpc\n",
      "           3.23561363631e+25 m\n",
      "dA(1.6)    1252.17470457 Mpc\n",
      "           3.86380741398e+25 m\n"
     ]
    }
   ],
   "source": [
    "H0 = (70 * u.km /(u.Mpc * u.s))   \n",
    "c = 3*10**8 *u.m / u.s\n",
    "\n",
    "def dA(z):\n",
    "    k = c/H0.decompose()\n",
    "    d = (k*2)/(1+z)*(1-1/(1+z)**0.5)\n",
    "    return d\n",
    "\n",
    "print 'Ho        ',H0\n",
    "print '          ',H0.decompose()\n",
    "print 'c         ',c\n",
    "print ''\n",
    "print 'dA(0.5)   ',dA(0.5).to(u.Mpc)\n",
    "print '          ',dA(0.5).decompose()\n",
    "print 'dA(1.6)   ',dA(1.6).to(u.Mpc)\n",
    "print '          ',dA(1.6).decompose()"
   ]
  },
  {
   "cell_type": "markdown",
   "metadata": {},
   "source": [
    "## Problem 2\n"
   ]
  },
  {
   "cell_type": "markdown",
   "metadata": {},
   "source": [
    "#### The Coma Cluster contains approximately N = 1000 galaxies within the half-mass radius $r_h$ = 1.5 Mpc.\n",
    "###### a) What is the mean number density of galaxies within $r_h$?\n",
    "\n",
    "The number density, in terms of N, the number of galaxies and V, the total volume is:\n",
    "\n",
    "$$n = \\frac{N}{V}$$\n",
    "\n",
    "Assuming a spherical shape with radius $r_h= 1.5 \\:Mpc$, we see:\n",
    "\n",
    "$$V_{r_h} = \\frac{4}{3}\\pi r^3_h = 14.137 \\, Mpc^3$$\n",
    "\n",
    "Since $N \\cong 1000$, the mean number density $n = 70.736 \\:Mpc^{-3}$"
   ]
  },
  {
   "cell_type": "code",
   "execution_count": 22,
   "metadata": {
    "collapsed": false
   },
   "outputs": [
    {
     "name": "stdout",
     "output_type": "stream",
     "text": [
      "V(r_h)     14.1371669412 Mpc3\n",
      "n/V(r_h)   70.7355302631 1 / Mpc3\n"
     ]
    }
   ],
   "source": [
    "def V(r):\n",
    "    result = 4/3 * np.pi * r**3\n",
    "    return result\n",
    "\n",
    "r_h = 1.5 * u.Mpc\n",
    "n = 1000\n",
    "print 'V(r_h)    ',V(r_h)\n",
    "print 'n/V(r_h)  ',n/V(r_h)"
   ]
  },
  {
   "cell_type": "markdown",
   "metadata": {},
   "source": [
    "###### b) Typical cross section of a galaxy is $10^{-3} \\: Mpc^2$. How far will a galaxy in the Coma Cluster travel on average, before it collides with another galaxy?\n",
    "\n",
    "In a previous assignment I found the equation for mean free path of a particle, which in this case can model the average distance a galaxy will travel before it collides:\n",
    "\n",
    "$$ d = \\frac{1}{n_{galaxies}\\sigma_{galaxy}} $$\n",
    "\n",
    "Here, $n_{galaxies}$ is the mean number density of galaxies, and $\\sigma_{galaxy}$ is the cross section of a galaxy.\n",
    "\n",
    "Plugging in, we see:\n",
    "\n",
    "$$d = \\frac{1}{70.736 \\:Mpc^{-3}*10^{-3} \\:Mpc^2} = 14.137 \\: Mpc$$"
   ]
  },
  {
   "cell_type": "code",
   "execution_count": 23,
   "metadata": {
    "collapsed": false
   },
   "outputs": [
    {
     "name": "stdout",
     "output_type": "stream",
     "text": [
      "d     14.1370730604 Mpc\n"
     ]
    }
   ],
   "source": [
    "def d(n,sigma):\n",
    "    result = 1/(n*sigma)\n",
    "    return result\n",
    "\n",
    "n = 70.736 * u.Mpc**-3\n",
    "sigma = 10**-3 * u.Mpc**2\n",
    "\n",
    "print 'd    ', d(n,sigma)"
   ]
  },
  {
   "cell_type": "markdown",
   "metadata": {},
   "source": [
    "###### c) The velocity dispersion of the Coma Cluster is $\\sigma = 880 \\:km/s$.  What is the average time between collisions for a galaxy in the Coma Cluster? Is this time greater or less than the Hubble time?\n",
    "\n",
    "The average time $<t>$ between collisions can be determined from the following, where the average distance before collision is $<d>$ and the average velocity of galaxies in the cluster is $<v>$.\n",
    "$$<t> = \\frac{<d>}{<v>}$$\n",
    "\n",
    "Now, if the motions of galaxies in the cluster are isotropic, then there is nothing special about any direction. So the true 3-D galaxy velocities have an average squared value of $v_{3D}^2 = (3v_{1D})^2 = (3\\sigma)^2$, where $\\sigma$ is the velocity dispersion. So,\n",
    "\n",
    "$$<t> = \\frac{<d>}{<v>} \\cong \\frac{<d>}{\\sqrt{<v^2>}} \\cong \\frac{<d>}{\\sqrt{(3\\sigma)^2}} \\cong \\frac{<d>}{3\\sigma} $$\n",
    "\n",
    "So we see that\n",
    "\n",
    "$$<t> = \\frac{<d>}{3\\sigma} = \\frac{14.137\\:Mpc}{3*880\\:km/s} = 5.236 \\:Gyr$$\n",
    "\n",
    "If we assume the age of the universe is approximately the hubble time, 14.4 Gyr, the average time between collisions 5.236 Gyr is ample time for a collision to occur. So we should expect some galaxies in the Coma Cluster to collide."
   ]
  },
  {
   "cell_type": "code",
   "execution_count": 24,
   "metadata": {
    "collapsed": false
   },
   "outputs": [
    {
     "name": "stdout",
     "output_type": "stream",
     "text": [
      "t predicted    5.23600327189 Gyr\n"
     ]
    }
   ],
   "source": [
    "def t_avg(d,sigmav):\n",
    "    t = d/(3*sigmav)\n",
    "    return t\n",
    "\n",
    "d = 14.137 * u.Mpc\n",
    "sigmav = 880 * u.km / u.s\n",
    "t_collision_avg = t_avg(d,sigmav).to(u.Gyr)\n",
    "print 't predicted   ', t_collision_avg"
   ]
  },
  {
   "cell_type": "markdown",
   "metadata": {},
   "source": [
    "###### d) Compare this with the collision time between Andromeda and the Milky Way. Andromeda is 700 kpc away and moving towards us at 120 km/s.\n",
    "\n",
    "(20) $$t = \\frac{d}{v} = \\frac{700\\:kpc}{120\\:km/s} = \\frac{2.16\\times 10^{19}\\:km}{120\\:km/s} = 1.8\\times10^{17} \\:s = 5.708 \\:Gyr$$"
   ]
  },
  {
   "cell_type": "code",
   "execution_count": 25,
   "metadata": {
    "collapsed": false
   },
   "outputs": [
    {
     "name": "stdout",
     "output_type": "stream",
     "text": [
      "t observed    1.79997858919e+17 s\n",
      "              5.70378795976 Gyr\n",
      "\n",
      "% difference  8.2012987013 %\n"
     ]
    }
   ],
   "source": [
    "def t(d,v):\n",
    "    t = d/v\n",
    "    return t\n",
    "\n",
    "d = 700 * u.kpc\n",
    "v = 120 * u.km/u.s\n",
    "t_collision_time_observed = t(d,v).to(u.Gyr)\n",
    "print 't observed   ', t(d,v).decompose()\n",
    "print '             ', t_collision_time_observed\n",
    "\n",
    "percent_diff = 100*(t_collision_time_observed-t_collision_avg)/t_collision_time_observed * u.percent\n",
    "\n",
    "print ''\n",
    "print '% difference ',percent_diff"
   ]
  }
 ],
 "metadata": {
  "anaconda-cloud": {},
  "kernelspec": {
   "display_name": "Python [Root]",
   "language": "python",
   "name": "Python [Root]"
  },
  "language_info": {
   "codemirror_mode": {
    "name": "ipython",
    "version": 2
   },
   "file_extension": ".py",
   "mimetype": "text/x-python",
   "name": "python",
   "nbconvert_exporter": "python",
   "pygments_lexer": "ipython2",
   "version": "2.7.12"
  }
 },
 "nbformat": 4,
 "nbformat_minor": 0
}
