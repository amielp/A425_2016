{
 "cells": [
  {
   "cell_type": "markdown",
   "metadata": {},
   "source": [
    "##### ASTR 425: Homework 1\n",
    "##### Winnie Wang, Prof. Andrew Connelly"
   ]
  },
  {
   "cell_type": "markdown",
   "metadata": {},
   "source": [
    "##### Problem 1: Olberian Universe\n",
    "\n",
    "To find a star in a given line of sight, we can assume that our line of sight is in the shape of a very long cylinder with a length R_length, and a cross section with the same radius as a star extending from our view. In this cylinder, to find a star, it would requre that in this volume, given some density we will find a star. \n",
    "\n",
    "Consequently, we want to find a distance such that the product of a cylinder and the star density, we would be able to find 1 star, or:\n",
    "\n",
    "$$ {V_{Cylinder}}\\bullet{D_{Cylinder}} = {Number\\,of\\,Stars} = 1 $$\n",
    "\n",
    "$$ {Cross\\,Section_{Cylinder}}\\bullet{R_{length}}\\bullet{D_{Stars}} = 1 $$\n",
    "\n",
    "Where the cross section of this (really) thin cylinder is:\n",
    "\n",
    "$$ {Cross\\,Section} = {\\pi}*{R_{star}}^{2} $$\n",
    "\n",
    "Putting this into the expression:\n",
    "\n",
    "$$ ({\\pi}\\bullet{R_{star}}^{2})\\bullet{R_{length}}\\bullet{D_{Stars}} = 1 $$\n",
    "\n",
    "The density of the stars in the universe is given, which is 10^9 stars per megaparsec, and the radius of the star is 7*10^8 meters:\n",
    "\n",
    "$$ {\\pi}\\bullet({7}\\bullet{10}^{8}\\,{meters})^{2}\\bullet{R_{length}}\\bullet({10^{9}}\\frac{1}{{megaparsec}^{3}}) = 1 $$\n",
    "\n",
    "The radius, 7*10^8 meters is equivalent to about 2.26e7-8 parsec, or 2.26e-14 megaparsec. Substituting this number in:\n",
    "\n",
    "$$ {\\pi}\\bullet({2.26\\bullet{10}^{-14}\\,{megaparsec}})^{2}\\bullet{R_{length}}\\bullet({10^{9}}\\frac{1}{{megaparsec}^{3}}) = 1 $$\n",
    "\n",
    "After rearranging, the R_length can be hence solved as so:\n",
    "\n",
    "$$ {R_{length}} = \\frac{1}{{\\pi}\\bullet({2.26\\bullet{10}^{-14}\\,{megaparsec}})^{2}\\bullet({10^{9}}\\frac{1}{{megaparsec}^{3}})} $$\n",
    "\n",
    "$$ {R_{length}} = \\frac{megaparsec}{{\\pi}\\bullet{2.26\\bullet{10}^{-5}}} $$\n",
    "\n",
    "Hence the R_length, or the length at which a random line of sight will encounter a star:\n",
    "\n",
    "$$ {R_{length}} \\approx {6.2}\\bullet{10}^{17} {megaparsec} $$\n"
   ]
  },
  {
   "cell_type": "markdown",
   "metadata": {
    "collapsed": true
   },
   "source": [
    "##### Problem 2: Hubble Constant Error and Corrected Hubble Constant\n",
    "\n",
    "If the Hubble constant to 500 km*(s^-1)*(Mpc^-1), there are significant changes to the measured distances to the Cepheid stars. By using the Hubble's Law, which is defined as (H_o = the Hubble's constant):\n",
    "\n",
    "$$ {v} = {r_{proper}}*{H_o} $$\n",
    "\n",
    "We compare the incorrect and corrected distances of the Cepheid stars by observing their ratio of the incorrect and corrected Hubble constants. Hence the ratio of the original and corrected Hubble constants is represented as:\n",
    "\n",
    "$$ \\frac{r_{Original}}{r_{Corrected}}\\, = \\frac{\\frac{v}{H_{original}}}{\\frac{v}{H_{corrected}}} $$\n",
    "\n",
    "Note that:\n",
    "\n",
    "$$ {r_{Original}} = {Based}\\,{on}\\,{Hubble's}\\,{original}\\,{measurement}\\,{to}\\,{Cepheid}\\,{stars} $$\n",
    "\n",
    "$$ {r_{Corrected}} = {Today's}\\,{measurement} $$\n",
    "\n",
    "By cancelling out the velocity of the light rays, which are the same:\n",
    "\n",
    "$$ \\frac{r_{Original}}{r_{Corrected}}\\, = \\frac{H_{Corrected}}{H_{Original}} $$\n",
    "\n",
    "$$ \\frac{H_{Corrected}}{H_{Original}}\\, = \\frac{70{\\frac{km}{s\\bullet{Mpc}}}}{500{\\frac{km}{s\\bullet{Mpc}}}} = \\frac{70}{500} \\approx{\\frac{1}{7.143}} $$\n",
    "\n",
    "Consequently, t is observed that the current distances to the Cepheid stars would need to be adjusted as such if the original Hubble's constant were not to be corrected:\n",
    "\n",
    "$$ {r_{Original}} = {\\frac{H_{Corrected}}{H_{Original}}} * {r_{Corrected}} = {\\frac{1}{7.143}}* {r_{Corrected}} $$\n",
    "\n",
    "Consequent the distance to the current measurement Cepheid stars must be adjusted by a factor of about 7.143 if the original Hubble's constant was not corrected. This would mean that the Cepheid stars would appear closer to us because the proper distance must decrease by a factor of 7.143. \n",
    "\n",
    "Because the proper distance decreased, celestial objects around Earth would appear closer to us. \n",
    "\n",
    "Furthermore, the Hubble time would be significantly smaller and the universe would appear to expand much faster than our current measurements. This is because the Hubble's time is defined by:\n",
    "\n",
    "$$ {t_{o}}\\equiv \\frac{1}{H_{o}} $$\n",
    "\n",
    "For Hubble's original value:\n",
    "\n",
    "$$ {t_{Original}}\\equiv \\frac{1}{H_{Original}} = \\frac{7.143}{H_{o}} $$\n",
    "\n",
    "Moving the 7.143 to the left side:\n",
    "\n",
    "$$ {\\frac{1}{7.143}}*{t_{Original}} = \\frac{1}{H_{Original}} < {t_{o}} = \\frac{1}{H_{o}} $$\n",
    "\n",
    "Hence the Hubble time is decreased, so the universe achieved its current size in shorter time. Hence the universe would appear younger and expand faster than current measurements.\n"
   ]
  },
  {
   "cell_type": "markdown",
   "metadata": {
    "collapsed": true
   },
   "source": [
    "##### Problem 3: Ryden 3.2\n",
    "\n",
    "Because we are on a normal sphere, the curvature of the space is +1. Hence the proper metric for the travel path is:\n",
    "\n",
    "$$ {ds}^{2} = {dr}^{2} + {R}^{2} {sin^{2}}{(r/R)}^{2} {[d\\theta}^{2} + {sin}^{2}{\\theta}{d\\phi}^{2}{]} $$\n",
    "\n",
    "However, since the travel path is constant along the circumference at a radius (ds << R), the change of the altitude angle is negligible, so:\n",
    "\n",
    "$$ {d\\phi}\\,and\\,{dr} $$\n",
    "\n",
    "are also zero on the metric.\n",
    "\n",
    "Moreover the infitesimal change in radius is also zero since the travel is on a constant radius toward the center. Hence the total metric of the travel path is:\n",
    "\n",
    "$$ {ds}^{2} = {R}^{2} {sin^{2}}{(\\frac{r}{R})}^{2} {[d\\theta}^{2}{]} $$\n",
    "\n",
    "Or also after square-rooting the whole expression:\n",
    "\n",
    "$$ {ds} = R{sin}{(\\frac{r}{R})} {d\\theta} $$\n",
    "\n",
    "By rearranging this metric algebraically, it can be observed that the d(theta) can be solved as so:\n",
    "\n",
    "$$ {d\\theta} = \\frac{ds}{{R}{sin}{(\\frac{r}{R})}} $$ \n",
    "\n",
    "As the \"r\" approaches pi*R, it is observed that d(theta) will decrease, then increase, and then reaching back to the same value. \n",
    "\n",
    "This is because as \"r\" approaches (pi/2)*R, it is observed that d(theta) will decrease as sin(r/R) increases in the denominator to the point where d(theta) = ds/R:\n",
    "\n",
    "$$ {d\\theta} = \\frac{ds}{R} = \\frac{ds}{R*{sin}{\\frac{\\pi}{2}}} $$\n",
    "\n",
    "It is also observed, however, that as \"r\" approaches pi*R, it is seen that as the sine ratio gets increasingly large, the denominator approaches a really large value, or at infinity as r -> pi*R. This is observed as:\n",
    "\n",
    "$$ \\lim_{x\\to\\infty} {d\\theta} = \\frac{ds}{{sin}{(\\pi)*R}} -> \\infty $$\n",
    "\n",
    "At this value of \"r\", d(theta) is infinitely large, and is not well-defined. This is at the opposite point of where the traveller began, and all light rays will be observed as as all light rays converge at this point, similar to the North and South Poles on Earth."
   ]
  },
  {
   "cell_type": "markdown",
   "metadata": {},
   "source": [
    "##### Problem 4: Numerical and Algebraic Integration of First-Order ODE\n",
    "\n",
    "To find the solution algebraically, the a-dot can be re-written in this form so that integration can be done on both sides:\n",
    "\n",
    "$$ \\dot{a(t)}^{2} = {H_{o}}^{2}{a(t)}^{-3} $$\n",
    "\n",
    "Square root both sides:\n",
    "\n",
    "$$ \\dot{a} = {H_{o}}{a}^{-3/2} $$\n",
    "\n",
    "$$ \\frac{da}{dt} = {H_{o}}{a}^{-3/2} $$\n",
    "\n",
    "$$ {a}^{3/2}*{da} = {H_{o}}{dt} $$\n",
    "\n",
    "$$ \\int{a}^{3/2}{da} = \\int{H_{o}}{dt} $$\n",
    "\n",
    "$$ \\frac{2}{5}{a}^{\\frac{5}{2}} = {H_{o}}{t} + C $$\n",
    "\n",
    "$$ {a}^{\\frac{5}{2}} = {\\frac{2}{5}}*{H_{o}}{t} + C $$\n",
    "\n",
    "$$ {a}= {({\\frac{2}{5}}*{H_{o}}{t} + C)}^{-0.4} $$\n",
    "\n",
    "At initial time, or t_o:\n",
    "\n",
    "$$ a(t_0) = 1,\\, {and}\\, {t_{o}} = \\frac{1}{H_{o}} $$\n",
    "\n",
    "Plugging this in to find initial conditions:\n",
    "\n",
    "$$ {\\frac{2}{5}}{a{t_{o}}} = {H_{o}}{\\frac{1}{H_{o}}} + C $$\n",
    "\n",
    "$$ {\\frac{2}{5}}(1) = (1) + C $$\n",
    "\n",
    "$$ C = -\\frac{3}{5} $$\n",
    "\n",
    "$$ {a(t)} = \\frac{2}{5} = {({H_{o}}{t} - {\\frac{3}{5}})}^{-0.4} $$\n"
   ]
  },
  {
   "cell_type": "code",
   "execution_count": 19,
   "metadata": {
    "collapsed": false
   },
   "outputs": [
    {
     "name": "stdout",
     "output_type": "stream",
     "text": [
      "This is problem Problem 4.\n"
     ]
    }
   ],
   "source": [
    "print \"This is problem Problem 4.\"\n",
    "%matplotlib inline\n",
    "\n",
    "import math\n",
    "import numpy as np\n",
    "import matplotlib.pyplot as plt\n",
    "from scipy import integrate\n",
    "from scipy.integrate import odeint"
   ]
  },
  {
   "cell_type": "code",
   "execution_count": 20,
   "metadata": {
    "collapsed": false
   },
   "outputs": [
    {
     "name": "stderr",
     "output_type": "stream",
     "text": [
      "/anaconda/lib/python2.7/site-packages/ipykernel/__main__.py:4: RuntimeWarning: invalid value encountered in power\n",
      "/anaconda/lib/python2.7/site-packages/ipykernel/__main__.py:21: RuntimeWarning: invalid value encountered in power\n"
     ]
    },
    {
     "name": "stdout",
     "output_type": "stream",
     "text": [
      "By importing the package odeint from scipi.integrate, using differential equations is possible.\n",
      "'h' also had be multiplied by (3.241e-20) because the Hubble's constant was adjusted to s^-1, a(t) will be a number.\n"
     ]
    },
    {
     "data": {
      "image/png": "[encoded data removed]",
      "text/plain": [
       "<matplotlib.figure.Figure at 0x10e7a0ed0>"
      ]
     },
     "metadata": {},
     "output_type": "display_data"
    }
   ],
   "source": [
    "#Part 1: Solved by numerical integration\n",
    "def hubble2(a,t):\n",
    "    h = 70\n",
    "    return h*3.241e-20*(a**-1.5)\n",
    "    \n",
    "t_ode = np.arange(4.415e17,0, -1e15)\n",
    "#The start time is the current time in seconds, or roughly 14Gyr, after the universe expanded from the Big Bang.\n",
    "#The time range is done backwards because the complier crashed after attempting to make a range from 0 to 4.415e17\n",
    "\n",
    "solve = odeint(hubble2,1,t_ode)\n",
    "\n",
    "print \"By importing the package \"'odeint'\" from \"'scipi.integrate'\", using differential equations is possible.\"\n",
    "print \"'h' also had be multiplied by (3.241e-20) because the Hubble's constant was adjusted to s^-1, a(t) will be a number.\"\n",
    "\n",
    "\n",
    "#----------#\n",
    "\n",
    "#Part 2 : Solved by algebra:\n",
    "t_algebra = np.linspace(0,4.415e17,1000)\n",
    "\n",
    "a_Dot = (2.5*70*3.241e-20*(t_algebra)-1.5)**0.4\n",
    "\n",
    "plt.plot(t_ode,solve,\"g--\") #Graph of Part 1, ODE -> In green dashed lines\n",
    "plt.plot(t_algebra,a_Dot,\"b--\") #Graph of Part 2, Algebraic -> In blue dashed lines\n",
    "plt.xlabel('t = seconds')\n",
    "plt.ylabel('a(t) = Scale factor')\n",
    "plt.title('a(t) vs adjusted time')\n",
    "plt.show()"
   ]
  },
  {
   "cell_type": "code",
   "execution_count": null,
   "metadata": {
    "collapsed": true
   },
   "outputs": [],
   "source": []
  }
 ],
 "metadata": {
  "kernelspec": {
   "display_name": "Python 2",
   "language": "python",
   "name": "python2"
  },
  "language_info": {
   "codemirror_mode": {
    "name": "ipython",
    "version": 2
   },
   "file_extension": ".py",
   "mimetype": "text/x-python",
   "name": "python",
   "nbconvert_exporter": "python",
   "pygments_lexer": "ipython2",
   "version": "2.7.11"
  }
 },
 "nbformat": 4,
 "nbformat_minor": 0
}
