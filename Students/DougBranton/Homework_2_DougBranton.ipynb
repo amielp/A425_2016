{
 "cells": [
  {
   "cell_type": "markdown",
   "metadata": {},
   "source": [
    "Doug Branton  \n",
    "Astro 425  \n",
    "Homework 2  \n"
   ]
  },
  {
   "cell_type": "code",
   "execution_count": 24,
   "metadata": {
    "collapsed": true
   },
   "outputs": [],
   "source": [
    "%matplotlib inline\n",
    "import matplotlib.pyplot as plt\n",
    "import numpy as np\n",
    "import astropy.units as u\n",
    "from scipy.integrate import quad"
   ]
  },
  {
   "cell_type": "markdown",
   "metadata": {},
   "source": [
    "**1.If we lived in a\tOlberian universe (a) calculate\tthe\tdistance at\twhich any random line-of-sight\twill\tintersect\tthe\tsurface\tof\ta\tstar\t(this\tis\treferred\tto\tas\tthe\tpoint\tat\twhich\tthe\toptical\tdepth\tof uniformly\tdistributed\tstars\tis\tunity).\tAssume\tall\tthe\tstars\thave\tthe\tsame\tluminosity\tas\tthe\tSun,\tthe\taverage\tnumber\tdensity\tof\tstars\tis\t$10^9 Mpc^{-3}$ ,\tand\tthe\tradius\tof\tthe\tstars\tis\t$7x10^8m$ .**\n",
    "\n",
    "\n",
    "\n",
    "Solution:  \n",
    "When we observe the flux from a star, we are only recieving light from a very small component of the total surface area of the star. Thus, if we are considering the limit where at any line-of-sight we see the surface of a star, these small component areas will add together to yield the total surface area of one star in the field. This establishes that $f=J(r)$, the flux from one star is equivalent to the total luminosity of the shell at radius r.\n",
    "\n",
    "Flux of one star in the field:\n",
    "$$f=\\frac{L_{sun}}{4 \\pi r_{star}^2} $$\n",
    "\n",
    "Total Luminosity: $$J(r)=\\frac{nL}{4\\pi}\\int_0^r \\!  \\mathrm{d}r$$  \n",
    "$$J(r)=\\frac{nLr}{4\\pi}$$\n",
    "\n",
    "Setting Equations equal to each other:\n",
    "$$\\frac{L_{sun}}{4 \\pi r_{star}^2}=\\frac{nL_{sun}r}{4\\pi}$$  \n",
    "$$r=\\frac{1}{nr_{star}^2}$$ \n",
    "\n",
    "Plugging in values:\n",
    "\n",
    "$$L_{sun}=3.846e26 W$$  \n",
    "$$r=\\frac{1}{(10^9 Mpc^{-3})(7*10^8 m)^2}$$  \n",
    "$$r=2.0408*10^{-27}\\frac{Mpc^3}{m^2}*(\\frac{3.086*10^{22} m}{1 Mpc})^2$$\n",
    "\n",
    "Which yields:\n",
    "\n",
    "$$r=1.9436*10^{18} Mpc$$\n"
   ]
  },
  {
   "cell_type": "markdown",
   "metadata": {},
   "source": [
    "**2.When Edwin Hubble measured the expansion rate of the universe he derived a\n",
    "Hubble’s constant of $500 km*s^-1*Mpc^-1$.  To get this value of $H_o$ how incorrect were \n",
    "his estimates of the distances to Cepheid stars. How does his value of the \n",
    "universe change the age of the universe and would we\tneed\tto\tlive\tin\tan\n",
    "accelerating\tor\tdecelerating\tuniverse\tin\torder\tto\treconcile\tthe\tHubble\ttime\twith the\tcurrent\tage\tof\tthe\tuniverse\t(13.7\tGyr). Remember\tto\texplain\tyour\tanswers.**\n",
    "\n",
    "\n",
    "Solution:  \n",
    "We know the true value of $H_o$:  \n",
    "$$H_o=70\\frac{km}{s*Mpc}$$  \n",
    "\n",
    "From this, we calculate the discrepancy in measurement: $$\\Delta H_0=430\\frac{km}{s*Mpc}$$\n",
    "\n",
    "This leads to the relative error: $$\\frac{\\Delta H_0}{H_0}=\\frac{430}{70}=6.143$$\n",
    "\n",
    "From here, we need to determine the relationship between $d_{cepheid}$ and $H_0$ to determine how a relative error in $H_0$ translates to a relative error in $d_{cepheid}$. We know that $-v=H_0*d$ and that $H_0$ arises as the slope of the plot of $v$ vs. $H_0$. Therefore, the relative error in $d_{cepheid}$= the relative error in $H_0$.\n",
    "\n",
    "Thus, his cepheid measurements contained a relative error of 6.143.\n",
    "\n",
    "His original measurement of $H_0$ would yield a hubble time of:  $$\\frac{1}{H_0}=\\frac{1}{500 \\frac{km}{s*Mpc}}=1.95 Gyr$$\n",
    "\n",
    "In order to reconcile this hubble time with the current age of the universe, there would need to be distance measured to the cepheids and thus the universe would have needed to expand more, meaning we would need to live in an accelerating universe. "
   ]
  },
  {
   "cell_type": "markdown",
   "metadata": {},
   "source": [
    "**3.Suppose you are a two-dimensional being, living on the surface of a\n",
    "sphere with radius R. An object of width $ds \\ll R$ is at a distance\n",
    "r from you (remember, all distances are measured on the surface of\n",
    "the sphere). What angular width $d\\theta$ will you measure for the object?\n",
    "Explain the behavior of $d\\theta$ as $r \\rightarrow \\pi R$.**\n",
    "\n",
    "\n",
    "Solution:\n",
    "\n",
    "Begin with metric for a sphere:  $$ds^2=dr^2+R^2sin^2(\\frac{r}{R})d \\theta ^2$$\n",
    "\n",
    "Due to being 2-d, all distances are measured on the surface of the sphere so $dr=0$. \n",
    "\n",
    "Thus we are left with:  \n",
    "$$ds^2=R^2sin^2(\\frac{r}{R})d \\theta ^2$$\n",
    "\n",
    "From this equation it is easy to solve for $d \\theta$:  \n",
    "$$d \\theta=\\frac{ds}{Rsin(\\frac{r}{R})}$$\n",
    "\n",
    "Now, as $r \\rightarrow \\pi R$:  \n",
    "$$d \\theta=\\frac{ds}{Rsin(\\frac{ \\pi R}{R})}=\\frac{ds}{Rsin(\\pi )}=\\frac{ds}{0}$$\n",
    "Which means that as $r \\rightarrow \\pi R$, $d \\theta \\rightarrow \\infty $"
   ]
  },
  {
   "cell_type": "markdown",
   "metadata": {
    "collapsed": true
   },
   "source": [
    "**4.Using\tPython solve the\tfollowing\tequation\tnumerically and\tplot\ta(t)\tvs\tt. Note\t“.\n",
    "”\trepresents\tthe\ttime\tderivative,**\n",
    "\n",
    "\n",
    "$$\\dot{a}^2=H_0^2 a^{-3}$$\n",
    "\n",
    "\n",
    "**Where\t$H_0$ is\tthe\tHubble\tconstant\t($H_0=70\t\\frac{km}{s*Mpc}$). Solve\tthe\tintegration\talgebraically\tand\toverlay\tthe\tsolution\ton\tyour\tplot.**\n",
    "\n",
    "\n",
    "Analytic Solution:\n",
    "\n",
    "$$\\dot{a}=H_0 a^{\\frac{-3}{2}}$$\n",
    "\n",
    "We can seperate variables such that:\n",
    "\n",
    "$$a^{\\frac{3}{2}}da=H_0 dt$$\n",
    "\n",
    "Integrating, we find that:\n",
    "$$\\frac{2}{5}a^{\\frac{5}{2}}da=H_0 t$$  \n",
    "$$a=(\\frac{5}{2}H_0t)^{\\frac{2}{5}}$$"
   ]
  },
  {
   "cell_type": "code",
   "execution_count": 79,
   "metadata": {
    "collapsed": false
   },
   "outputs": [
    {
     "data": {
      "text/plain": [
       "<matplotlib.legend.Legend at 0x1c464ef0>"
      ]
     },
     "execution_count": 79,
     "metadata": {},
     "output_type": "execute_result"
    },
    {
     "data": {
      "image/png": "[encoded data removed]",
      "text/plain": [
       "<matplotlib.figure.Figure at 0x1bc69be0>"
      ]
     },
     "metadata": {},
     "output_type": "display_data"
    }
   ],
   "source": [
    "H0=70*u.km/(u.second*u.megaparsec)\n",
    "H0=H0.to(1/u.second)\n",
    "H0Y=(H0.to(1/u.gigayear))*u.gigayear\n",
    "h_t=(1/H0).to(u.gigayear)\n",
    "t_range=np.arange(0,(h_t/u.gigayear),0.0001)\n",
    "\n",
    "#Analytic Solution\n",
    "a_analytic = (5.0/2.0*(H0.to(1/u.gigayear)*u.gigayear)*t_range)**(2.0/5.0)\n",
    "\n",
    "#Computational Solution using scipy.integrate.odeint\n",
    "def func(a,H):\n",
    "    dadt=a**(1.5)/H\n",
    "    return dadt\n",
    "\n",
    "def expint(lim):\n",
    "    return quad(func,0,lim,args=(H0Y))\n",
    "\n",
    "a_range=np.linspace(0,1.4)\n",
    "vec_expint = np.vectorize(expint)\n",
    "t,err=vec_expint(a_range)\n",
    "\n",
    "plt.plot(t,a_range,marker='o',c='k',label=\"Numerical\")\n",
    "plt.plot(t_range,a_analytic,c='r',label=\"Analytic\")\n",
    "plt.title(\"Scale Factor Evolution in Time\")\n",
    "plt.ylabel(\"Scale Factor a(t)\")\n",
    "plt.xlabel(\"Time (Gyr)\")\n",
    "\n",
    "\n",
    "plt.legend(loc=4)\n"
   ]
  },
  {
   "cell_type": "code",
   "execution_count": null,
   "metadata": {
    "collapsed": false
   },
   "outputs": [],
   "source": []
  },
  {
   "cell_type": "code",
   "execution_count": null,
   "metadata": {
    "collapsed": true
   },
   "outputs": [],
   "source": []
  }
 ],
 "metadata": {
  "kernelspec": {
   "display_name": "Python 2",
   "language": "python",
   "name": "python2"
  },
  "language_info": {
   "codemirror_mode": {
    "name": "ipython",
    "version": 2
   },
   "file_extension": ".py",
   "mimetype": "text/x-python",
   "name": "python",
   "nbconvert_exporter": "python",
   "pygments_lexer": "ipython2",
   "version": "2.7.11"
  }
 },
 "nbformat": 4,
 "nbformat_minor": 0
}
