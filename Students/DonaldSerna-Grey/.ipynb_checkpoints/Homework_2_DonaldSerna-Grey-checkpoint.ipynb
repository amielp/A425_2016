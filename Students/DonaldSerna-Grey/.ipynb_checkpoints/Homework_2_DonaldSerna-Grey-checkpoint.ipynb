{
 "cells": [
  {
   "cell_type": "code",
   "execution_count": 9,
   "metadata": {
    "collapsed": false
   },
   "outputs": [],
   "source": [
    "import numpy as np\n",
    "%matplotlib inline\n",
    "import matplotlib.pyplot as plt\n",
    "from scipy import integrate\n",
    "from scipy.integrate import odeint"
   ]
  },
  {
   "cell_type": "code",
   "execution_count": 10,
   "metadata": {
    "collapsed": false
   },
   "outputs": [
    {
     "name": "stdout",
     "output_type": "stream",
     "text": [
      "6.82357719913e+17\n"
     ]
    }
   ],
   "source": [
    "#Problem 1\n",
    "r_star = 7.0e5 #in km\n",
    "r_starMpc = r_star/(3.241e19) #convert radius to Mpc\n",
    "\n",
    "density_star = 1.0e9 \n",
    "\n",
    "star_crossection = np.pi*(r_starMpc**2)#cross sectional area of a star\n",
    "\n",
    "star_mfp = 1.0/(density_star * star_crossection)\n",
    "#mean free path calculation,treating similar to an optical depth problem\n",
    "\n",
    "print star_mfp #radius of shell such that a star will be see when looking at any angle in Mpc"
   ]
  },
  {
   "cell_type": "code",
   "execution_count": 11,
   "metadata": {
    "collapsed": false
   },
   "outputs": [
    {
     "name": "stdout",
     "output_type": "stream",
     "text": [
      "1.93798449612\n"
     ]
    }
   ],
   "source": [
    "#Problem 2\n",
    "\n",
    "H_0 = 0.0730 #Gyr^-1\n",
    "H_H = 0.516 #Gr^-1\n",
    "t_H = H_H**-1\n",
    "print t_H #Hubble's age of the Universe in Gyr which is very different from the current 13.8 Gyr"
   ]
  },
  {
   "cell_type": "code",
   "execution_count": 12,
   "metadata": {
    "collapsed": false
   },
   "outputs": [
    {
     "name": "stdout",
     "output_type": "stream",
     "text": [
      "7.06849315068\n"
     ]
    }
   ],
   "source": [
    "#error in Hubble's distance measurements\n",
    "#Using R = V/H we can equate R_0/R_H = H_H/H_0\n",
    "er_H = H_H/H_0\n",
    "print er_H #Error in Hubble's measurements ~7.069 times more than the current distances a severe overestimate."
   ]
  },
  {
   "cell_type": "code",
   "execution_count": 13,
   "metadata": {
    "collapsed": true
   },
   "outputs": [],
   "source": [
    "#Implication of using H_H with todays measurements of R_0\n",
    "#R_0 = V_0/H_H and compare to R_H = V_H/H_H\n",
    "#Since R_0 > R_H this implies V_0 > V_H which would require an accelerating Universe."
   ]
  },
  {
   "cell_type": "markdown",
   "metadata": {},
   "source": [
    "Problem 3\n",
    "\n",
    "Start with $dl^{2} = dr^{2} +R^{2} \\sin^{2}{\\frac{r^{'}}{R}} d \\theta^{2} + \\sin^{2}{\\theta d \\phi^{2}}$\n",
    "Now let $r^{'} \\rightarrow R$\n",
    "$dr^{2} = R^{2}\\sin^{2}{1}d \\phi^{2}$\n",
    "$dr = R \\sin{1}d \\phi$\n",
    "Thus $d \\theta = \\frac{ds}{R \\sin{1} \\phi}$\n",
    "            \n",
    "Now let $r \\rightarrow \\pi R$\n",
    "$d \\theta = \\frac{ds}{\\pi R}$\n",
    "This implies that as r increases $\\theta$ will decrease\n"
   ]
  },
  {
   "cell_type": "code",
   "execution_count": 19,
   "metadata": {
    "collapsed": false,
    "scrolled": true
   },
   "outputs": [
    {
     "data": {
      "image/png": "[encoded data removed]",
      "text/plain": [
       "<matplotlib.figure.Figure at 0x7f6c028b7b10>"
      ]
     },
     "metadata": {},
     "output_type": "display_data"
    }
   ],
   "source": [
    "#Problem 4\n",
    "#numerical solution\n",
    "H_0s = H_0/(3.15e16) #H_0 in 1/s\n",
    "def a_dot(a,t):\n",
    "    return H_0s * a**(-3/2)\n",
    "t_num = np.arange(4.3354e17,0,-1e15) #array of input times in seconds from a Hubble time to 0\n",
    "\n",
    "a_num = odeint(a_dot,1,t_num)\n",
    "\n",
    "#algebraic solution using the same array of input times\n",
    "a_alg = ((5/2)*H_0s*t_num)**(2/5)\n",
    "\n",
    "plt.plot(t_num,a_num,\"r--\",label='Numerical Solution')\n",
    "plt.plot(t_num,a_alg,\"k-\",label='Algebraic Solution')\n",
    "plt.gca().invert_xaxis()\n",
    "plt.title('Overlayed Solutions for a(t)')\n",
    "plt.xlabel('t (s)')\n",
    "plt.ylabel('a(t) (Scale Factor)')\n",
    "plt.ylim([-0.2,1.2])\n",
    "plt.legend(loc='right',numpoints=3,shadow=True)\n",
    "plt.tight_layout()\n",
    "plt.show()"
   ]
  },
  {
   "cell_type": "markdown",
   "metadata": {},
   "source": [
    "The solutions agree for the age of the Universe = $t_{H}$ (Hubble time), \n",
    "though they diverge for younger ages of the Universe"
   ]
  }
 ],
 "metadata": {
  "anaconda-cloud": {},
  "kernelspec": {
   "display_name": "Python [default]",
   "language": "python",
   "name": "python2"
  },
  "language_info": {
   "codemirror_mode": {
    "name": "ipython",
    "version": 2
   },
   "file_extension": ".py",
   "mimetype": "text/x-python",
   "name": "python",
   "nbconvert_exporter": "python",
   "pygments_lexer": "ipython2",
   "version": "2.7.12"
  }
 },
 "nbformat": 4,
 "nbformat_minor": 1
}
