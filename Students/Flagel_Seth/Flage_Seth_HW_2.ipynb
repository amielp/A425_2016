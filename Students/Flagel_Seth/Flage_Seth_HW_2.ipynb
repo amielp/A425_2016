{
 "cells": [
  {
   "cell_type": "code",
   "execution_count": 13,
   "metadata": {
    "collapsed": false
   },
   "outputs": [
    {
     "data": {
      "text/plain": [
       "1.9352607814410372e+40"
      ]
     },
     "execution_count": 13,
     "metadata": {},
     "output_type": "execute_result"
    }
   ],
   "source": [
    "\"Problem 1\"\n",
    "\n",
    "\"Defined terms of problem\"\n",
    "d=10**9;         \"Desnsity of stars per Mpc^-3\"\n",
    "r=7*10**8;       \"Radius of star, m\"\n",
    "c=3.1*10**22;    \"Conversion factor for Mpc to m\"\n",
    "\n",
    "\"Formula\"\n",
    "\"1/(n*Pi*R^2)\"\n",
    "\"1/(1/Mp3*conversion factor * m2) = 1/m-1 = m\"\n",
    "\n",
    "\"R is in meters\"\n",
    "\n",
    "R=1/((d*3.14159*r**2)/(c**3))\n",
    "\n",
    "R\n"
   ]
  },
  {
   "cell_type": "code",
   "execution_count": 33,
   "metadata": {
    "collapsed": false
   },
   "outputs": [],
   "source": [
    "\"Problem 2\";\n",
    "\n",
    "\"Defined terms of problem\"\n",
    "Hd=500;      \"the constant that Edwin Hubble derived\"\n",
    "Agy=13.7*10**9; \"Age of universe years\"\n",
    "\n",
    "\"He was off by a factor of about 7\"\n",
    "\n",
    "\"The hubble consttant increases the age of the universe\";\n",
    "\"We would need to live in an accelerating universe in order for K to be 1.\";\n"
   ]
  },
  {
   "cell_type": "code",
   "execution_count": 4,
   "metadata": {
    "collapsed": false
   },
   "outputs": [
    {
     "ename": "SyntaxError",
     "evalue": "can't assign to operator (<ipython-input-4-8e6f533011a5>, line 7)",
     "output_type": "error",
     "traceback": [
      "\u001b[1;36m  File \u001b[1;32m\"<ipython-input-4-8e6f533011a5>\"\u001b[1;36m, line \u001b[1;32m7\u001b[0m\n\u001b[1;33m    a+b+g = Pi + A/R**2;\u001b[0m\n\u001b[1;31mSyntaxError\u001b[0m\u001b[1;31m:\u001b[0m can't assign to operator\n"
     ]
    }
   ],
   "source": [
    "\"Problem 3\";\n",
    "\n",
    "R;\n",
    "ds;\n",
    "r;\n",
    "\n",
    "a+b+g = Pi + A/R**2;\n",
    "\n",
    "\n",
    "\"Assuming that a and b go to 90 as ds becomes closer to 0. \"\n",
    "\"The last angle theta will be equale to the Area/R**2\"\n",
    "\n",
    "\"theta will go to 0 as r approaches Pi*R\"\n"
   ]
  },
  {
   "cell_type": "code",
   "execution_count": 20,
   "metadata": {
    "collapsed": false
   },
   "outputs": [],
   "source": [
    "\"Problem 4\";\n"
   ]
  },
  {
   "cell_type": "code",
   "execution_count": null,
   "metadata": {
    "collapsed": true
   },
   "outputs": [],
   "source": []
  }
 ],
 "metadata": {
  "kernelspec": {
   "display_name": "Python 2 (SageMath)",
   "language": "python",
   "name": "python2"
  },
  "language_info": {
   "codemirror_mode": {
    "name": "ipython",
    "version": 2
   },
   "file_extension": ".py",
   "mimetype": "text/x-python",
   "name": "python",
   "nbconvert_exporter": "python",
   "pygments_lexer": "ipython2",
   "version": "2.7.10"
  }
 },
 "nbformat": 4,
 "nbformat_minor": 0
}
