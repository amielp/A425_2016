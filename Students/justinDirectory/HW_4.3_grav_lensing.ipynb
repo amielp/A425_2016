{
 "cells": [
  {
   "cell_type": "code",
   "execution_count": 1,
   "metadata": {
    "collapsed": false,
    "scrolled": false
   },
   "outputs": [
    {
     "name": "stdout",
     "output_type": "stream",
     "text": [
      "0 0\n",
      "0 0\n"
     ]
    }
   ],
   "source": [
    "from PIL import Image\n",
    "\n",
    "bound = [240 , 280 , 140 , 180]     \n",
    "# first two values make first configuration where source approximately in the center\n",
    "# second two values make the second configuration where the source is near the Einstein radius\n",
    "\n",
    "for n in range(0 , 4 , 2):\n",
    "    pix_img = Image.new( 'RGB', (500,500), \"black\") # create a new black image\n",
    "    pix = pix_img.load() # create the pixel map\n",
    "\n",
    "\n",
    "    white = (200 , 200 , 200)    # making source image\n",
    "    for x in range(bound[n] , bound[n + 1]):    \n",
    "        for y in range(bound[n] , bound[n + 1]):\n",
    "            pix[x,y] = white\n",
    "\n",
    "\n",
    "    obs_img = Image.new( 'RGB', (500,500), \"black\") # create a new black image\n",
    "    obs = obs_img.load() # create the pixel map\n",
    "\n",
    "    n = 1\n",
    "    for x_test in range(0 , 500):    # testing obs pixels\n",
    "        for y_test in range(0 , 500):\n",
    "            x_rel = abs(x_test - 250)      # coordinates are relative to center (250 , 250)\n",
    "            y_rel = abs(y_test - 250)\n",
    "            T = ((x_rel)**2 + (y_rel)**2) ** 0.5   # lens function\n",
    "            if T == 0:\n",
    "                print(x_rel , y_rel)\n",
    "                break\n",
    "            B = (T - (50000/T))       #50000 is convinient Einstein Radius for the display\n",
    "            dist = (B/T)     # dist: is ratio describing the particles change in distance from the center (250 , 250)\n",
    "            pix_x = int(250 + (x_rel * dist))\n",
    "            pix_y = int(250 + (y_rel * dist))\n",
    "            if pix_x > 498 or pix_x < 1:\n",
    "                pix_x = 1\n",
    "            if pix_y > 498 or pix_y < 1:\n",
    "                pix_y = 1\n",
    "            if pix[pix_x , pix_y] == white:        #checks if lensed pixel operated upon by \"dist\" produces a source image pixel\n",
    "                obs[x_test , y_test] = (0 , 0 , 200)   # red\n",
    "                pix[x_test , y_test] = (200 , 0 , 0)   # blue\n",
    "\n",
    "\n",
    "    obs_img.show()\n",
    "    pix_img.show()\n",
    "\n",
    "# produces 2 pictures. First is the source image along with the lensed image and the second is just the lensed image. \n",
    "# Source image is white"
   ]
  },
  {
   "cell_type": "code",
   "execution_count": null,
   "metadata": {
    "collapsed": true
   },
   "outputs": [],
   "source": []
  }
 ],
 "metadata": {
  "anaconda-cloud": {},
  "kernelspec": {
   "display_name": "Python [default]",
   "language": "python",
   "name": "python3"
  },
  "language_info": {
   "codemirror_mode": {
    "name": "ipython",
    "version": 3
   },
   "file_extension": ".py",
   "mimetype": "text/x-python",
   "name": "python",
   "nbconvert_exporter": "python",
   "pygments_lexer": "ipython3",
   "version": "3.5.2"
  }
 },
 "nbformat": 4,
 "nbformat_minor": 1
}
