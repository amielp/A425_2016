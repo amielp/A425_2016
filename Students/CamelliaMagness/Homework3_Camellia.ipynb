{
 "cells": [
  {
   "cell_type": "code",
   "execution_count": 7,
   "metadata": {
    "collapsed": false
   },
   "outputs": [
    {
     "name": "stdout",
     "output_type": "stream",
     "text": [
      "Populating the interactive namespace from numpy and matplotlib\n"
     ]
    }
   ],
   "source": [
    "%pylab inline\n",
    "import numpy as np\n",
    "from astropy.table import Table, Column\n",
    "from scipy.optimize import curve_fit\n",
    "from IPython.display import display, Math, Latex\n",
    "from scipy.integrate import odeint, quad\n",
    "plt.style.use('seaborn-whitegrid')"
   ]
  },
  {
   "cell_type": "markdown",
   "metadata": {},
   "source": [
    "### 1. We used three equations when deriving the Friedman equations: ###\n",
    "(1) $$ \\frac{\\ddot a(t)}{a(t)} = \\frac{-4\\pi G}{3c^{2}}[\\epsilon (t)+3P(t)]$$\n",
    "\n",
    "\n",
    "(2) $$(\\frac{\\dot a(t)}{a(t)})^{2} = \\frac{8\\pi G\\epsilon (t)}{3c^{2}}-\\frac{kc^{2}}{a(t)^{2}} $$\n",
    "\n",
    "\n",
    "(3) $$\\dot \\epsilon (t) + \\frac{3\\dot a(t)}{a(t)}(\\epsilon + P) = 0   $$\n",
    "\n",
    "### In fact only two of these are independent. Show how we get the 3rd of these equations from the first two. ###"
   ]
  },
  {
   "cell_type": "markdown",
   "metadata": {},
   "source": [
    "#### Starting with Equation $\\#$2:\n",
    "\n",
    "$$(\\frac{\\dot a(t)}{a(t)})^{2} = \\frac{8\\pi G\\epsilon (t)}{3c^{2}}-\\frac{kc^{2}}{a(t)^{2}}$$\n",
    "\n",
    "#### Multiplying the equation by $a^{2}$:\n",
    "\n",
    "$$\\dot{a}^{2} = \\frac{8\\pi{}G}{3c^{2}}\\epsilon a^{2} - kc^{2}$$\n",
    "\n",
    "#### Taking the time derivative, by term:\n",
    "\n",
    "$$\\frac{d}{dt}(\\dot{a}^{2}) = 2\\dot{a}\\ddot{a} \\quad \\frac{d}{dt}(\\epsilon{}a^{2}) = \\dot{\\epsilon}a^{2} + \\epsilon(2a\\dot{a}) \\quad \\frac{d}{dt}(kc^2) = 0$$\n",
    "\n",
    "#### So the entire equation becomes:\n",
    "\n",
    "$$2\\dot{a}\\ddot{a} = \\frac{8\\pi{}G}{3c^2}[\\dot{\\epsilon}a^{2} + 2\\epsilon{}a\\dot{a}]$$\n",
    "\n",
    "#### Dividing by a:\n",
    "\n",
    "$$2\\dot{a}(\\frac{\\ddot{a}}{a}) = \\frac{8\\pi{}G}{3c^2}[\\dot{\\epsilon}a + 2\\epsilon{}\\dot{a}]$$\n",
    "\n",
    "#### From Equation $\\#$1 we have an expression for $\\frac{\\ddot{a}}{a}$ we can substitute in:\n",
    "\n",
    "$$2\\dot{a}(\\frac{-4\\pi{}G}{3c^{2}}[\\epsilon+3P]) =  \\frac{8\\pi{}G}{3c^2}[\\dot{\\epsilon}a + 2\\epsilon{}\\dot{a}]$$\n",
    "\n",
    "#### Expanding: \n",
    "\n",
    "$$\\dot{a}\\frac{-8\\pi{}G}{3c^{2}}[\\epsilon+3P] =  \\frac{8\\pi{}G}{3c^2}[\\dot{\\epsilon}a + 2\\epsilon{}\\dot{a}]$$\n",
    "\n",
    "#### Dividing out the constants:\n",
    "\n",
    "$$-\\dot{a}[\\epsilon+3P] =  [\\dot{\\epsilon}a + 2\\epsilon{}\\dot{a}]$$\n",
    "\n",
    "#### Dividing by $\\dot{a}$:\n",
    "\n",
    "$$-[\\epsilon+3P] =  [\\dot{\\epsilon}\\frac{a}{\\dot{a}} + 2\\epsilon{}]$$\n",
    "\n",
    "#### Moving the terms to one side:\n",
    "\n",
    "$$\\dot{\\epsilon}\\frac{a}{\\dot{a}} + 2\\epsilon{} + \\epsilon + 3P = 0$$\n",
    "\n",
    "#### Combining and rearranging we arrive at the fluid equation: \n",
    "\n",
    "$$\\dot{\\epsilon} + 3(\\frac{\\dot{a}}{a})(\\epsilon + P) = 0$$\n",
    "\n",
    "Where $a, \\epsilon,$ and $P$ are all functions of time."
   ]
  },
  {
   "cell_type": "markdown",
   "metadata": {},
   "source": [
    "### 2. Using your understanding of how to integrate (from the second homework) write a program that integrates the Friedman equation, ###\n",
    "\n",
    "$$(\\frac{H(z)}{H_{0}})^{2} = (\\Omega_{r,0}(1+z)^{4} + \\Omega_m,0(1+z)^{3} + \\Omega_{\\Lambda,0}+(1-\\Omega_{0})(1+z)^{2})  $$\n",
    "\n",
    "\n",
    "### Using this program calculate and plot (a) the comoving distance from z=0 to 10 (b) the age of the universe (at a given redshift) from z=0 to z=10. Calculate these results for the two universes given below ###\n",
    "\n",
    "### (a) a flat universe with $\\Omega_{m,0} = 0.3$,  $\\Omega_{r,0} = 0$, $\\Omega_{\\Lambda} = 0.7$.###\n",
    "### (b) a closed universe with $\\Omega_{m,0} = 10.0$, $\\Omega_{r,0} = 0$, $\\Omega_{\\Lambda} = 0$. ###\n",
    "\n",
    "### Note: to calculate the age of the universe remember that H(z) is directly related to $\\frac{dz}{dt}$. Use $H_{0} = 70 km s^{-1}Mpc^{-1}$ in your calculations and plot the age in Gyr. ###"
   ]
  },
  {
   "cell_type": "code",
   "execution_count": 45,
   "metadata": {
    "collapsed": true
   },
   "outputs": [],
   "source": [
    "H_0 = 70;\n",
    "c = 2.9979e5;\n",
    "def H(z, r0, m0, L0):\n",
    "    Omega_0 = r0 + m0 + L0;\n",
    "    return H_0*np.sqrt(r0*(1+z)**4 + m0*(1+z)**3 + L0 + (1-Omega_0)*(1+z)**2)   "
   ]
  },
  {
   "cell_type": "markdown",
   "metadata": {},
   "source": [
    "#### (a) Comoving distance\n",
    "\n",
    "The comoving distance is related to $H(z)$ by $\\int_{0}^{z}\\frac{c}{H(z)}dz$."
   ]
  },
  {
   "cell_type": "code",
   "execution_count": 53,
   "metadata": {
    "collapsed": false
   },
   "outputs": [],
   "source": [
    "z = 0;\n",
    "flat = np.empty(101, dtype=object)\n",
    "closed = np.empty(101, dtype=object);\n",
    "iteration = 0;\n",
    "H_flat = lambda z: c/H(z, 0, 0.3, 0.7);\n",
    "H_closed = lambda z: c/H(z, 0, 10, 0);\n",
    "while (z <= 10):\n",
    "    flat[iteration] = quad(H_flat, 0, z)[0];\n",
    "    closed[iteration] = quad(H_closed, 0, z)[0];\n",
    "    z += 0.1;\n",
    "    iteration += 1;"
   ]
  },
  {
   "cell_type": "code",
   "execution_count": 54,
   "metadata": {
    "collapsed": false
   },
   "outputs": [
    {
     "data": {
      "text/plain": [
       "<matplotlib.legend.Legend at 0x111f09e90>"
      ]
     },
     "execution_count": 54,
     "metadata": {},
     "output_type": "execute_result"
    },
    {
     "data": {
      "image/png": "[encoded data removed]",
      "text/plain": [
       "<matplotlib.figure.Figure at 0x1104080d0>"
      ]
     },
     "metadata": {},
     "output_type": "display_data"
    }
   ],
   "source": [
    "z_points = np.linspace(0, 10, 101)\n",
    "\n",
    "fig,ax = subplots(1,1)\n",
    "fig.tight_layout()\n",
    "\n",
    "ax.set_title(\"Redshift vs. Comoving Distance\")\n",
    "ax.set_xlabel(\"z\")\n",
    "ax.set_ylabel(\"Comoving Distance (Mpc)\")\n",
    "\n",
    "ax.plot(z_points, flat, label=\"Flat\")\n",
    "ax.plot(z_points, closed, label=\"Closed\")\n",
    "ax.legend(loc=2)"
   ]
  },
  {
   "cell_type": "markdown",
   "metadata": {},
   "source": [
    "#### (b) Age of the universe\n",
    "\n",
    "In order to integrate, we need to find a relationship between time and H(z). We know that $a = \\frac{1}{1 + z}$. Rearranging this, we see that $z = \\frac{1}{a} - 1$. Taking the time derivative of this we get $\\frac{dz}{dt} = \\frac{-\\dot{a}}{a}\\frac{1}{a}$. Since $\\frac{1}{a} = 1+z$, we can plug that in to get $\\frac{dz}{dt} = \\frac{-\\dot{a}}{a}(1+z)$. We also know that $H(z) = \\frac{\\dot{a}}{a}$, so we can plug that in as well and rearrange to see that $dt = dz\\frac{-1}{H(z)(1+z)}$. Integrating this from 0 to z and eliminating the negative we can determine the lookback time at every z. To figure out the age at every z, we just need to take the age of that universe and subtract the lookback time."
   ]
  },
  {
   "cell_type": "code",
   "execution_count": 49,
   "metadata": {
    "collapsed": false
   },
   "outputs": [],
   "source": [
    "H_0 = 7.154e-2 #1/Gyr\n",
    "z = 0;\n",
    "flat = np.empty(101, dtype=object)\n",
    "closed = np.empty(101, dtype=object);\n",
    "iteration = 0;\n",
    "H_flat = lambda z: 1/(H(z, 0, 0.3, 0.7)*(1+z));\n",
    "H_closed = lambda z: 1/(H(z, 0, 10, 0)*(1+z));\n",
    "flat_age = quad(H_flat, 0, 10000)[0]; \n",
    "closed_age = quad(H_closed, 0, 10000)[0];\n",
    "while (z <= 10):\n",
    "    flat[iteration] = flat_age - quad(H_flat, 0, z)[0];\n",
    "    closed[iteration] = closed_age - quad(H_closed, 0, z)[0];\n",
    "    z += 0.1;\n",
    "    iteration += 1;"
   ]
  },
  {
   "cell_type": "code",
   "execution_count": 51,
   "metadata": {
    "collapsed": false
   },
   "outputs": [
    {
     "data": {
      "text/plain": [
       "<matplotlib.legend.Legend at 0x10f50f650>"
      ]
     },
     "execution_count": 51,
     "metadata": {},
     "output_type": "execute_result"
    },
    {
     "data": {
      "image/png": "[encoded data removed]",
      "text/plain": [
       "<matplotlib.figure.Figure at 0x10eccc250>"
      ]
     },
     "metadata": {},
     "output_type": "display_data"
    }
   ],
   "source": [
    "fig,ax = subplots(1,1)\n",
    "fig.tight_layout()\n",
    "\n",
    "ax.set_title(\"Redshift vs. Age of the Universe\")\n",
    "ax.set_xlabel(\"z\")\n",
    "ax.set_ylabel(\"Age (Gyr)\")\n",
    "\n",
    "ax.plot(z_points, flat, label=\"Flat\")\n",
    "ax.plot(z_points, closed, label=\"Closed\")\n",
    "ax.legend()"
   ]
  },
  {
   "cell_type": "markdown",
   "metadata": {},
   "source": [
    "### 3. Use the program to find the value of $\\Omega_{r}$ for a radiation only open universe (no cosmological constant) that would give the same age of the universe (for the current day) as our benchmark flat universe with $\\Omega_{m,0}$ = 0.3, $\\Omega_{\\Lambda,0}$=0.7 ###"
   ]
  },
  {
   "cell_type": "code",
   "execution_count": 42,
   "metadata": {
    "collapsed": false
   },
   "outputs": [
    {
     "name": "stdout",
     "output_type": "stream",
     "text": [
      "The value for density in a radiation only open universe is:\n",
      "0.001384001384\n"
     ]
    }
   ],
   "source": [
    "#age of our universe is flat_age\n",
    "\n",
    "r = np.linspace(0, 1, 1000000);\n",
    "\n",
    "for val in r:\n",
    "    H_radiation = lambda z: 1/(H(z, val, 0, 0)*(1+z));\n",
    "    rad_age = quad(H_radiation, 0, 10000)[0];\n",
    "    if (abs(flat_age - rad_age) <= 10e-4):\n",
    "        break \n",
    "print(\"The value for density in a radiation only open universe is:\")\n",
    "print(val)"
   ]
  }
 ],
 "metadata": {
  "anaconda-cloud": {},
  "kernelspec": {
   "display_name": "Python [Root]",
   "language": "python",
   "name": "Python [Root]"
  },
  "language_info": {
   "codemirror_mode": {
    "name": "ipython",
    "version": 2
   },
   "file_extension": ".py",
   "mimetype": "text/x-python",
   "name": "python",
   "nbconvert_exporter": "python",
   "pygments_lexer": "ipython2",
   "version": "2.7.11"
  }
 },
 "nbformat": 4,
 "nbformat_minor": 0
}
