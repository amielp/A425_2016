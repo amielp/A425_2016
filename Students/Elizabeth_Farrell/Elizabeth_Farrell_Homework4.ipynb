{
 "cells": [
  {
   "cell_type": "markdown",
   "metadata": {},
   "source": [
    "Problem 1:"
   ]
  },
  {
   "cell_type": "markdown",
   "metadata": {},
   "source": [
    "Part (a)\n",
    "\n",
    "Redshift $\\rightarrow (1 + z) = \\frac{a(t_{o})}{a(t_e)}$\n",
    "\n",
    "$\\rightarrow a(t_e) = \\frac{a(t_o)}{1 + z} = \\frac{1}{1 + z}$\n",
    "\n",
    "where $a(t_o) = 1$ for present day observations."
   ]
  },
  {
   "cell_type": "markdown",
   "metadata": {},
   "source": [
    "$\\rightarrow a(t_{e,1}) = \\frac{1}{1 + z_1}$ and $\\rightarrow a(t_{e,2}) = \\frac{1}{1 + z_2}$"
   ]
  },
  {
   "cell_type": "markdown",
   "metadata": {},
   "source": [
    "$\\rightarrow \\frac{a(t_{e,1})}{a(t_{e,2})} = \\frac{1 + z_2}{1 + z_1} = (1 + z_{1,2}) \\rightarrow z_{1,2} = \\frac{1 + z_2}{1 + z_1} - 1$"
   ]
  },
  {
   "cell_type": "markdown",
   "metadata": {},
   "source": [
    "with $z_{1} = 0.5$ and $z_{2} = 1.6$"
   ]
  },
  {
   "cell_type": "code",
   "execution_count": 4,
   "metadata": {
    "collapsed": false
   },
   "outputs": [
    {
     "name": "stdout",
     "output_type": "stream",
     "text": [
      "Therefore, the relative redshift between the two galaxies is 0.733333333333\n"
     ]
    }
   ],
   "source": [
    "def redshyft(z_1, z_2): #which calculates the relative redshift between two galaxies.\n",
    "    return (1.0 + z_2) / (1.0 + z_1) - 1.0\n",
    "\n",
    "z_12 = redshyft(0.5, 1.6)\n",
    "print 'Therefore, the relative redshift between the two galaxies is', z_12"
   ]
  },
  {
   "cell_type": "markdown",
   "metadata": {},
   "source": [
    "Part (b)\n",
    "\n",
    "Flat universe with $\\Omega_m = 1$ and $\\omega = 0 \\rightarrow$  Einstein-deSitter universe."
   ]
  },
  {
   "cell_type": "markdown",
   "metadata": {},
   "source": [
    "angular diameter distance $d_A = \\frac{d_L}{(1 + z)^{2}} = \\frac{d_p}{(1 + z)}$\n",
    "\n",
    "where $d_L$ is the luminosity distance, and $d_p$ is the proper distance.\n",
    "\n",
    "where $d_p = c \\int_{t_e}^{t} \\frac{dt}{a(t)}$"
   ]
  },
  {
   "cell_type": "markdown",
   "metadata": {},
   "source": [
    "$\\rightarrow d_p(t_o) = \\frac{2 c}{H_0} \\cdot (1 - (1 + z)^{-\\frac{1}{2}})$\n",
    "\n",
    "$\\rightarrow d_p(t_e) = \\frac{2 c}{H_0} \\cdot (1 + z)(1 - (1 + z)^{-\\frac{1}{2}})$"
   ]
  },
  {
   "cell_type": "markdown",
   "metadata": {},
   "source": [
    "angular diameter distance $d_A = \\frac{d_p(t_o)}{(1 + z)}$"
   ]
  },
  {
   "cell_type": "markdown",
   "metadata": {},
   "source": [
    "$\\rightarrow d_{A} = \\frac{2 c}{H_0} \\cdot \\frac{(1 - (1 + z)^{-\\frac{1}{2}})}{(1 + z)} = \\frac{2 c}{H_0} \\cdot ((1 + z)^{-1} - (1 + z)^{-\\frac{3}{2}})$"
   ]
  },
  {
   "cell_type": "code",
   "execution_count": 23,
   "metadata": {
    "collapsed": false
   },
   "outputs": [
    {
     "name": "stdout",
     "output_type": "stream",
     "text": [
      "Therefore,\n",
      "the angular diameter distance to the galaxy with redshift z_1 = 0.5 is 1047.86554391 Mpc.\n",
      "the angular diameter distance to the galaxy with redshift z_2 = 1.6 is 1251.30844177 Mpc.\n",
      "the angular diameter distance between the two galaxies is 1188.19351436 Mpc.\n"
     ]
    }
   ],
   "source": [
    "c = 299792458.0 #m/s\n",
    "H_0 = 70.0/3.086e19 #km/s/Mpc to s^-1\n",
    "\n",
    "def d_A(z): #which calculates the angular diameter distance for an Einstein-deSitter Universe \n",
    "    return (2.0*c/H_0)*((1.0 + z)**(-1.0) - (1.0 + z)**(-3.0/2.0))/3.086e22\n",
    "\n",
    "\n",
    "print \"Therefore,\"\n",
    "print \"the angular diameter distance to the galaxy with redshift z_1 = 0.5 is\", d_A(0.5), \"Mpc.\"\n",
    "print \"the angular diameter distance to the galaxy with redshift z_2 = 1.6 is\", d_A(1.6), \"Mpc.\"\n",
    "print \"the angular diameter distance between the two galaxies is\", d_A(z_12), \"Mpc.\""
   ]
  },
  {
   "cell_type": "markdown",
   "metadata": {},
   "source": [
    "Part (c)"
   ]
  },
  {
   "cell_type": "markdown",
   "metadata": {},
   "source": [
    "As expected, the galaxy with higher redshift, z_2 = 1.6, has a smaller angular diameter distance than a galaxy of the same size with a lower redshift, z_1 = 0.5. We also expect the relative angular distance bewteen the two galaxies to be larger than that of a galaxy with redshift z_1 = 0.5, and smaller than that of a galaxy with redshift z_2 = 1.6, which also coincides with my calculations."
   ]
  },
  {
   "cell_type": "markdown",
   "metadata": {},
   "source": [
    "Problem 2"
   ]
  },
  {
   "cell_type": "markdown",
   "metadata": {},
   "source": [
    "mean number density $n = \\frac{3N}{4 \\pi r_h^{3}}$\n",
    "\n",
    "mean-free-path $\\lambda = (n \\Sigma)^{-1}$\n",
    "\n",
    "average time between collisions $\\tau = \\frac{\\lambda}{{\\sqrt{\\langle v^{2} \\rangle}}} = \\frac{\\lambda}{\\sqrt{3 \\sigma}}$"
   ]
  },
  {
   "cell_type": "code",
   "execution_count": 22,
   "metadata": {
    "collapsed": false
   },
   "outputs": [
    {
     "name": "stdout",
     "output_type": "stream",
     "text": [
      "The mean number density of galaxies in the Coma Cluster is 70.7355302631 galaxies Mpc^-3\n",
      "A galaxy in the Coma Cluster will travel 14.1371669412 Mpc, on average, before colliding with another galaxy.\n",
      "The average time between collisions in the Coma Cluster is 9.07629079433 Gyr.\n",
      "Which is less than the Hubble time.\n"
     ]
    }
   ],
   "source": [
    "import numpy as np\n",
    "\n",
    "n_coma = (3.0*1e3)/(4.0*np.pi*1.5**3.0)\n",
    "print \"The mean number density of galaxies in the Coma Cluster is\", n_coma, \"galaxies Mpc^-3\"\n",
    "\n",
    "lam = (n_coma*1e-3)**(-1.0)\n",
    "print \"A galaxy in the Coma Cluster will travel\", lam, \"Mpc, on average, before colliding with another galaxy.\"\n",
    "\n",
    "t_coma = (lam/(np.sqrt(3.0)*880e3/3.086e22))/(365.0*24.0*3600.0*1e9) #using a dispersion velocity of 880 km/s\n",
    "print \"The average time between collisions in the Coma Cluster is\", t_coma, \"Gyr.\" \n",
    "print \"Which is less than the Hubble time.\""
   ]
  },
  {
   "cell_type": "code",
   "execution_count": 30,
   "metadata": {
    "collapsed": false
   },
   "outputs": [
    {
     "name": "stdout",
     "output_type": "stream",
     "text": [
      "The average time for an M31 and Milky Way collision is 5.70829105361 Gyr.\n"
     ]
    }
   ],
   "source": [
    "t_ma = (700*3.086e19/120e3)/(365.0*24.0*3600.0*1e9)\n",
    "print \"The average time for an M31 and Milky Way collision is\", t_ma, 'Gyr.'"
   ]
  },
  {
   "cell_type": "markdown",
   "metadata": {},
   "source": [
    "Thus, it takes nearly twice as much time for collisions in the Coma Cluster to occur, than it does for the collision time between M31 and the Milky Way."
   ]
  }
 ],
 "metadata": {
  "kernelspec": {
   "display_name": "Python 2",
   "language": "python",
   "name": "python2"
  },
  "language_info": {
   "codemirror_mode": {
    "name": "ipython",
    "version": 2
   },
   "file_extension": ".py",
   "mimetype": "text/x-python",
   "name": "python",
   "nbconvert_exporter": "python",
   "pygments_lexer": "ipython2",
   "version": "2.7.10"
  }
 },
 "nbformat": 4,
 "nbformat_minor": 0
}
