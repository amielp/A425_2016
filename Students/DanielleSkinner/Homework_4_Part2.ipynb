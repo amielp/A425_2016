{
 "cells": [
  {
   "cell_type": "code",
   "execution_count": 6,
   "metadata": {
    "collapsed": true
   },
   "outputs": [],
   "source": [
    "%matplotlib inline"
   ]
  },
  {
   "cell_type": "markdown",
   "metadata": {},
   "source": [
    "## [ THREE ]\n",
    "Assume a gravitational lens that is a point source. Using the lens equation:\n",
    "\n",
    "\\begin{equation}\n",
    "    \\beta = \\theta - \\frac{D_{LS}}{D_{S}D_{L}} \\frac{4GM}{c^{2}\\theta}\n",
    "\\end{equation}\n",
    "\n",
    "Write a program to lens a background source by a foreground mass. Have the program produce a set of two figures: one with the position of the background source relative to the lens and a second figure with the resulting lensed image. Generate these images for two configurations: (a) where the background source is almost directly behind the lens and (b) when the background source is just inside the Einstein radius of the lens.\n",
    "\n",
    "For added credit, use an image of distant galaxies from Hubble and appy your lens to the astronomical scene.\n",
    "\n",
    "Hint: think about what values you should chose for the mass of the lens and the distance to the lens and source, and also how you should trace the path of the photon (from the source to the observer or the observer to the source). "
   ]
  },
  {
   "cell_type": "code",
   "execution_count": 7,
   "metadata": {
    "collapsed": false
   },
   "outputs": [
    {
     "name": "stderr",
     "output_type": "stream",
     "text": [
      "/Users/danielleskinner/anaconda2/lib/python2.7/site-packages/ipykernel/__main__.py:41: RuntimeWarning: invalid value encountered in divide\n"
     ]
    },
    {
     "data": {
      "image/png": "[encoded data removed]",
      "text/plain": [
       "<matplotlib.figure.Figure at 0x10da5c250>"
      ]
     },
     "metadata": {},
     "output_type": "display_data"
    },
    {
     "name": "stdout",
     "output_type": "stream",
     "text": [
      "theta_E =  27.7847213544\n",
      "theta_pos at center (should be theta_E) =  27.7847213544\n",
      "theta_pos_source at center =  27.7847213544\n"
     ]
    },
    {
     "name": "stderr",
     "output_type": "stream",
     "text": [
      "/Users/danielleskinner/anaconda2/lib/python2.7/site-packages/ipykernel/__main__.py:99: VisibleDeprecationWarning: using a non-integer number instead of an integer will result in an error in the future\n"
     ]
    },
    {
     "ename": "IndexError",
     "evalue": "index -9223372036854775808 is out of bounds for axis 0 with size 100",
     "output_type": "error",
     "traceback": [
      "\u001b[0;31m---------------------------------------------------------------------------\u001b[0m",
      "\u001b[0;31mIndexError\u001b[0m                                Traceback (most recent call last)",
      "\u001b[0;32m<ipython-input-7-30ae9a15ffa9>\u001b[0m in \u001b[0;36m<module>\u001b[0;34m()\u001b[0m\n\u001b[1;32m     97\u001b[0m         \u001b[0mx0\u001b[0m \u001b[0;34m=\u001b[0m \u001b[0mtheta_source_x\u001b[0m\u001b[0;34m[\u001b[0m\u001b[0mi\u001b[0m\u001b[0;34m]\u001b[0m\u001b[0;34m\u001b[0m\u001b[0m\n\u001b[1;32m     98\u001b[0m         \u001b[0my0\u001b[0m \u001b[0;34m=\u001b[0m \u001b[0mtheta_source_y\u001b[0m\u001b[0;34m[\u001b[0m\u001b[0mj\u001b[0m\u001b[0;34m]\u001b[0m\u001b[0;34m\u001b[0m\u001b[0m\n\u001b[0;32m---> 99\u001b[0;31m         \u001b[0mn\u001b[0m\u001b[0;34m[\u001b[0m\u001b[0mx0\u001b[0m\u001b[0;34m]\u001b[0m\u001b[0;34m[\u001b[0m\u001b[0my0\u001b[0m\u001b[0;34m]\u001b[0m \u001b[0;34m=\u001b[0m \u001b[0;36m1.0\u001b[0m\u001b[0;34m\u001b[0m\u001b[0m\n\u001b[0m\u001b[1;32m    100\u001b[0m \u001b[0;34m\u001b[0m\u001b[0m\n\u001b[1;32m    101\u001b[0m \u001b[0;32mfor\u001b[0m \u001b[0mk\u001b[0m \u001b[0;32min\u001b[0m \u001b[0mrange\u001b[0m\u001b[0;34m(\u001b[0m\u001b[0mlen\u001b[0m\u001b[0;34m(\u001b[0m\u001b[0mtheta_source_neg_x\u001b[0m\u001b[0;34m)\u001b[0m\u001b[0;34m)\u001b[0m\u001b[0;34m:\u001b[0m\u001b[0;34m\u001b[0m\u001b[0m\n",
      "\u001b[0;31mIndexError\u001b[0m: index -9223372036854775808 is out of bounds for axis 0 with size 100"
     ]
    }
   ],
   "source": [
    "import numpy as np\n",
    "from numpy import linalg as LA\n",
    "import matplotlib.image as mpimg\n",
    "import matplotlib.pyplot as plt\n",
    "from pylab import *\n",
    "import scipy\n",
    "from PIL import Image, ImageFilter\n",
    "from decimal import Decimal\n",
    "\n",
    "#Define my variables:\n",
    "c = 3.0 * (10**8)\n",
    "G = 6.67 * (10**-11)\n",
    "d = 1\n",
    "s = 1./2.\n",
    "d_s = 1./2.\n",
    "M = 6e+18\n",
    "angles = np.linspace(0, 2*np.pi, 500)\n",
    "\n",
    "#Equation for theta_E in arcseconds\n",
    "def einstein_ring(d, s, d_s, M):\n",
    "    theta_E = np.sqrt(((4*G*M)/(c**2)) * ((d_s)/(d*s)))/(4.8*10**(-6))\n",
    "    return theta_E\n",
    "#pixel/deg\n",
    "\n",
    "def circle_eqn(x,y,r,phi):\n",
    "    x_coord = x + r*np.cos(phi)\n",
    "    y_coord = y + r*np.sin(phi)\n",
    "    outline = np.array([x_coord, y_coord])\n",
    "    return outline\n",
    "\n",
    "#Setting up source \n",
    "z = np.zeros((100,100))\n",
    "a = np.zeros((100,100))\n",
    "n = np.zeros((100,100))\n",
    "x,y = np.meshgrid(np.arange(z.shape[0]), np.arange(z.shape[1]))\n",
    "x_cen = x[50][50]\n",
    "y_cen = y[50][50]\n",
    "\n",
    "#Distance to every pixel of source image from the center \n",
    "beta = np.sqrt((x-x_cen)**2 + (y-y_cen)**2)\n",
    "angle = np.sin((y-y_cen) / beta)\n",
    "\n",
    "#Source\n",
    "z[45:55,45:55] = 1\n",
    "#z[np.where(beta<10)] = 1\n",
    "#Practice source with all pixel values filled\n",
    "a[np.where(beta<500)] = 1\n",
    "a[np.where(beta<10)] = 10\n",
    "\n",
    "#print 'beta of source = ' , beta[np.where(z==1)]\n",
    "\n",
    "#Distance to every pixel from the center in the source image\n",
    "beta_source = beta[np.where(z==1)]\n",
    "\n",
    "#Angles of the above distances\n",
    "angle_source = angle[np.where(z==1)]\n",
    "\n",
    "Phi = np.linspace(0, 2*np.pi, 100)\n",
    "\n",
    "#Plot source image\n",
    "fig = plt.figure()\n",
    "ax = fig.add_subplot(111)\n",
    "ax.imshow(z)\n",
    "ax.set_aspect('equal')\n",
    "plt.title('Source')\n",
    "plt.show()\n",
    "\n",
    "#General solution\n",
    "print 'theta_E = ', einstein_ring(d, s, d_s, M)\n",
    "theta_pos = (1./2.)*(beta + np.sqrt(np.power(beta,2) + 4*(einstein_ring(d, s, d_s, M)**2)))\n",
    "theta_neg = (1./2.)*(beta - np.sqrt(np.power(beta,2) + 4*(einstein_ring(d, s, d_s, M)**2)))\n",
    "print 'theta_pos at center (should be theta_E) = ', theta_pos[x_cen][y_cen]\n",
    "\n",
    "#Solution for my source\n",
    "theta_pos_source = (1./2.)*(beta_source + np.sqrt(np.power(beta_source,2) + 4*(einstein_ring(d, s, d_s, M)**2)))\n",
    "theta_neg_source = (1./2.)*(beta_source - np.sqrt(np.power(beta_source,2) + 4*(einstein_ring(d, s, d_s, M)**2)))\n",
    "print 'theta_pos_source at center = ', theta_pos[x_cen][y_cen]\n",
    "\n",
    "#x and y positions of the general lensed image.\n",
    "theta_pos_x = theta_pos*np.cos(angle) + x_cen\n",
    "theta_pos_y = theta_pos*np.sin(angle) + y_cen\n",
    "theta_neg_x = theta_neg*np.cos(angle) + x_cen\n",
    "theta_neg_y = theta_neg*np.sin(angle) + y_cen\n",
    "\n",
    "#x and y positions of the lensed image, where the pixel value should = 1 in the source image\n",
    "theta_source_x = theta_pos_source*np.cos(angle_source) + x_cen\n",
    "theta_source_y = theta_pos_source*np.sin(angle_source) + y_cen\n",
    "theta_source_neg_x = theta_neg_source*np.cos(angle_source) + x_cen\n",
    "theta_source_neg_y = theta_neg_source*np.sin(angle_source) + y_cen\n",
    "\n",
    "#Einstein ring \n",
    "einstein_ring = [circle_eqn(x_cen, y_cen, einstein_ring(d, s, d_s, M), phi) for phi in Phi]\n",
    "\n",
    "#loop through every pixel in the source image, set it equal to one at the positions in theta_source_x and y\n",
    "for i in range(len(theta_source_x)):\n",
    "    for j in range(len(theta_source_y)):\n",
    "        x0 = theta_source_x[i]\n",
    "        y0 = theta_source_y[j]\n",
    "        n[x0][y0] = 1.0\n",
    "\n",
    "for k in range(len(theta_source_neg_x)):\n",
    "    for l in range(len(theta_source_neg_y)):\n",
    "        x0 = theta_source_neg_x[k]\n",
    "        y0 = theta_source_neg_y[l]\n",
    "        n[x0][y0] = 1.0\n",
    "\n",
    "#Lensed image\n",
    "fig = plt.figure()\n",
    "ax = fig.add_subplot(111)\n",
    "ax.imshow(n)\n",
    "ax.set_aspect('equal')\n",
    "ax.plot(*zip(*einstein_ring), label='Einstein Ring')\n",
    "plt.title('Lensed')\n",
    "plt.legend()\n",
    "plt.show()\n",
    "\n",
    "#Beginning attempt of lensing a real image\n",
    "img = mpimg.imread('/Users/danielleskinner/Desktop/Hubble_deep.jpg')\n",
    "new_image = img[:,:,0]\n"
   ]
  },
  {
   "cell_type": "markdown",
   "metadata": {
    "collapsed": true
   },
   "source": [
    "I was able to calculate the solution to the lens equation for theta (going from the source to the lensed image, theta_pos_source and theta_neg_soure above is the distance from the center of the lensed image to each pixel where in my source image, the pixel value was one), but I had difficulty trying to map the pixel values to a location. I tried to loop through every pixel in the newly lensed image (n), and at all the positions of theta_source_x and theta_source_y within n, set the pixel value equal to one, as those pixels would correspond with the original image. For some reason my loop won't work, and it throws this index error but I'm not sure why, as I am able to call the pixel values of n, n[x0][y0], using n[theta_source_x[0]][theta_source_y[0]]. Something in my loop is broken.. \n",
    "\n",
    "If I could get my loop to work, I would have my lensed image. I'm so looking forward to seeing the solution; I lost many hours over this! "
   ]
  },
  {
   "cell_type": "code",
   "execution_count": null,
   "metadata": {
    "collapsed": true
   },
   "outputs": [],
   "source": []
  }
 ],
 "metadata": {
  "anaconda-cloud": {},
  "kernelspec": {
   "display_name": "Python [default]",
   "language": "python",
   "name": "python2"
  },
  "language_info": {
   "codemirror_mode": {
    "name": "ipython",
    "version": 2
   },
   "file_extension": ".py",
   "mimetype": "text/x-python",
   "name": "python",
   "nbconvert_exporter": "python",
   "pygments_lexer": "ipython2",
   "version": "2.7.12"
  }
 },
 "nbformat": 4,
 "nbformat_minor": 1
}
