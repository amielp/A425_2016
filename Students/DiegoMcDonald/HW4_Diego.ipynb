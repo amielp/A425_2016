{
 "cells": [
  {
   "cell_type": "markdown",
   "metadata": {},
   "source": [
    "1 a)\n",
    "\n",
    "We know redshift is equal to the wavelength observed minus wavelength emitted divided by the wavelength emitted. $z = (\\lambda_o - \\lambda_e)/(\\lambda_e)$. \n",
    "Rearranging: $$z = \\lambda_o / \\lambda_e -1 $$\n",
    "\n",
    "For each specific galaxy:\n",
    "$$z_2 = \\frac{\\lambda_{o,0}}{\\lambda_{e,1}} - 1$$\n",
    "$$ z_1 = \\frac{\\lambda_{o,0}}{\\lambda_{e,2}} - 1 $$\n",
    "Where $\\lambda_{o,0} = $ wavelength observed by an observer not in galaxy 1 or 2 and $\\lambda_{e,n}$ = wavelength emitted by galaxy n.\n",
    "\n",
    "To get redshift of galaxy 2 in galaxy 1:\n",
    "$$ z_{2,1}  = \\frac{\\lambda_{o,1}}{\\lambda_{e,2}}-1 $$\n",
    "Where: $z_{2,1}=$ redshift of galaxy 2 in galaxy 1 and $\\lambda_{o,1} = $ wavelength observed by galaxy 1.  \n",
    "Next, substitute $\\lambda_{e,2}$ from $z_2$ into $z_{2,1}$ to get:\n",
    "$$ z_{2,1} = \\frac{\\lambda_{o,1}}{\\lambda_{o,0}}(z_2+1)-1$$\n",
    "Since we are finding redshift at galaxy 1, we know $\\lambda_{o,1} = \\lambda_{e,1}$, the wavelength observed in galaxy 1 is equal to the wavelength emitted in galaxy 1, for a given wavelength. Taking advantage of this equation as well as the above equation for $z_1$, we can substitute and simplify to get:\n",
    "$$z_{2,1} = \\frac{z_2+1}{z_1+1}-1$$"
   ]
  },
  {
   "cell_type": "markdown",
   "metadata": {},
   "source": [
    "1 b)\n",
    "Angular diameter distance:\n",
    "$$ d_a = \\frac{r}{1+z} $$\n",
    "Where r = proper distance, given by the following integral:\n",
    "$$ r = \\int_{0}^{z}\\frac{cdz}{H_0\\sqrt{\\Omega_{m,0}(1+z)^3}} $$\n"
   ]
  },
  {
   "cell_type": "code",
   "execution_count": 1,
   "metadata": {
    "collapsed": false
   },
   "outputs": [
    {
     "name": "stdout",
     "output_type": "stream",
     "text": [
      "Ang. Diam. Distance to galaxy 1: 2005.0987111965765 Mpc\n",
      "Ang. Diam. Distance to galaxy 2: 6523.070420030639 Mpc\n",
      "Ang. Diam. Distance to galaxy 2 from galaxy 1: 2921.034319000819 Mpc\n",
      "Redshift of galaxy 2 from galaxy 1:  0.7333333333333334\n"
     ]
    }
   ],
   "source": [
    "import numpy as np\n",
    "from astropy import units as u\n",
    "from astropy import constants as const\n",
    "from scipy import integrate\n",
    "import matplotlib.pyplot as plt\n",
    "from IPython.core.debugger import Tracer\n",
    "%matplotlib inline\n",
    "Kpc = u.def_unit('Kpc',u.pc*10**3) #define Kpc\n",
    "Mpc = u.def_unit('Mpc',u.pc*10**6) #define Mpc\n",
    "Gyr = u.def_unit('Gyr',u.yr*10**9) #define Gyr\n",
    "\n",
    "#givens\n",
    "z1 = 0.5\n",
    "z2 = 1.6\n",
    "H_0 = 70 *u.km/(u.s * u.Mpc)\n",
    "\n",
    "#find redshift from above\n",
    "z21 = ((z2+1)/(z1+1))-1\n",
    "\n",
    "#now to integrate and get proper distance:\n",
    "# Omega_m = 1, can ignore, giving:\n",
    "\n",
    "def prop_int(z): #integrand for finding r\n",
    "    p =((1+z)**3)**(1/2)\n",
    "    return p\n",
    "def prop(z):\n",
    "    r = integrate.quad(prop_int,0,z)\n",
    "    return r\n",
    "r1 = prop(z1)[0]*(const.c/H_0)\n",
    "r2 = prop(z2)[0]*(const.c/H_0)\n",
    "r21 = prop(z21)[0]*(const.c/H_0)\n",
    "\n",
    "angd_01 =(1/(1+z1))*r1 # ang diam from observer to 1\n",
    "angd_02 =(1/(1+z2))*r2 # ang diam from observer to 2\n",
    "angd_12 =(1/(1+z21))*r21# ang diam from 1 to 2\n",
    "\n",
    "print ('Ang. Diam. Distance to galaxy 1:',angd_01.to(u.Mpc))\n",
    "print ('Ang. Diam. Distance to galaxy 2:',angd_02.to(u.Mpc))\n",
    "print ('Ang. Diam. Distance to galaxy 2 from galaxy 1:',angd_12.to(u.Mpc))\n",
    "print ('Redshift of galaxy 2 from galaxy 1: ',z21)"
   ]
  },
  {
   "cell_type": "markdown",
   "metadata": {},
   "source": [
    "1c) We know that the angular diameter distance increases to a critical value at z_{crit} = 1.6. Therefore, we expect the angular diameter distance to increase until $z=z_{crit}$, which we see from the above calculations, since $z_2 = z_{crit}$ and $d_{a,1}<d_{a,2}$\n",
    "\n",
    "We also determined that $z_1 < z_{2,1} < z_2$, so we would then guess that $d_{a,z_1}<d_{a,z_{2,1}}<d_{a,z_2}$, which is confirmed by our above calculations."
   ]
  },
  {
   "cell_type": "markdown",
   "metadata": {},
   "source": [
    "2)\n",
    "\n",
    "To calculate mean number density, let N = # of galaxies (1000) and V = volume of sphere with radius = half mass radius:\n",
    "\n",
    "mean number density = $\\frac{AvgGalaxies}{Volume} = \\frac{N}{V} $ and\n",
    "$ V = \\frac{4}{3}\\pi r^3 $ where r = $R_{hm}=1.5 Mpc$\n",
    "$$ $$\n",
    "Giving:\n",
    "$$ \\frac{1000}{\\frac{4}{3}\\pi r^3} = \\frac{1000}{\\frac{4}{3}\\pi R_{hm}^3} = \\frac{1000}{\\frac{4}{3}\\pi (1.5)^3}=70.73553(\\frac{Galaxies}{Mpc^{-3}})$$ \n",
    "\n",
    "We use the given cross section of a galaxy to determine average distance traveled for a collision, $\\Sigma = 10^{-3}$Mpc$^2$. \n",
    "\n",
    "\n",
    "Imagining a cylinder with cross section = $\\Sigma$:\n",
    "$$V = \\Sigma l$$\n",
    "Setting $V N = 1$ to guarantee 1 collision, where N is mean number density calculated above. Solving for *l*\n",
    "$$ \\Sigma l N = 1$$\n",
    "$$ l = \\frac{1}{\\Sigma N}$$\n",
    "giving us:\n",
    "$$ l = 14.137166 Mpc$$\n",
    "To calculate average time, need to divide *l* by the velocity dispersion($\\sigma$)= 880$\\frac{km}{s}$:\n",
    "$$ t_{avg} = \\frac{l}{\\sigma} $$\n",
    "$$ t_{avg} = 15.7082 Gyrs $$\n",
    "\n",
    "This gives us $t_{avg}$*>Hubble Time* = 14 Gyrs\n",
    "\n",
    "\n",
    "Comparing to the collision time for Milky Way and Andromeda:\n",
    "\n",
    "Let *r* = separation between Milky Way and Andromeda = 700 kpc\n",
    "\n",
    "Let *v* = velocity of Andromeda towards Milky Way = 120 $\\frac{km}{s}$\n",
    "\n",
    "Giving:\n",
    "$$ t = \\frac{r}{v} = \\frac{700}{120}\\frac{kpc*s}{km} = 5.7 Gyrs$$\n",
    "\n",
    "More detailed calculations in the code below:\n"
   ]
  },
  {
   "cell_type": "code",
   "execution_count": 2,
   "metadata": {
    "collapsed": false
   },
   "outputs": [
    {
     "name": "stdout",
     "output_type": "stream",
     "text": [
      "Mean Number Density =  70.7355302630646 1 / Mpc3\n",
      "length per collision =  14.137166941154067 Mpc\n",
      "averge time between collisions =  15.708195308585159 Gyr\n",
      "Time until MW-Andromeda collision =  5.703787959759915 Gyr\n"
     ]
    }
   ],
   "source": [
    "N = 1000\n",
    "Rhm = 1.5 * u.Mpc\n",
    "r = Rhm \n",
    "V = (4/3)*np.pi*r**3\n",
    "mnd = N/V\n",
    "print (\"Mean Number Density = \",mnd)\n",
    "sigma = 10**(-3)*(u.Mpc)**2\n",
    "n = mnd\n",
    "l = 1/(sigma*n)\n",
    "print ('length per collision = ',l.to(u.Mpc))\n",
    "v_disp = 880 *(u.km/u.s)\n",
    "t_avg = l/v_disp\n",
    "print ('averge time between collisions = ',t_avg.to(u.Gyr))\n",
    "v_and = 120 * (u.km/u.s)\n",
    "r_and = 0.7 * u.Mpc\n",
    "t_and = r_and/v_and\n",
    "print('Time until MW-Andromeda collision = ',t_and.to(u.Gyr))"
   ]
  },
  {
   "cell_type": "code",
   "execution_count": 10,
   "metadata": {
    "collapsed": false
   },
   "outputs": [
    {
     "name": "stderr",
     "output_type": "stream",
     "text": [
      "/home/dm1681/anaconda3/lib/python3.5/site-packages/ipykernel/__main__.py:6: VisibleDeprecationWarning: using a non-integer number instead of an integer will result in an error in the future\n",
      "/home/dm1681/anaconda3/lib/python3.5/site-packages/ipykernel/__main__.py:7: VisibleDeprecationWarning: using a non-integer number instead of an integer will result in an error in the future\n"
     ]
    },
    {
     "name": "stdout",
     "output_type": "stream",
     "text": [
      "On the left, is the lens produced by a point source with beta = 0, in line with the lens.\n",
      "On the right is the lens produced by a point source with beta = theta_e-1, where theta_e = 63 pixels (beta = 62 px)\n",
      "The outer ring is the positive theta value and the inner ring is the negative\n",
      "The dot inside each figure represents the position (beta) of the point source relative to the lens.\n",
      "For the beta = theta_e-1 case (right), the point source will be lensed directly above and below,\n",
      " creating two images above and below a both positive and negative theta values.\n",
      "The green vertical line shows the distance to the lens from the observer used. (25 Kpc)\n",
      "The red horizontal line below shows the distance to source used (50 Kpc). The blue line has a slope of 2, \n",
      "meaning the distance to the source is twice the distance to the lens.\n"
     ]
    },
    {
     "data": {
      "text/plain": [
       "<matplotlib.collections.LineCollection at 0x7f66d118f240>"
      ]
     },
     "execution_count": 10,
     "metadata": {},
     "output_type": "execute_result"
    },
    {
     "data": {
      "image/png": "[encoded data removed]",
      "text/plain": [
       "<matplotlib.figure.Figure at 0x7f66ceac89b0>"
      ]
     },
     "metadata": {},
     "output_type": "display_data"
    },
    {
     "data": {
      "image/png": "[encoded data removed]",
      "text/plain": [
       "<matplotlib.figure.Figure at 0x7f66d1071d30>"
      ]
     },
     "metadata": {},
     "output_type": "display_data"
    }
   ],
   "source": [
    "%matplotlib inline\n",
    "image = np.zeros([500,500])\n",
    "image2 = np.zeros([500,500])\n",
    "beta = 62 # for source just inside theta_e case.\n",
    "bg_src_pos = np.array([image.shape[0]/2,image.shape[1]/2])\n",
    "image[bg_src_pos[0]][bg_src_pos[1]] = 1 # point sources of 1 at beta = 0\n",
    "image2[bg_src_pos[0]+beta][bg_src_pos[1]] = 1 # point source of 1 at beta ~~ theta_e\n",
    "lens_pos = np.array([image.shape[0]/2,image.shape[1]/2])\n",
    "# set 1 arcsec = 5 px\n",
    "pix_ang_dist = 1 * u.arcsec / 5\n",
    "\n",
    "\n",
    "# define theta_e\n",
    "M = 10**9* const.M_sun\n",
    "x = 0.5 # distance to lens rel to distance to source\n",
    "d = 50000 * u.pc # distance to source\n",
    "d_lens = x * d\n",
    "theta_e = ((4 * const.G * M * (1-x))/(const.c**2 * d * x))**(1/2)\n",
    "theta_e = theta_e.decompose()\n",
    "theta_e = theta_e * u.rad\n",
    "theta_e = theta_e.to(u.arcsec)\n",
    "theta_e = theta_e/pix_ang_dist # converts to pixels\n",
    "#theta_e ~ 63 px\n",
    "\n",
    "\n",
    "\n",
    "for (y,x),val in np.ndenumerate(image):\n",
    "    val = image[y][x] # beta = 0, so theta = theta_e\n",
    "    x_rlens = x - lens_pos[1] #pixels\n",
    "    y_rlens = y - lens_pos[0] #pixels\n",
    "    theta = np.sqrt(x_rlens**2 + y_rlens**2) # ang dist from center in pixels\n",
    "    theta = int(theta)\n",
    "    if theta == int(theta_e):\n",
    "        image[y][x] = 1\n",
    "\n",
    "# new theta's for beta = 62 px\n",
    "theta_new_p = (beta + np.sqrt(beta**2 + 4*theta_e**2))/2\n",
    "theta_new_n = (beta - np.sqrt(beta**2 + 4*theta_e**2))/2\n",
    "theta_new_p = int(theta_new_p) \n",
    "theta_new_n = int(theta_new_n) \n",
    "# what if beta = 62? theta_e = 63\n",
    "for (y,x),val in np.ndenumerate(image2):\n",
    "    val = image[y][x] # beta = 0, so theta = theta_e\n",
    "    x_rlens = x - lens_pos[1] #pixels\n",
    "    y_rlens = y - lens_pos[0] #pixels\n",
    "    theta = np.sqrt(x_rlens**2 + y_rlens**2) # ang dist from center in pixels\n",
    "    theta = int(theta) # theta_e = 63 pixels\n",
    "    if theta == theta_new_p or theta == abs(theta_new_n):\n",
    "        image2[y][x] = 1\n",
    "        \n",
    "        \n",
    "fig,ax = plt.subplots(1,2)\n",
    "fig.set_size_inches(10,5)\n",
    "\n",
    "ax[0].contour(image)\n",
    "ax[1].contour(image2)\n",
    "\n",
    "print ('On the left, is the lens produced by a point source with beta = 0, in line with the lens.')\n",
    "print ('On the right is the lens produced by a point source with beta = theta_e-1, where theta_e = 63 pixels (beta = 62 px)')\n",
    "print ('The outer ring is the positive theta value and the inner ring is the negative')\n",
    "print ('The dot inside each figure represents the position (beta) of the point source relative to the lens.')\n",
    "print ('For the beta = theta_e-1 case (right), the point source will be lensed directly above and below,\\n creating two images above and below a both positive and negative theta values.')\n",
    "print ('The green vertical line shows the distance to the lens from the observer used. (25 Kpc)')\n",
    "print ('The red horizontal line below shows the distance to source used (50 Kpc). The blue line has a slope of 2, \\nmeaning the distance to the source is twice the distance to the lens.')\n",
    "\n",
    "\n",
    "fig,ax = plt.subplots(1,1)\n",
    "fig.set_size_inches(10,10)\n",
    "x_ax = np.linspace(0,100000,100000)\n",
    "y = 2*x_ax\n",
    "ax.plot(x_ax,y)\n",
    "ax.set_xlabel('Lens Distance (pc)')\n",
    "ax.set_ylabel('Source Distance (pc)')\n",
    "ax.hlines(50000,0,100000,color='r')\n",
    "ax.vlines(25000,0,200000,color='g')"
   ]
  },
  {
   "cell_type": "code",
   "execution_count": null,
   "metadata": {
    "collapsed": false
   },
   "outputs": [],
   "source": [
    "\n",
    "\n",
    "      "
   ]
  },
  {
   "cell_type": "code",
   "execution_count": null,
   "metadata": {
    "collapsed": false
   },
   "outputs": [],
   "source": []
  },
  {
   "cell_type": "code",
   "execution_count": null,
   "metadata": {
    "collapsed": false
   },
   "outputs": [],
   "source": []
  },
  {
   "cell_type": "code",
   "execution_count": null,
   "metadata": {
    "collapsed": true
   },
   "outputs": [],
   "source": []
  }
 ],
 "metadata": {
  "anaconda-cloud": {},
  "kernelspec": {
   "display_name": "Python [Root]",
   "language": "python",
   "name": "Python [Root]"
  },
  "language_info": {
   "codemirror_mode": {
    "name": "ipython",
    "version": 3
   },
   "file_extension": ".py",
   "mimetype": "text/x-python",
   "name": "python",
   "nbconvert_exporter": "python",
   "pygments_lexer": "ipython3",
   "version": "3.5.2"
  }
 },
 "nbformat": 4,
 "nbformat_minor": 1
}
