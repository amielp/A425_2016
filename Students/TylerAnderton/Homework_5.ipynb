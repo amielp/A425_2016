{
 "cells": [
  {
   "cell_type": "markdown",
   "metadata": {},
   "source": [
    "#1\n",
    "\n",
    "In order to build a loitering universe, I used the parameters given in the text: $\\Omega_M = 0.3$, and $\\Omega_{\\Lambda}=1.7134$. $\\Omega_R$ was taken to be insignificantly small, and was assigned 0.0001 simply for inclusion's sake. \n",
    "\n",
    "The method for finding the scale factor in terms of time involved numerically solving the integral\n",
    "\n",
    "$\\int_0^a\\frac{da}{(\\Omega_{r,0}/a^2+\\Omega_{m,0}/a+\\Omega_{\\Lambda,0}a^2+(1-\\Omega_0))^{1/2}}=H_0t$\n",
    "\n",
    "for values of the scale factor ranging from zero to 2.5. The resulting figure shown below matches the one shown in the text, having the scale factor loiter around $a\\approx0.44$.\n"
   ]
  },
  {
   "cell_type": "code",
   "execution_count": 25,
   "metadata": {
    "collapsed": false
   },
   "outputs": [
    {
     "data": {
      "image/png": "[encoded data removed]",
      "text/plain": [
       "<matplotlib.figure.Figure at 0x10493b310>"
      ]
     },
     "metadata": {},
     "output_type": "display_data"
    }
   ],
   "source": [
    "%matplotlib inline\n",
    "\n",
    "import math\n",
    "import numpy as np\n",
    "import matplotlib.pyplot as plt\n",
    "from scipy import integrate\n",
    "\n",
    "#define parameters in SI units\n",
    "H0 = 2.27e-18\n",
    "c = 3.0e-8\n",
    "\n",
    "#define critical densities for loitering universe\n",
    "OmegaR = 0.0001\n",
    "OmegaM = 0.3\n",
    "OmegaL = 1.7134\n",
    "Omega0 = OmegaM + OmegaL + OmegaR\n",
    "\n",
    "#define integrand\n",
    "integrand = lambda A: (OmegaR/(A**2)+OmegaM/A+OmegaL*(A**2)+(1-Omega0))**(-0.5)\n",
    "\n",
    "#define t function\n",
    "def t(a):\n",
    "    return integrate.quad(integrand, 0, a)[0]/H0\n",
    "\n",
    "#define parameters for array dimensions\n",
    "aMax = 2.5\n",
    "N = 100*aMax +1\n",
    "\n",
    "#define scale factor array\n",
    "aArray = np.linspace(0, aMax, N, endpoint=True)\n",
    "\n",
    "#check scale factor array\n",
    "#print aArray\n",
    "\n",
    "#define time array for loitering universe\n",
    "timeLoiter = []\n",
    "\n",
    "#iterate through scale factor to find associated times\n",
    "for i,a in np.ndenumerate(aArray):\n",
    "    try:\n",
    "        timeLoiter.append(t(a)*3.17e-17)\n",
    "    except:\n",
    "        timeLoiter.append(0)\n",
    "        \n",
    "#check time array\n",
    "#print timeLoiter\n",
    "        \n",
    "#plot scale factor vs time\n",
    "plt.title('Scale Factor vs Time for Loitering Universe')\n",
    "plt.xlabel('Time in Gyr')\n",
    "plt.ylabel('Scale Factor')\n",
    "plt.plot(timeLoiter, aArray)\n",
    "plt.show()\n",
    "    \n",
    "\n"
   ]
  },
  {
   "cell_type": "markdown",
   "metadata": {},
   "source": [
    "The big crunch universe requires that $\\Omega_{\\Lambda}<0$. I attempted to solve the integral as above, but ran into issues at the point of maximum scale factor just before the universe started \"crunching.\" "
   ]
  },
  {
   "cell_type": "code",
   "execution_count": 6,
   "metadata": {
    "collapsed": false
   },
   "outputs": [
    {
     "ename": "NameError",
     "evalue": "name 'timeCrunch' is not defined",
     "output_type": "error",
     "traceback": [
      "\u001b[0;31m---------------------------------------------------------------------------\u001b[0m",
      "\u001b[0;31mNameError\u001b[0m                                 Traceback (most recent call last)",
      "\u001b[0;32m<ipython-input-6-019e70ee5840>\u001b[0m in \u001b[0;36m<module>\u001b[0;34m()\u001b[0m\n\u001b[1;32m     21\u001b[0m         \u001b[0mtimeCrunch\u001b[0m\u001b[0;34m.\u001b[0m\u001b[0mappend\u001b[0m\u001b[0;34m(\u001b[0m\u001b[0mt\u001b[0m\u001b[0;34m(\u001b[0m\u001b[0ma\u001b[0m\u001b[0;34m)\u001b[0m\u001b[0;34m*\u001b[0m\u001b[0;36m3.17e-17\u001b[0m\u001b[0;34m)\u001b[0m\u001b[0;34m\u001b[0m\u001b[0m\n\u001b[1;32m     22\u001b[0m     \u001b[0;32mexcept\u001b[0m\u001b[0;34m:\u001b[0m\u001b[0;34m\u001b[0m\u001b[0m\n\u001b[0;32m---> 23\u001b[0;31m         \u001b[0mtimeCrunch\u001b[0m\u001b[0;34m.\u001b[0m\u001b[0mappend\u001b[0m\u001b[0;34m(\u001b[0m\u001b[0;36m0\u001b[0m\u001b[0;34m)\u001b[0m\u001b[0;34m\u001b[0m\u001b[0m\n\u001b[0m\u001b[1;32m     24\u001b[0m \u001b[0;34m\u001b[0m\u001b[0m\n\u001b[1;32m     25\u001b[0m \u001b[0;31m#find time of max a\u001b[0m\u001b[0;34m\u001b[0m\u001b[0;34m\u001b[0m\u001b[0m\n",
      "\u001b[0;31mNameError\u001b[0m: name 'timeCrunch' is not defined"
     ]
    }
   ],
   "source": [
    "#redefine critical densities for Big Crunch universe\n",
    "OmegaR = 0.001\n",
    "OmegaM = 4.9\n",
    "OmegaL = -0.3\n",
    "Omega0 = OmegaM + OmegaL + OmegaR\n",
    "\n",
    "#define time array for crunch\n",
    "#timeCrunch = []\n",
    "\n",
    "#max scale factor in Big Crunch\n",
    "aCrunchMax = (OmegaM/(OmegaM-1))**(1./3.)\n",
    "#print aCrunchMax\n",
    "\n",
    "#time of crunch\n",
    "tCrunch = (np.pi*Omega0)/(H0*((Omega0-1)**(1.5)))*3.17e-17\n",
    "#print tCrunch/2\n",
    "\n",
    "#iterate through scale factor to find associated times\n",
    "for i,a in np.ndenumerate(aArray):\n",
    "    try:\n",
    "        timeCrunch.append(t(a)*3.17e-17)\n",
    "    except:\n",
    "        timeCrunch.append(0)\n",
    "        \n",
    "#find time of max a\n",
    "def aMaxIndex(timeCrunch):\n",
    "    for i,x in np.ndenumerate(timeCrunch):\n",
    "        if (i[0] > 0) & (x == 0):\n",
    "            return i[0]-1\n",
    "print aMaxIndex(timeCrunch)\n",
    "\n",
    "print timeCrunch[aMaxIndex(timeCrunch)]\n",
    "        \n",
    "#check time array\n",
    "#print timeCrunch\n",
    "        \n",
    "#plot scale factor vs time\n",
    "plt.title('Scale Factor vs Time for Big Crunch Universe')\n",
    "plt.xlabel('Time in Gyr')\n",
    "plt.ylabel('Scale Factor')\n",
    "plt.plot(timeCrunch[0:aMaxIndex(timeCrunch)], aArray[0:aMaxIndex(timeCrunch)])\n",
    "plt.show()"
   ]
  },
  {
   "cell_type": "markdown",
   "metadata": {},
   "source": [
    "My next attempt was to solve the differential equation $\\dot{a}=H_0(\\Omega_{r,0}/a^2+\\Omega_{m,0}/a+\\Omega_{\\Lambda,0}a^2+(1-\\Omega_0))^{1/2}$. Unfortunately I ran into a fatal error that caused my solutions for the scale factor to be either constant and equal to whatever initial value I plugged in, or nonreal. Unfortunately I have a final tomorrow, so I am unable to devote more time to troubleshooting this problem. "
   ]
  },
  {
   "cell_type": "code",
   "execution_count": 28,
   "metadata": {
    "collapsed": false
   },
   "outputs": [
    {
     "name": "stdout",
     "output_type": "stream",
     "text": [
      "[  0.00000000e+00   1.00000000e-02   2.00000000e-02 ...,   4.99980000e+02\n",
      "   4.99990000e+02   5.00000000e+02]\n",
      "[[ 1.0000001]\n",
      " [ 1.0000001]\n",
      " [ 1.0000001]\n",
      " ..., \n",
      " [ 1.0000001]\n",
      " [ 1.0000001]\n",
      " [ 1.0000001]]\n"
     ]
    },
    {
     "data": {
      "image/png": "[encoded data removed]",
      "text/plain": [
       "<matplotlib.figure.Figure at 0x104ee9610>"
      ]
     },
     "metadata": {},
     "output_type": "display_data"
    }
   ],
   "source": [
    "#redefine critical densities for Big Crunch universe\n",
    "OmegaR = 0.0001\n",
    "OmegaM = 4.9\n",
    "OmegaL = -0.3\n",
    "Omega0 = OmegaM + OmegaL + OmegaR\n",
    "\n",
    "#time of crunch\n",
    "#tCrunch = (np.pi*Omega0)/(H0*((Omega0-1)**(1.5)))*3.17e-17\n",
    "tCrunch = 500\n",
    "#print tCrunch/2\n",
    "\n",
    "#define time array containing values for which to solve\n",
    "timeCrunch1 = np.linspace(0, tCrunch, 100*tCrunch + 1, endpoint=True)\n",
    "print timeCrunch1\n",
    "\n",
    "#define aDot\n",
    "def aDot(A, timeCrunch1): \n",
    "    return H0*((OmegaR/(A**2)+OmegaM/A+OmegaL*(A**2)+(1-Omega0))**(0.5))\n",
    "\n",
    "#define scale factor array\n",
    "scale = integrate.odeint(aDot, 1.0000001, timeCrunch1)\n",
    "\n",
    "print scale\n",
    "\n",
    "#plot\n",
    "plt.plot(timeCrunch1, scale)\n",
    "plt.show()"
   ]
  },
  {
   "cell_type": "markdown",
   "metadata": {},
   "source": [
    "#2\n",
    "\n",
    "If we take a spherical isothermal galaxy cluster to be our graviationally lensing object and place it at distances $D_l$ away from the observer and $D_{ls}$ from the object being lensed, for a total distance from observer to source of $D_s$, and if the actual angle from the center of the lens to the object from the observer's view is $\\beta$, then the angle at which the object is observed will be $\\theta=\\beta+\\alpha$ where $\\alpha$ is the increase in angular position. We are interested in objects that produce Einstein rings at $\\theta=\\theta_E=(\\frac{4GM}{c^2}\\frac{D_{ls}}{D_lD_s})^{1/2}$, so we want to consider the lensing effects from all massive objects in the sphere spanning the Einstein radius. In doing so we want to show that the velocity dispersion of the lensing galaxies $\\sigma_v\\approx10^3\\frac{km}{s}(\\frac{\\theta}{28\"}\\frac{D_s}{D_{ls}})^{1/2}$. In other words we want to show that $\\sigma_v\\approx10^3\\frac{km}{s}$ when $D_s\\approx2D_{ls}$ and $\\theta\\approx14\"=7$ $10^{-5}$rad. Using the small angle approximation, we can say that the radius of this sphere is $R\\approx\\theta{D_l}$. We find the mass within this sphere by first considering the mass density of an isothermal sphere $\\rho=\\frac{\\sigma_v^2}{2{\\pi}Gr^2}$. From this the surface mass of a plane perpendicular to the line of sight of the observer is $\\Sigma(R)=\\frac{\\sigma_v^2}{2GR}$. Integrating over the entire sphere yields a total mass of $M(R)=\\frac{{\\pi}\\sigma_v^2R}{G}$. This gives us a deflection angle of $\\alpha=4\\pi\\frac{\\sigma_V^2}{c^2}\\frac{D_{ls}}{D_s}$. Since we are interested only in objects that create Einstein rings, they are directly behind our lens and $\\beta=0$. It then follows that\n",
    "\n",
    "$\\alpha=\\theta$\n",
    "\n",
    "$4\\pi\\frac{\\sigma_V^2}{c^2}\\frac{D_{ls}}{D_s}=(\\frac{4GM}{c^2}\\frac{D_{ls}}{D_lD_s})^{1/2}$\n",
    "\n",
    "$4\\pi\\frac{\\sigma_v^4}{c^2}\\frac{D_{ls}}{D_s}=\\frac{GM}{D_l}$\n",
    "\n",
    "Substituting in our expression for $M(R)$ and our conditions that $D_s\\approx2D_{ls}\\approx2D_l$ and $\\frac{R}{D_l}=\\theta\\approx7$ $10^{-5}$rad gives\n",
    "\n",
    "$4\\frac{\\sigma_v^2}{c^2}\\frac{D_l}{2D_l}=\\frac{R}{D_l}$\n",
    "\n",
    "$2\\frac{\\sigma_v^2}{c^2}=\\theta$\n",
    "\n",
    "$\\sigma_v=\\sqrt{\\frac{\\theta}{2}}c\\approx10^3\\frac{km}{s}$"
   ]
  },
  {
   "cell_type": "code",
   "execution_count": null,
   "metadata": {
    "collapsed": true
   },
   "outputs": [],
   "source": []
  }
 ],
 "metadata": {
  "kernelspec": {
   "display_name": "Python 2",
   "language": "python",
   "name": "python2"
  },
  "language_info": {
   "codemirror_mode": {
    "name": "ipython",
    "version": 2
   },
   "file_extension": ".py",
   "mimetype": "text/x-python",
   "name": "python",
   "nbconvert_exporter": "python",
   "pygments_lexer": "ipython2",
   "version": "2.7.10"
  }
 },
 "nbformat": 4,
 "nbformat_minor": 0
}
