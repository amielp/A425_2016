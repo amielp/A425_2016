{
 "cells": [
  {
   "cell_type": "markdown",
   "metadata": {},
   "source": [
    "Jane McNicoll\n",
    "\n",
    "Homework 2\n",
    "\n",
    "For most problems in this assignment I explained my work and gave answers first, and then provided the python code I used to reach those answers below. "
   ]
  },
  {
   "cell_type": "code",
   "execution_count": 1,
   "metadata": {
    "collapsed": false
   },
   "outputs": [],
   "source": [
    "%matplotlib inline\n",
    "\n",
    "import numpy as np\n",
    "import matplotlib.pyplot as plt\n",
    "from scipy.integrate import odeint"
   ]
  },
  {
   "cell_type": "markdown",
   "metadata": {},
   "source": [
    "Q1. If we lived in a Olberian universe calculate the distance at which any random line-of-sight will intersect the surface of a star (this is referred to as the point at which the optical depth of uniformly distributed stars is unity). \n",
    "Assume all the stars have the same luminosity as the Sun, the average number\n",
    "density of stars is 10e9 Mpc^-3, and the radius of the stars is 7e8m."
   ]
  },
  {
   "cell_type": "markdown",
   "metadata": {},
   "source": [
    "There is a very easy way to solve this problem, by simply taking the cross \n",
    "section of a star by using the formula \n",
    "$a = \\pi R^{2}$\n",
    "and converting it to Mpc^2. Then I calculated the mean free path of the photons using the formula \n",
    "$mfp = \\frac{1}{n a}$\n",
    "This gives the distance at which any random line-of-sight will intersect the surface of a star, 6.18e17 Mpc."
   ]
  },
  {
   "cell_type": "code",
   "execution_count": 2,
   "metadata": {
    "collapsed": false
   },
   "outputs": [
    {
     "name": "stdout",
     "output_type": "stream",
     "text": [
      "The cross section of a single star is 1.616811234392026e-27 Mpc^2\n",
      "The distance at which any random line-of-sight will intersect the surface of a star is 6.185013925735324e+17 Mpc.\n"
     ]
    }
   ],
   "source": [
    "r = 700000000.0\n",
    "def crosssection(radius):\n",
    "    meters = (np.pi)*(radius)**2\n",
    "    return meters*1.0503e-45\n",
    "print(\"The cross section of a single star is\", crosssection(r), \"Mpc^2\")\n",
    "a = crosssection(r) \n",
    "def meanfreepath(area):\n",
    "    n= 1000000000.0\n",
    "    d = 1.0/n/area\n",
    "    return d\n",
    "print(\"The distance at which any random line-of-sight will intersect the surface of a star is\", meanfreepath(a), \"Mpc.\")\n"
   ]
  },
  {
   "cell_type": "markdown",
   "metadata": {},
   "source": [
    "Q2. When Edwin Hubble measured the expansion rate of the universe he derived a\n",
    "Hubble’s constant of $500 km s^{-1} Mpc^{-1}$. To get this value of $H_o$ how incorrect were\n",
    "his estimates of the distances to Cepheid stars. How does his value of the\n",
    "universe change the age of the universe and would we need to live in an\n",
    "accelerating or decelerating universe in order to reconcile the Hubble time with\n",
    "the current age of the universe (13.7 Gyr)."
   ]
  },
  {
   "cell_type": "markdown",
   "metadata": {},
   "source": [
    "$H_{0, hubble}= 500 km s^{-1} Mpc^{-1}$\n",
    "\n",
    "$H_{0, actual}= 70 km s^{-1} Mpc^{-1}$\n",
    "\n",
    "In order to know how incorrect the Cepeid distances Hubble measured were, we have to know how far off $H_{0, hubble}$ was from $H_{0, actual}$ and how the Hubble constant affects distance calculations. \n",
    "For the first part I used a simple percent-error equation to find how far off $H_{0, hubble}$ was from $H_{0, actual}$ and found that $H_{0, hubble}$ was off from $H_{0, actual}$ by a factor of 6.14. \n",
    "Then I looked at how the constant affected calculated distances. Since $v = H_{0}d$ we can see that there is a linear relationship between $d$ and $H_{0}$. That means that Hubble's Cepheid distance is off of the actual distance by the same factor as $H_{0, hubble}$ is off from $H_{0, actual}$, which is 6.14. "
   ]
  },
  {
   "cell_type": "code",
   "execution_count": 3,
   "metadata": {
    "collapsed": false
   },
   "outputs": [
    {
     "name": "stdout",
     "output_type": "stream",
     "text": [
      "The constant that Hubble measured was off from the actual constant by a factor of 6.14\n"
     ]
    }
   ],
   "source": [
    "def percenterror(measured, actual):\n",
    "    error = (measured - actual)/actual\n",
    "    return format(error, '.2f')\n",
    "print(\"The constant that Hubble measured was off from the actual constant by a factor of\", percenterror(500,70))"
   ]
  },
  {
   "cell_type": "markdown",
   "metadata": {},
   "source": [
    "Using $H_{0, hubble}$ to find the age of the universe gives you an age of 1.96 Gyrs, which is pretty far off from the actual age of the universe as we know it today, which is 13.9 Gyrs. Hubble's estimate was far too low, which tells us that the rate of expansion during Hubble's time must have been less than the rate of expansion today, meaning we must live in an accelerating universe."
   ]
  },
  {
   "cell_type": "code",
   "execution_count": 4,
   "metadata": {
    "collapsed": false
   },
   "outputs": [
    {
     "name": "stdout",
     "output_type": "stream",
     "text": [
      "Using Hubble's original constant gives us 1.9567906191770805 Gyrs as the age of the universe.\n",
      "The correct constant gives us 13.97707585126486 as the age of the universe.\n"
     ]
    }
   ],
   "source": [
    "mpc2km = 3.241e-20\n",
    "def age(H):\n",
    "    units = 60*60*24*365*1e9\n",
    "    a = 1.0/(H*mpc2km)/(units)\n",
    "    return a\n",
    "print(\"Using Hubble's original constant gives us\", age(500), \"Gyrs as the age of the universe.\")\n",
    "print(\"The correct constant gives us\", age(70), \"as the age of the universe.\")\n",
    "    "
   ]
  },
  {
   "cell_type": "markdown",
   "metadata": {},
   "source": [
    "Q3. Suppose you are a two-dimensional being living on the surface of a sphere with radius R. An object of width ds << R is at a distance r from you (remember, all distances are measured on the surface of the sphere). What angular width dθ will you measure for the object?\n",
    "\n",
    "Explain the behavior of dθ as r → πR."
   ]
  },
  {
   "cell_type": "markdown",
   "metadata": {
    "collapsed": false
   },
   "source": [
    "First I used the metric for a polar coordinate system: \n",
    "$ds^{2} = dr^{2} + R^{2}sin^2({r/R})d\\theta$\n",
    "and visualized either side of the object with width $ds$ at the coordinates $(r, \\theta)$ and $(r+dr, \\theta+d\\theta)$.\n",
    "Since this is an arbitrary coordinate system I can set these points to be wherever I want, so to make things easy I set it so that $dr=0$. If $dr=0$ I can plug that into the metric and get that $ds^2 = R^{2}sin^2({r/R})d\\theta$. If I solve this equation for angular distance I get $d\\theta = \\frac{ds}{R sin(r/R)}$. \n",
    "\n",
    "As r → πR,  dθ gets larger and then smaller (specifically larger as r → πR/2 and smaller after r > πR/2), which makes sense because I am on the surface of a sphere, and any two lines that originate from me will meet back together on the opposite side of the sphere as me, meaning as r → πR/2 they will diverge and dθ will get larger, and after r → πR/2 they will converge and dθ will get smaller agian. "
   ]
  },
  {
   "cell_type": "markdown",
   "metadata": {
    "collapsed": false
   },
   "source": [
    "Q4. Using Python solve the following equation numerically and plot a(t) vs t. \n",
    "\n",
    "$\\dot{a}^2 = H_{0}^2 a^{-3}$\n",
    "\n",
    "Solve the integration algebraically and overlay the solution on your plot"
   ]
  },
  {
   "cell_type": "markdown",
   "metadata": {
    "collapsed": true
   },
   "source": [
    "Solving algebraically:\n",
    "If I rearrange the given differential equation I get \n",
    "$\\frac{da}{dt} = H_0 a^{-\\frac{3}{2}}$.\n",
    "If I integrate both sides with respect to $t$ I then have $a = {(\\frac{5}{2}H_0t})^\\frac{2}{5}$"
   ]
  },
  {
   "cell_type": "code",
   "execution_count": 8,
   "metadata": {
    "collapsed": false
   },
   "outputs": [
    {
     "data": {
      "image/png": "[encoded data removed]",
      "text/plain": [
       "<matplotlib.figure.Figure at 0x14d1ecd7438>"
      ]
     },
     "metadata": {},
     "output_type": "display_data"
    }
   ],
   "source": [
    "H_0 = 70\n",
    "##algebraic solve\n",
    "def algebraic(t):\n",
    "    d1 = ((5.0/2.0)*(H_0)*t)**(2.0/5.0)\n",
    "    return d1\n",
    "\n",
    "##numerical solve\n",
    "t_range = np.linspace(0, 100000000, 10000000)\n",
    "def numerical(a,t):\n",
    "    d2 = (H_0/a**(1.5))\n",
    "    return d2\n",
    "\n",
    "numericalsolve = odeint(numerical, 1, t_range)\n",
    "\n",
    "plt.plot(t_range, algebraic(t_range))\n",
    "plt.plot(t_range, numericalsolve)\n",
    "plt.xlabel(\"Time (s)\")\n",
    "plt.ylabel(\"Scale Factor (km/Mpc)\")\n",
    "plt.title(\"Evolution of the Scale Factor over Time\")\n",
    "\n",
    "plt.show()\n"
   ]
  },
  {
   "cell_type": "markdown",
   "metadata": {},
   "source": [
    "You can't really tell that the two plots are on the same graph because they overalp, so just to show that I have both of them I have plotted them separately below"
   ]
  },
  {
   "cell_type": "code",
   "execution_count": 13,
   "metadata": {
    "collapsed": false
   },
   "outputs": [
    {
     "data": {
      "image/png": "[encoded data removed]",
      "text/plain": [
       "<matplotlib.figure.Figure at 0x14d09a7deb8>"
      ]
     },
     "metadata": {},
     "output_type": "display_data"
    }
   ],
   "source": [
    "fig, ax = plt.subplots(2,1)\n",
    "fig.set_size_inches(5,5) \n",
    "\n",
    "\n",
    "ax[0].plot(t_range, algebraic(t_range), color='c')\n",
    "ax[0].set_xlabel(\"Time (s)\")\n",
    "ax[0].set_ylabel(\"Scale Factor (km/Mpc)\")\n",
    "ax[0].set_title(\"Algebraic Solve\")\n",
    "\n",
    "\n",
    "ax[1].plot(t_range, numericalsolve, color='y')\n",
    "ax[1].set_xlabel(\"Time (s)\")\n",
    "ax[1].set_ylabel(\"Scale Factor (km/Mpc)\")\n",
    "ax[1].set_title(\"Numerical Solve\");"
   ]
  },
  {
   "cell_type": "code",
   "execution_count": null,
   "metadata": {
    "collapsed": true
   },
   "outputs": [],
   "source": []
  }
 ],
 "metadata": {
  "anaconda-cloud": {},
  "kernelspec": {
   "display_name": "Python [Root]",
   "language": "python",
   "name": "Python [Root]"
  },
  "language_info": {
   "codemirror_mode": {
    "name": "ipython",
    "version": 3
   },
   "file_extension": ".py",
   "mimetype": "text/x-python",
   "name": "python",
   "nbconvert_exporter": "python",
   "pygments_lexer": "ipython3",
   "version": "3.5.2"
  }
 },
 "nbformat": 4,
 "nbformat_minor": 0
}
