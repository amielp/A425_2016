{
 "cells": [
  {
   "cell_type": "code",
   "execution_count": 145,
   "metadata": {
    "collapsed": true
   },
   "outputs": [],
   "source": [
    "%matplotlib inline\n",
    "import numpy as np\n",
    "import matplotlib.pyplot as plt\n",
    "from scipy.integrate import quad"
   ]
  },
  {
   "cell_type": "markdown",
   "metadata": {},
   "source": [
    "Jane McNicoll\n",
    "\n",
    "Homework 3"
   ]
  },
  {
   "cell_type": "markdown",
   "metadata": {},
   "source": [
    "__Question 1__"
   ]
  },
  {
   "cell_type": "markdown",
   "metadata": {},
   "source": [
    "*Show that the equation *\n",
    "\n",
    "$\\dot{\\varepsilon(t)}+ \\frac{3\\dot{a(t)}}{a(t)}(\\varepsilon + P)$\n",
    "\n",
    "*can be derived from *\n",
    "\n",
    "$\\frac{\\ddot{a}(t)}{a(t)}= \\frac{-4\\pi G }{3c^{2}} [\\varepsilon(t)a(t) - 3P(t)]$\n",
    "*and *\n",
    "$(\\frac{\\dot{a}(t)}{a(t)})^2 = \\frac{8\\pi G \\varepsilon(t)}{3c^2} - \\frac{kc^2}{a(t)^2}$"
   ]
  },
  {
   "cell_type": "markdown",
   "metadata": {},
   "source": [
    "If I do \n",
    "$\\frac{d}{dt} (\\frac{\\dot{a}(t)}{a(t)})^2 = \\frac{d}{dt} (\\frac{8\\pi G \\varepsilon(t)}{3c^2} - \\frac{kc^2}{a(t)^2})$\n",
    "\n",
    "I get \n",
    "\n",
    "$\\ddot{a}(t) = \\frac{4\\pi G \\ \\dot{\\varepsilon}(t)\\ a(t)^{2}}{3c^2\\ \\dot{a}(t)} + \\frac{8\\pi G \\ \\varepsilon(t)\\ a(t)}{3c^{2}}$\n",
    "\n",
    "and I can move $a(t)$ to the other side of the first equation so I can equate the two.  This gives me\n",
    "\n",
    "$\\frac{4\\pi G \\ \\dot{\\varepsilon}(t)\\ a(t)^{2}}{3c^2\\ \\dot{a}(t)} + \\frac{8\\pi G \\ \\varepsilon(t)\\ a(t)}{3c^{2}} = \\frac{-4\\pi G a(t)}{3c^{2}} [\\varepsilon(t)a(t) - 3P(t)]$\n",
    "\n",
    "Right away we can see that terms cancel, such as $\\frac{4\\pi G}{3c^2}$ and an $a(t)$. Then we are left with\n",
    "\n",
    "$\\frac{\\dot{\\varepsilon(t)}a(t)}{\\dot{a(t)}} + \\varepsilon(t) = a(t)\\varepsilon(t) + 3P(t)$\n",
    "\n",
    "If I subtract the right side of the equation from the left and simplify this it gives me\n",
    "\n",
    "$\\frac{\\dot{\\varepsilon(t)}a(t)}{\\dot{a(t)}} +3\\varepsilon(t) + 3P = 0$\n",
    "\n",
    "then all I have to do is multiply the whole thing by $\\frac{\\dot{a(t)}}{a(t)}$ and I get \n",
    "\n",
    "$\\dot{\\varepsilon(t)}+ \\frac{3\\dot{a(t)}}{a(t)}(\\varepsilon + P)$\n",
    "\n"
   ]
  },
  {
   "cell_type": "markdown",
   "metadata": {},
   "source": [
    "__Question 2__"
   ]
  },
  {
   "cell_type": "markdown",
   "metadata": {},
   "source": [
    "*Using your understanding of how to integrate, write a program that integrates the Friedman equation. Using this program, calculate and plot (a) the comoving distance from z=0 to 10 (b) the age of the universe (at a given redshift) from z=0 to z=10.*"
   ]
  },
  {
   "cell_type": "markdown",
   "metadata": {},
   "source": [
    "*Solve for two cases, (I) a flat universe with $\\Omega_{m,0}=0.3$, $\\Omega_{r,0}=0$, and $\\Omega_{\\Lambda,0}=0.7$ and (II) a closed universe with $\\Omega_{m,0}=1.0$, $\\Omega_{r,0}=0$, and $\\Omega_{\\Lambda,0}=0.7$*"
   ]
  },
  {
   "cell_type": "markdown",
   "metadata": {},
   "source": [
    "First, I start with the equation \n",
    "$(\\frac{H(z)}{H_0})^2 = \\Omega_{r,0}(1+z)^4 + \\Omega_{m,0}(1+z)^3 + \\Omega_{\\Lambda,0} + (1-\\Omega_0)(1+z)^2$ and isolate $H(z)$:\n",
    "$H(z) = {H_0}\\sqrt{\\Omega_{r,0}(1+z)^4 + \\Omega_{m,0}(1+z)^3 + \\Omega_{\\Lambda,0} + (1-\\Omega_0)(1+z)^2}$\n",
    "\n",
    "\n",
    "The comoving distance can be found using the equation\n",
    "\n",
    "$s =  \\int_0^z \\frac{c}{H(z)}dz$\n",
    "\n",
    "and the age can be found using the equation \n",
    "\n",
    "$t = \\int_0^z \\frac{1}{(1+z)(H(z))}dz$\n",
    "\n",
    "now i just have to actually solve these using code...\\**sigh*\\*..."
   ]
  },
  {
   "cell_type": "code",
   "execution_count": 146,
   "metadata": {
    "collapsed": false
   },
   "outputs": [
    {
     "data": {
      "image/png": "[encoded data removed]",
      "text/plain": [
       "<matplotlib.figure.Figure at 0x1934012f6d8>"
      ]
     },
     "metadata": {},
     "output_type": "display_data"
    }
   ],
   "source": [
    "H_0 = 70.0\n",
    "c = 3.0e8\n",
    "z= np.linspace(0,10,100)\n",
    "\n",
    "\n",
    "def dist(H_0, Omega_r, Omega_m, Omega_l, z):\n",
    "    Omega_0 = 1\n",
    "    return c/((H_0*(3.241e-20))*np.sqrt(Omega_r*(1.0+z)**4.0 + Omega_m*(1.0+z)**3.0 + Omega_l + (1-Omega_0)*(1+z)**2.0))\n",
    "\n",
    "flat = lambda z: dist(H_0, 0.0,0.3, 0.7, z)\n",
    "closed = lambda z: dist(H_0, 0.0, 0.1, 0.0, z)\n",
    "flat_dist = np.array([])\n",
    "closed_dist = np.array([])\n",
    "\n",
    "for redshift in z:\n",
    "    ans = quad(flat, 0, redshift)\n",
    "    flat_dist = np.append(flat_dist, ans[0])\n",
    "    ans = quad(closed, 0, redshift)\n",
    "    closed_dist = np.append(closed_dist, ans[0])\n",
    "\n",
    "\n",
    "plt.plot(z, flat_dist*3.24e-23, label = \"Flat Universe\")\n",
    "plt.plot(z, closed_dist*3.24e-23, label = \"Closed Universe\")\n",
    "plt.xlabel(\"Z\")    \n",
    "plt.ylabel(\"Comoving Distance (Mpc)\")\n",
    "plt.legend(loc=\"upper left\")\n",
    "plt.title(\"Comoving Distance for Varying Redshift\")\n",
    "plt.show()"
   ]
  },
  {
   "cell_type": "code",
   "execution_count": 147,
   "metadata": {
    "collapsed": false
   },
   "outputs": [
    {
     "data": {
      "image/png": "[encoded data removed]",
      "text/plain": [
       "<matplotlib.figure.Figure at 0x19340fd3f60>"
      ]
     },
     "metadata": {},
     "output_type": "display_data"
    }
   ],
   "source": [
    "def age(H_0, Omega_r, Omega_m, Omega_l, z):\n",
    "    Omega_0 = 1\n",
    "    return 1/((H_0*(1.022e-3))*np.sqrt(Omega_r*(1.0+z)**4.0 + Omega_m*(1.0+z)**3.0 + Omega_l + (1-Omega_0)*(1+z)**2.0))/(1+z)\n",
    "\n",
    "flat_t = lambda z: age(H_0, 0.0,0.3, 0.7, z)\n",
    "closed_t = lambda z: age(H_0, 0.0, 0.1, 0.0, z)\n",
    "flat_age = np.array([])\n",
    "closed_age = np.array([])\n",
    "\n",
    "for redshift in z:\n",
    "    ans = quad(flat_t, 0, redshift)\n",
    "    flat_age = np.append(flat_age, ans[0])\n",
    "    ans = quad(closed_t, 0, redshift)\n",
    "    closed_age = np.append(closed_age, ans[0])\n",
    "    \n",
    "plt.plot(z, flat_age, label = \"Flat Universe\")\n",
    "plt.plot(z, closed_age, label = \"Closed Universe\")\n",
    "plt.xlabel(\"Z\")    \n",
    "plt.ylabel(\"Age (Gyr)\")\n",
    "plt.legend(loc=\"lower right\")\n",
    "plt.title(\"Age of the Universe for Varying Redshift\")\n",
    "plt.show()\n"
   ]
  },
  {
   "cell_type": "markdown",
   "metadata": {},
   "source": [
    "__Question 2__"
   ]
  },
  {
   "cell_type": "markdown",
   "metadata": {},
   "source": [
    "Now I just have to solve two equations essentially. I have to solve for the age of the benchmark universe, with parameters $\\Omega_{m,0}=0.3$, $\\Omega_{r,0}=0$, and $\\Omega_{\\Lambda,0}=0.7$ and solve for the $\\Omega_{r,0}$ of a radiation-only universe of the same age. In order to maintain some form of sanity I rounded these ages so that I could more easily find the $\\Omega_{r,0}$ value that got me to that age. Because of this, at the bottom of my code you will see a number of possible answers for $\\Omega_{r,0}$ that vary slightly (from 0.00124 to 0.00128). Essentially the value for $\\Omega_{r,0}$ we are looking for is ~0.001246."
   ]
  },
  {
   "cell_type": "code",
   "execution_count": 149,
   "metadata": {
    "collapsed": false
   },
   "outputs": [
    {
     "name": "stdout",
     "output_type": "stream",
     "text": [
      "The age of the benchmark universe is 13.48 Gyrs\n",
      "Any of the following values for Omega_r would give us the same age as the benchmark universe:\n",
      "0.00124001240012\n",
      "0.00125001250013\n",
      "0.00126001260013\n",
      "0.00127001270013\n",
      "0.00128001280013\n"
     ]
    }
   ],
   "source": [
    "def age(H_0, Omega_r, Omega_m, Omega_l, Omega_0, z):\n",
    "    return 1/((H_0*(1.022e-3))*np.sqrt(Omega_r*(1.0+z)**4.0 + Omega_m*(1.0+z)**3.0 + Omega_l + (1-Omega_0)*(1+z)**2.0))/(1+z)\n",
    "\n",
    "age1 = quad(lambda z: age(H_0, 0.0, 0.3, 0.7, 1, z), 0, 1000)\n",
    "age_of_benchmark_universe =  age1[0]  \n",
    "x = \"%.2f\" % age_of_benchmark_universe\n",
    "print('The age of the benchmark universe is', x, 'Gyrs' )\n",
    "\n",
    "def radiationage(H_0, Omega_r, z):\n",
    "    return 1/(((H_0)*(1.022e-3)*np.sqrt(Omega_r*(1.0+z)**4.0+ (1-Omega_r)*(1+z)**2.0))*(1+z))\n",
    "\n",
    "n = np.linspace(0,1,100000)\n",
    "print(\"Any of the following values for Omega_r would give us the same age as the benchmark universe:\")\n",
    "for Omega_r in n:\n",
    "    age2 = quad(lambda z: radiationage(H_0, Omega_r, z), 0, 100)\n",
    "    y = '%.2f' % age2[0]\n",
    "    #print(y)\n",
    "    if y ==  x:\n",
    "        print(Omega_r)\n"
   ]
  },
  {
   "cell_type": "code",
   "execution_count": null,
   "metadata": {
    "collapsed": false
   },
   "outputs": [],
   "source": []
  },
  {
   "cell_type": "code",
   "execution_count": null,
   "metadata": {
    "collapsed": true
   },
   "outputs": [],
   "source": []
  }
 ],
 "metadata": {
  "kernelspec": {
   "display_name": "Python [Root]",
   "language": "python",
   "name": "Python [Root]"
  },
  "language_info": {
   "codemirror_mode": {
    "name": "ipython",
    "version": 3
   },
   "file_extension": ".py",
   "mimetype": "text/x-python",
   "name": "python",
   "nbconvert_exporter": "python",
   "pygments_lexer": "ipython3",
   "version": "3.5.2"
  }
 },
 "nbformat": 4,
 "nbformat_minor": 0
}
