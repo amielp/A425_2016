{
 "cells": [
  {
   "cell_type": "code",
   "execution_count": 57,
   "metadata": {
    "collapsed": false
   },
   "outputs": [
    {
     "name": "stdout",
     "output_type": "stream",
     "text": [
      "0 0\n"
     ]
    }
   ],
   "source": [
    "from PIL import Image\n",
    "hst_img = Image.open(\"hs-2006-17-c-full_jpg (1).jpg\")\n",
    "pix = hst_img.load()\n",
    "\n",
    "obs_img = Image.new( 'RGB', (1700,1700), \"black\") # create a new black image\n",
    "obs = obs_img.load() # create the pixel map\n",
    "\n",
    "for x_test in range(0 , 1700):    # testing obs pixels\n",
    "    for y_test in range(0 , 1700):\n",
    "        x_rel = (x_test - 850)      # coordinates are relative to center (250 , 250)\n",
    "        y_rel = (y_test - 850)\n",
    "        \n",
    "        T = ((x_rel)**2 + (y_rel)**2) ** 0.5   # lens function\n",
    "        if T == 0:\n",
    "            print(x_rel , y_rel)\n",
    "            break\n",
    "        B = abs(T - (30000/T))       #50000 is convinient Einstein Radius for the display\n",
    "        dist = (B/T)     # dist: is ratio describing the particles change in distance from the center (250 , 250)\n",
    "        pix_x = int(850 + (x_rel * dist))\n",
    "        pix_y = int(850 + (y_rel * dist))\n",
    "        if pix_x > 1699 or pix_x < 1:\n",
    "            pix_x = 1\n",
    "        if pix_y > 1699 or pix_y < 1:\n",
    "            pix_y = 1\n",
    "        rgb_val = pix[pix_x , pix_y]        #checks if lensed pixel operated upon by \"dist\" produces a source image pixel\n",
    "        obs[x_test , y_test] = rgb_val   # blue\n",
    "\n",
    "\n",
    "\n",
    "obs_img.show()\n",
    "obs_img.close()\n",
    "\n",
    "# produces 2 pictures. First is the source image along with the lensed image and the second is just the lensed image. \n",
    "# Source image is white"
   ]
  }
 ],
 "metadata": {
  "anaconda-cloud": {},
  "kernelspec": {
   "display_name": "Python [conda root]",
   "language": "python",
   "name": "conda-root-py"
  },
  "language_info": {
   "codemirror_mode": {
    "name": "ipython",
    "version": 3
   },
   "file_extension": ".py",
   "mimetype": "text/x-python",
   "name": "python",
   "nbconvert_exporter": "python",
   "pygments_lexer": "ipython3",
   "version": "3.5.2"
  }
 },
 "nbformat": 4,
 "nbformat_minor": 1
}
