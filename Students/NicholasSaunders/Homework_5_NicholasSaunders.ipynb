{
 "cells": [
  {
   "cell_type": "markdown",
   "metadata": {},
   "source": [
    "# **Nicholas Saunders**\n",
    "\n",
    "**Astronomy 425: Cosmology**  \n",
    "**Homework 5**"
   ]
  },
  {
   "cell_type": "code",
   "execution_count": 1,
   "metadata": {
    "collapsed": false
   },
   "outputs": [],
   "source": [
    "import matplotlib.pyplot as pl\n",
    "import numpy as np\n",
    "from scipy.integrate import odeint\n",
    "import astropy.units as u\n",
    "\n",
    "%matplotlib inline"
   ]
  },
  {
   "cell_type": "code",
   "execution_count": 2,
   "metadata": {
    "collapsed": false
   },
   "outputs": [],
   "source": [
    "H0 = 70 * u.km / u.second / u.megaparsec # hubble constant in km/s/Mpc\n",
    "H0Gyr = H0.to(1/u.gigayear).value  # hubble constant in Gyr^-1\n",
    "c = 3e8  # speed of light in m/s"
   ]
  },
  {
   "cell_type": "markdown",
   "metadata": {},
   "source": [
    "**Problem 1**"
   ]
  },
  {
   "cell_type": "markdown",
   "metadata": {},
   "source": [
    "Starting with the Friedmann Equation:\n",
    "\n",
    "$$\\frac{H(t)^2}{H_0^2} = \\Omega_{r,0} a^{-4} + \\Omega_{m,0} a^{-3} + \\Omega_{\\Lambda,0} + (1 - \\Omega_0)a^{-2} $$\n",
    "\n",
    "we can make the substitution $H(t)=\\frac{\\dot{a}}{a}$, and solve for $\\dot{a}$ to get\n",
    "\n",
    "$$\\dot{a}=H_0a \\sqrt{\\Omega_{r,0}a^{-4}+\\Omega_{m,0}a^{-3}+\\Omega_{\\Lambda,0}+(1-\\Omega_0)a^{-2}}.$$"
   ]
  },
  {
   "cell_type": "code",
   "execution_count": 3,
   "metadata": {
    "collapsed": false
   },
   "outputs": [
    {
     "name": "stderr",
     "output_type": "stream",
     "text": [
      "//anaconda/lib/python3.5/site-packages/ipykernel/__main__.py:11: RuntimeWarning: invalid value encountered in sqrt\n"
     ]
    },
    {
     "data": {
      "image/png": "[encoded data removed]",
      "text/plain": [
       "<matplotlib.figure.Figure at 0x10d872fd0>"
      ]
     },
     "metadata": {},
     "output_type": "display_data"
    }
   ],
   "source": [
    "fig, ax = pl.subplots(1,2)\n",
    "fig.set_size_inches(16, 4);\n",
    "\n",
    "args1 = .3 , 7., 0.\n",
    "args2 = 2., .7, 0.4\n",
    "args3 = 0.3, 0.8, -0.1\n",
    "\n",
    "def adot(a,t,Or,Om,OL):\n",
    "    Oo = Or + Om + OL\n",
    "    try:\n",
    "        return H0Gyr* a * np.sqrt(Or * a**(-4.) + Om * a**(-3.) + OL + (1. - Oo)*a**(-2.))\n",
    "    except:\n",
    "        return np.nan\n",
    "\n",
    "a0 = 1.e-10 # nonzero value very close to zero\n",
    "t = np.linspace(0,60,100)\n",
    "\n",
    "a_num1 = odeint(adot,a0,t,args=args1)\n",
    "a_num2 = odeint(adot,a0,t,args=args2)\n",
    "a_num3 = odeint(adot,a0,t,args=args3)\n",
    "a_num3a = [a[0] for a in a_num3]\n",
    "\n",
    "# create fit to continue plot of \"Big Crunch\" universe\n",
    "z = np.polyfit(t[:35], a_num3a[:35], 2)\n",
    "f = np.poly1d(z)\n",
    "result = f(t)\n",
    "\n",
    "# plot results\n",
    "ax[0].plot(t,a_num2,'k--');\n",
    "ax[0].set_title('Loitering Universe');\n",
    "ax[0].set_xlabel('t (Gyr)');\n",
    "ax[0].set_ylabel('Scale Factor (a)');\n",
    "ax[0].text(2.,4.5,'$\\\\Omega_{r} = 2.0$',fontsize=12)\n",
    "ax[0].text(2.,4.,'$\\\\Omega_{m} = 0.7$',fontsize=12)\n",
    "ax[0].text(2.,3.5,'$\\\\Omega_{\\\\Lambda} = 0.4$',fontsize=12)\n",
    "\n",
    "ax[1].plot(t,result,'k--');\n",
    "ax[1].set_xlabel('t (Gyr)');\n",
    "ax[1].set_ylabel('Scale Factor (a)');\n",
    "ax[1].set_ylim(0,2);\n",
    "ax[1].set_title('\"Big Crunch\" Universe');\n",
    "ax[1].text(50.,1.8,'$\\\\Omega_{r} = 0.3$',fontsize=12);\n",
    "ax[1].text(50.,1.6,'$\\\\Omega_{m} = 0.8$',fontsize=12);\n",
    "ax[1].text(50.,1.4,'$\\\\Omega_{\\\\Lambda} = -0.1$',fontsize=12);"
   ]
  },
  {
   "cell_type": "markdown",
   "metadata": {
    "collapsed": true
   },
   "source": [
    "**Problem 2**"
   ]
  },
  {
   "cell_type": "markdown",
   "metadata": {},
   "source": [
    "Starting with the equation for the density of an isothermal sphere, given by\n",
    "\n",
    "$$\\rho(r)=\\frac{\\sigma_v^2}{2\\pi Gr^2}$$,\n",
    "\n",
    "we can find the mass within the sphere by integrating the density over the volume.\n",
    "\n",
    "$$M = \\int_0^{\\theta_E} \\rho(r)dr = \\int_0^{\\pi} \\int_0^{2\\pi} \\int_0^{\\theta_E} \\frac{\\sigma_v^2}{2\\pi Gr^2} r^2 sin(\\theta) dr d\\phi d\\theta = \\frac{\\theta_E \\sigma_v^2}{\\pi G} \\int_0^{2\\pi} \\phi d\\phi = \\frac{2\\sigma_v^2 \\theta_E}{G}$$\n",
    "\n",
    "This value for M can be plugged into the definition of $\\theta_E$:\n",
    "\n",
    "$$\\theta_E = \\left( \\frac{4GM}{c^2} \\frac{D_{LS}}{D_L D_S}\\right) ^{1/2} \\rightarrow \\theta_E = \\left( \\frac{4G\\left( \\frac{2\\sigma_v^2 \\theta_E}{G} \\right) }{c^2} \\frac{D_{LS}}{D_L D_S} \\right)^{1/2}$$\n",
    "\n",
    "$$ \\theta_E^2 =  \\theta_E \\frac{8\\sigma_v^2}{c^2} \\frac{D_{LS}}{D_L D_S} \\rightarrow \\theta_E = \\frac{8\\sigma_v^2}{c^2} \\frac{D_{LS}}{D_L D_S}$$\n",
    "\n",
    "Solving for $\\sigma_v^2$ yields\n",
    "\n",
    "$$ \\sigma_v^2 = \\frac{\\theta_E c^2 D_L D_S}{D_{LS}}$$,\n",
    "\n",
    "and assuming $\\theta = \\frac{\\theta_E}{D_L}$,\n",
    "\n",
    "$$\\sigma_v^2 = \\frac{\\theta c^2 D_S}{8 D_{LS}} = \\frac{c^2}{8} \\left( \\frac{\\theta D_S}{D_{LS}} \\right) \\rightarrow \\sigma_v = \\frac{c}{2\\sqrt{2}} \\left( \\frac{\\theta D_S}{D_{LS}} \\right)^{1/2}.$$\n",
    "\n",
    "After some unit conversion, we're left with our result,\n",
    "\n",
    "$$\\sigma_v \\approx 10^3 kms^{-1}\\left( \\frac{\\theta}{28\"} \\frac{D_S}{D_{LS}} \\right)^{1/2}.$$"
   ]
  },
  {
   "cell_type": "code",
   "execution_count": null,
   "metadata": {
    "collapsed": true
   },
   "outputs": [],
   "source": []
  }
 ],
 "metadata": {
  "kernelspec": {
   "display_name": "Python 3",
   "language": "python",
   "name": "python3"
  },
  "language_info": {
   "codemirror_mode": {
    "name": "ipython",
    "version": 3
   },
   "file_extension": ".py",
   "mimetype": "text/x-python",
   "name": "python",
   "nbconvert_exporter": "python",
   "pygments_lexer": "ipython3",
   "version": "3.5.1"
  }
 },
 "nbformat": 4,
 "nbformat_minor": 0
}
