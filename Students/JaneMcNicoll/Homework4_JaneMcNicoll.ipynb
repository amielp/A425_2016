{
 "cells": [
  {
   "cell_type": "code",
   "execution_count": 31,
   "metadata": {
    "collapsed": true
   },
   "outputs": [],
   "source": [
    "%matplotlib inline\n",
    "import numpy as np"
   ]
  },
  {
   "cell_type": "markdown",
   "metadata": {},
   "source": [
    "Homework 4 Part 1\n",
    "Jane McNicoll"
   ]
  },
  {
   "cell_type": "markdown",
   "metadata": {},
   "source": [
    "**1) Consider two distant galaxies both along the same line of sight. The\n",
    "closest galaxy is at a redshift $z_1$ and the more distant galaxy at a redshift $z_2$.\n",
    "By considering how a photon might travel from galaxy 2 to galaxy 1 and then\n",
    "to an observer at redshift 0 calculate.**\n",
    "\n",
    "**a. The redshift of second galaxy if observed from the first galaxy (in\n",
    "terms of $z_1$ and $z_2$)**\n",
    "\n",
    "**b. For a flat universe with $Ω_m=1$ (Einstein-deSitter) calculate the angular\n",
    "diameter distance to galaxy 1 and 2 (if $z_1$=0.5 and $z_2$ = 1.6) and the\n",
    "angular diameter distance from galaxy 1 to galaxy 2**\n",
    "\n",
    "**c. Comment on the similarity or difference between these values.**"
   ]
  },
  {
   "cell_type": "markdown",
   "metadata": {},
   "source": [
    "a) Redshift can be written in terms of the scale factor using the formula $\\frac{a(t_0)}{a(t_e)} = (1+z)$ Since we are looking at $a(t)_0$ is equal to 1. This means that the equation can be written in the following two ways for the two galalxies:\n",
    "\n",
    "(1) $\\frac{1}{a(t_1)} = 1 + z_1$\n",
    "\n",
    "(2) $\\frac{1}{a(t_2)} = 1 + z_2$\n",
    "\n",
    "If you divide (1) by (2) it gives \n",
    "$z = \\frac{(1+z_1)}{(1+z_2)}-1$\n",
    "where z is the redshift of 2 from 1's point of view."
   ]
  },
  {
   "cell_type": "markdown",
   "metadata": {},
   "source": [
    "b) The angular diameter distance is given by the formula $d_A = \\frac{r}{1+z}$ where r is the comoving distance. r can be found using the formula $r =  \\int_0^z \\frac{c}{H(z)}dz$ where $H(z)$ is equal to \n",
    "$H(z)={H_0}\\sqrt{\\Omega_{m,0}(1+z)^{3}}$\n",
    "\n",
    "For and Einstein-deSitter universe this can be simplified to the equation $d_A = \\frac{zc}{H_0(1+z)}(1-\\frac{1}{\\sqrt{1+z}})$"
   ]
  },
  {
   "cell_type": "code",
   "execution_count": 32,
   "metadata": {
    "collapsed": false
   },
   "outputs": [
    {
     "name": "stdout",
     "output_type": "stream",
     "text": [
      "The angular diameter distance to z_1 is 262.21085117329966 megaparsecs\n",
      "The angular diameter distance to z_2 is 1001.9809232315226 megaparsecs\n",
      "The angular diamter distance from z_1 to z_2 is 995.1460714833245 megaparsecs\n"
     ]
    }
   ],
   "source": [
    "H_0 = 70.0*(3.24e-20)\n",
    "c = 3.0e8\n",
    "z_1= 0.5\n",
    "z_2= 1.6\n",
    "\n",
    "def z_rel(z1,z2):\n",
    "    return ((1+z1)/(1+z2))-1\n",
    "z = z_rel(0.5, 1.6)\n",
    "def dist(z):\n",
    "    return ((z*c)/(H_0*(1+z)))*(1-(1/((1+z)**0.5)))\n",
    "print(\"The angular diameter distance to z_1 is\", dist(z_1)*3.24078e-23, \"megaparsecs\")\n",
    "print(\"The angular diameter distance to z_2 is\", dist(z_2)*3.24078e-23, \"megaparsecs\")\n",
    "print(\"The angular diamter distance from z_1 to z_2 is\", dist(z)*3.24078e-23, \"megaparsecs\")\n"
   ]
  },
  {
   "cell_type": "markdown",
   "metadata": {},
   "source": [
    "c) The angular diameter distance of galaxy 2 is notably greater than that of galaxy 1, which makes sense because we know a larger redshift should correlate to a larger angular diameter distance. It also makes sense that the angular diameter distance from galaxy 1 to galaxy 2, with a z value between z1 and z2,  would be in between these two values. "
   ]
  },
  {
   "cell_type": "markdown",
   "metadata": {},
   "source": [
    "**2) The Coma cluster contains N= 1000 galaxies within its half-mass radius of $r_h = 1.5 Mpc$. What is the mean number density of galaxies within the half-mass radius? Suppose that the typical cross-section of a galaxy is $\\Sigma=10^{-3} Mpc^2$. How far will a galaxy in the Coma cluster travel, on average, before it collides with another galaxy? The velocity dispersion of the Coma cluster is $\\sigma = 880 km*s^{-1}$. What is the average time between collisions for a galaxy in the Coma cluster? Is this time greater than or less than the Hubble time?**"
   ]
  },
  {
   "cell_type": "markdown",
   "metadata": {},
   "source": [
    "I found the mean number density of galaxies within the half-mass radius by dividing the number of galaxies, 1000, by the volume given by the half mass radius, 1.5 Mpc. This gives the equation:\n",
    "\n",
    "$n = \\frac{1000}{4/3 \\pi(1.5 Mpc)^3}$\n",
    "which, calculated below, gives n = 70.735 galaxies/Mpc^3\n",
    "\n",
    "I calculated the mean free path of a galaxy in the Coma cluster using the formula:\n",
    "\n",
    "$mfp = \\frac{1}{n \\Sigma}$ where n is the number density of galaxies calculated above and $\\Sigma$ is the cross section, $10^{-3} Mpc^2$\n",
    "\n",
    "This gives the mean free path to be 14.14 Mpc. \n",
    "\n",
    "To find the average time between the collisions I used the formula:\n",
    "    $t = \\frac{mfp}{\\sqrt{3}\\sigma}$  \\*unit conversion not included\\* where $\\sigma = 880 km*s^{-1}$. This gave the average time between the collisions for the Coma cluster to be 9.08 Gyrs. This is less than the Hubble time (13.6 Gyrs). \n",
    "\n",
    "To find the collision time between Andromeda (M31) and the Milky Way I used the formula:\n",
    "$t = \\frac{distance}{velocity}$ \\*unit conversion not included\\* and found that this time would be 5.71 Gyrs. \n",
    "\n",
    "Therefore we can say that the average time between collisions in the Coma cluster is almost twice the time it will take for the Milky Way to collide with M31. \n",
    "\n"
   ]
  },
  {
   "cell_type": "code",
   "execution_count": 33,
   "metadata": {
    "collapsed": false
   },
   "outputs": [
    {
     "name": "stdout",
     "output_type": "stream",
     "text": [
      "Number density = 70.7355302630646 galaxies*Mpc^-3\n",
      "mean free path = 14.137073060393575 Mpc\n",
      "average time between collisions in Coma = 9.07810966412 Gyrs\n",
      "time between Milky Way and Andromeda collision = 5.708291053610689 Gyrs\n"
     ]
    }
   ],
   "source": [
    "def n(N, r):\n",
    "    volume = (4.0/3.0)*(np.pi)*(r**3)\n",
    "    return N/volume \n",
    "print(\"Number density =\", n(1000.0, 1.5), \"galaxies*Mpc^-3\")\n",
    "\n",
    "def mfp(numdensity, r):\n",
    "    return 1.0/(numdensity*r)\n",
    "print(\"mean free path =\", mfp(70.736, 1.0e-3), \"Mpc\")\n",
    "\n",
    "sec2gyrs = (365*24*3600*1e9)\n",
    "def time(meanfree, sigma):\n",
    "        return (meanfree/(np.sqrt(3)*880e3/3.086e22))/sec2gyrs\n",
    "print(\"average time between collisions in Coma =\", time(14.14, 880e3), \"Gyrs\")\n",
    "\n",
    "def time2(dist, vel):\n",
    "    d = dist/(10**6)\n",
    "    v = vel*(1.0**3)\n",
    "    return d*((3.086e22)/(v))/sec2gyrs\n",
    "print(\"time between Milky Way and Andromeda collision =\", time2(700, 120), \"Gyrs\")\n"
   ]
  },
  {
   "cell_type": "code",
   "execution_count": null,
   "metadata": {
    "collapsed": true
   },
   "outputs": [],
   "source": []
  }
 ],
 "metadata": {
  "kernelspec": {
   "display_name": "Python [Root]",
   "language": "python",
   "name": "Python [Root]"
  },
  "language_info": {
   "codemirror_mode": {
    "name": "ipython",
    "version": 3
   },
   "file_extension": ".py",
   "mimetype": "text/x-python",
   "name": "python",
   "nbconvert_exporter": "python",
   "pygments_lexer": "ipython3",
   "version": "3.5.2"
  }
 },
 "nbformat": 4,
 "nbformat_minor": 0
}
