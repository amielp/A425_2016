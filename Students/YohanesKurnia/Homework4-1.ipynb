{
 "cells": [
  {
   "cell_type": "markdown",
   "metadata": {},
   "source": [
    "1. a) For the first galaxy as the deflector and the second galaxy as the source.\n",
    "      $$ D_d = \\frac{c}{H_0} z_1 $$\n",
    "      $$ D_s = \\frac{c}{H_0} z_2 $$\n",
    "      $$ D_ds = \\frac{c}{H_0} (z_2-z_1) $$\n",
    "      \n",
    "   b) For a flat universe we have Sk(r) = r.\n",
    "      $$ d_A = \\frac{c}{H_0} \\frac{z}{1+z} $$\n",
    "      For the first galaxy, z_1 = 0.5,\n",
    "      $$ d_{A_1} = \\frac{c}{H_0} \\frac{0.5}{1.5} = 2857 Mpc $$\n",
    "      For the second galaxy, z_2 = 1.6,\n",
    "      $$ d_{A_2} = \\frac{c}{H_0} \\frac{1.6}{2.6} = 2636 Mpc $$\n",
    "      From the first galaxy to the second galaxy, z2-z1=1.1,\n",
    "      $$ d_{A_1} = \\frac{c}{H_0} \\frac{1.1}{2.1} = 2244 Mpc $$\n",
    "      \n",
    "   c) The values of the angular size diameter makes sense because as it increases as z goes from 0 to ~1.4 but\n",
    "      decreases after z passes 1.4.\n",
    "      For the value from galaxy 1 to galaxy 2, the angular size diameter should be smaller because the redshift is\n",
    "      smaller.\n",
    "$$$$\n",
    "2. For N = 1000 galaxies, $r_h$ = 1.5 Mpc, $\\Sigma$ = 10$^{-3}$ Mpc$^2$, and $\\sigma$ = 880 km s$^{-1}$\n",
    "\n",
    "   $$ n_g = \\frac{N}{\\frac{4}{3} \\pi r_h^3} = 70.736 gal/Mpc^3  $$\n",
    "   $$ l = \\frac{1}{n_g \\Sigma} = 14.14 Mpc $$\n",
    "   $$ \\tau_{coma} = \\frac{l}{<v>} =\\frac{l}{\\sqrt{3} \\sigma}=8.826 Gyr $$\n",
    "   \n",
    "   Whereas for Andromeda and Milky way, l = 700 kpc, $\\sigma$ = 120 km s$^{-1}$,\n",
    "   $$ \\tau_{AM} = 3.2 Gyr $$\n",
    "   \n",
    "   Compared to the Coma Cluster, the average time between collision in Andromeda and Milky way galaxy is much smaller."
   ]
  }
 ],
 "metadata": {
  "anaconda-cloud": {},
  "kernelspec": {
   "display_name": "Python [conda root]",
   "language": "python",
   "name": "conda-root-py"
  },
  "language_info": {
   "codemirror_mode": {
    "name": "ipython",
    "version": 3
   },
   "file_extension": ".py",
   "mimetype": "text/x-python",
   "name": "python",
   "nbconvert_exporter": "python",
   "pygments_lexer": "ipython3",
   "version": "3.5.2"
  }
 },
 "nbformat": 4,
 "nbformat_minor": 1
}
