{
 "cells": [
  {
   "cell_type": "code",
   "execution_count": 1,
   "metadata": {
    "collapsed": true
   },
   "outputs": [],
   "source": [
    "%matplotlib inline\n",
    "import numpy as np\n",
    "import matplotlib as mpl\n",
    "import matplotlib.pyplot as plt\n",
    "from scipy.integrate import quad"
   ]
  },
  {
   "cell_type": "markdown",
   "metadata": {},
   "source": [
    "Problem 1\n",
    "\n",
    "Part a:\n",
    "\n",
    "Start with the redshift formula $(1+z) = \\frac{a(t_{o})}{a(t_{e})}$ and solve for $a(t_{e})$ resulting in:\n",
    "\n",
    "$a(t_{e}) = \\frac{a(t_{o})}{(1+z)} = \\frac{1}{(1+z)}$\n",
    "\n",
    "Now account for $z_{1}$ and $z_{2}$ resulting in:\n",
    "\n",
    "$a(t_{e,1}) = \\frac{1}{(1+z_{1})}$ and $a(t_{e,2}) = \\frac{1}{(1+z_{2})}$ \n",
    "\n",
    "Now using the scale factor and that for $z=0$  $a(t)=1$ we can relate $z_{1}$ to $z_{2}$ resulting in:\n",
    "\n",
    "$(1+z_{1,2}) = \\frac{a(t_{e,1})}{a(t_{e,2})} = \\frac{(1 + z_{2})}{(1 + z_{1})} $"
   ]
  },
  {
   "cell_type": "markdown",
   "metadata": {},
   "source": [
    "Part b:\n",
    "\n",
    "Given $d_{A} = \\frac{d_{L}}{(1+z)^{2}} = \\frac{d_{p}}{(1+z)}$ with $d_{L}$ as the luminosity distance and $d_{p}$ as the proper distance and that the proper distance is defined as $d_{p} = c \\int^{t}_{t_{e}} \\frac{dt}{a(t)} = \\frac{2c}{H_{0} (1+3\\omega)}[1-(1+z)^{-(1+3\\omega)/2}]$ we can now apply the parameters of an Einstein-deSitter universe ($\\Omega_{m} = 1$), $\\omega = 0$ which results in the equations simplifying to:\n",
    "$$d_{p} = \\frac{2c}{H_{0}}[1-(1+z)^{-1/2}]$$ (From time of observation)\n",
    "and\n",
    "$$d_{p} = \\frac{2c}{H_{0}(1+z)}[1-(1+z)^{-1/2}]$$ (From time of emission).\n",
    "\n",
    "Using these the angular diameter $d_{A}$ simplifies to:\n",
    "$$d_{A} = \\frac{2c}{H_{0}}[(1+z)^{-1}-(1+z)^{-3/2}]$$\n",
    "Which I coded and calculated in python below with $z_{1} = 0.5$ and $z_{2} = 1.6$."
   ]
  },
  {
   "cell_type": "code",
   "execution_count": 2,
   "metadata": {
    "collapsed": true
   },
   "outputs": [],
   "source": [
    "def z_shift(z_1,z_2): #Calculates the relative redshift betweentwo objects with redshift z1,and z2.\n",
    "    return (1+z_2)/(1+z_1)-1.0"
   ]
  },
  {
   "cell_type": "code",
   "execution_count": 5,
   "metadata": {
    "collapsed": false
   },
   "outputs": [
    {
     "name": "stdout",
     "output_type": "stream",
     "text": [
      "\n"
     ]
    }
   ],
   "source": [
    "def d_A(z): #Calculates the angular diameter distance for an Einstein-deSitter Universe and results in the \n",
    "                    #angular diameter distance in Mpc\n",
    "    \n",
    "    c = 299792e3\n",
    "    H_0 = 70e3 / 3.086e22\n",
    "    return (2*c/H_0)*((1+z)**-1-(1+z)**(-3.0/2.0))/3.086e22"
   ]
  },
  {
   "cell_type": "code",
   "execution_count": 6,
   "metadata": {
    "collapsed": false
   },
   "outputs": [
    {
     "name": "stdout",
     "output_type": "stream",
     "text": [
      "Closest galaxy Angular Diameter Distance: 1047.86394306\n",
      "Furthest galaxy Angular Diameter Distance: 1251.30653011\n",
      "Relative redshift between the two galaxies: 0.733333333333\n",
      "Angular Diameter Distance between the two galaxies: 1188.19169913\n"
     ]
    }
   ],
   "source": [
    "print \"Closest galaxy Angular Diameter Distance:\", d_A(0.5)\n",
    "print \"Furthest galaxy Angular Diameter Distance:\",d_A(1.6)\n",
    "z12 = z_shift(0.5,1.6)\n",
    "print 'Relative redshift between the two galaxies:', z12\n",
    "print \"Angular Diameter Distance between the two galaxies:\",d_A(z12)"
   ]
  },
  {
   "cell_type": "markdown",
   "metadata": {},
   "source": [
    "Part C:\n",
    "\n",
    "As expected the further the galaxy is away the smaller the angular diamater thus the larger the angular diameter distance would be larger for a galaxy that is further away.  Given that the relative reshift between the galaxies is larger than the value used for $z_{1}$ it would be expected that the angular diamater distance between the two galaxies would also be larger than that calculated for $z_{1}$ while being sall than that calculated for $z_{2}$, which it is."
   ]
  },
  {
   "cell_type": "markdown",
   "metadata": {},
   "source": [
    "Problem 2:\n",
    "\n",
    "We can use the equations for mean number density:\n",
    "$$n = \\frac{N}{\\frac{4}{3}\\pi r_{h}^{3}}$$\n",
    "mean free path:\n",
    "$$\\lambda = (n \\Sigma)^{-1}$$\n",
    "and average time between collisions:\n",
    "$$\\tau = \\frac{\\lambda}{\\sqrt{\\langle v^{2} \\rangle}} = \\frac{\\lambda}{\\sqrt{3}\\sigma}$$\n",
    "for this problem.\n",
    "First using python the number density of galaxies, mean free path, and average time between collisions in the Coma Cluster is calculated."
   ]
  },
  {
   "cell_type": "code",
   "execution_count": 13,
   "metadata": {
    "collapsed": false
   },
   "outputs": [
    {
     "name": "stdout",
     "output_type": "stream",
     "text": [
      "For the Coma Cluster the calculations result in:\n",
      "70.7355302631 [galaxies Mpc^-3]\n",
      "14.1371669412 [Mpc] mean free path\n",
      "9.07629079433 [Gyr] average time between collisions\n"
     ]
    }
   ],
   "source": [
    "#Coma Cluster calculations\n",
    "print \"For the Coma Cluster the calculations result in:\"\n",
    "n_coma = (1e3)/(4.0*np.pi*1.5**3/3.0)\n",
    "print n_coma , '[galaxies Mpc^-3]'\n",
    "\n",
    "lam = (n_coma*1e-3)**-1\n",
    "print lam , '[Mpc] mean free path'\n",
    "\n",
    "#using a dispersion velocity of 880 km/s within the cluster\n",
    "t_coma = (lam/(np.sqrt(3)*880e3/3.086e22))/(365*24*3600*1e9) #converts to Gyr since velocities are in m/s and we \n",
    "                                                            #don't want an extremely huge number of seconds\n",
    "print t_coma , '[Gyr] average time between collisions'"
   ]
  },
  {
   "cell_type": "code",
   "execution_count": 14,
   "metadata": {
    "collapsed": false
   },
   "outputs": [
    {
     "name": "stdout",
     "output_type": "stream",
     "text": [
      "Time for M31 & Milky Way collision = 5.70829105361 [Gyr]\n"
     ]
    }
   ],
   "source": [
    "#Calculation for collision time between Milky Way and Andromeda [M31]\n",
    "t_milkomeda = (0.7*3.086e22/120e3)/(365*24*3600*1e9)\n",
    "print 'Time for M31 & Milky Way collision =', t_milkomeda, '[Gyr]'"
   ]
  },
  {
   "cell_type": "markdown",
   "metadata": {},
   "source": [
    "The average time between collisions in the Coma cluster is nearly twice the calculated collision time between the Andromeda and Milky Way galaxies. From the formulae we can see that the mean free path is proportional to the average time between collisions, which in this case is a factor of 20 less for M31 & Milky Way. We also see the time is inversely proportional to the velocity dispersion which is ~1/4th that of the Coma cluster, resulting in a ~ factor of 2 difference."
   ]
  }
 ],
 "metadata": {
  "anaconda-cloud": {},
  "kernelspec": {
   "display_name": "Python [default]",
   "language": "python",
   "name": "python2"
  },
  "language_info": {
   "codemirror_mode": {
    "name": "ipython",
    "version": 2
   },
   "file_extension": ".py",
   "mimetype": "text/x-python",
   "name": "python",
   "nbconvert_exporter": "python",
   "pygments_lexer": "ipython2",
   "version": "2.7.12"
  }
 },
 "nbformat": 4,
 "nbformat_minor": 1
}
