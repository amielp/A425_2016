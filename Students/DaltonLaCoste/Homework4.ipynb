{
 "cells": [
  {
   "cell_type": "code",
   "execution_count": 1,
   "metadata": {
    "collapsed": false
   },
   "outputs": [
    {
     "name": "stdout",
     "output_type": "stream",
     "text": [
      "Populating the interactive namespace from numpy and matplotlib\n"
     ]
    }
   ],
   "source": [
    "%pylab inline"
   ]
  },
  {
   "cell_type": "markdown",
   "metadata": {},
   "source": [
    "#### 1. [10 pts] Consider two distant galaxies both along the same line of sight. The closest galaxy is at a redshift z1 and the more distant galaxy at a redshift z2. By considering how a photon might travel from galaxy 2 to galaxy 1 and then to an observer at redshift 0 calculate. ####\n",
    "#### a. The redshift of second galaxy if observed from the first galaxy (in terms of z1 and z2)####\n",
    "#### b. For a flat universe with Ωm=1 (Einstein-deSitter) calculate the angular diameter distance to galaxy 1 and 2 (if z1=0.5 and z2 = 1.6) and the angular diameter distance from galaxy 1 to galaxy 2####\n",
    "#### c. Comment on the similarity or difference between these values.###"
   ]
  },
  {
   "cell_type": "markdown",
   "metadata": {},
   "source": [
    "#### a). Redshift relations from the point of view of our galaxy ####\n",
    "$$1+z_{1} = \\frac{a(t_0)}{a(t_{e,1})} = \\frac{1}{a(t_{e,1})}$$\n",
    "\n",
    "$$1+z_{2} = \\frac{a(t_0)}{a(t_{e,2})} = \\frac{1}{a(t_{e,2})}$$\n",
    "\n",
    "#### In the rest frame of Galaxy 1, the redshift of Galaxy 2 ($z_{2}^{*}$) is:####\n",
    "\n",
    "$$1+z_{2}^{*} = \\frac{a(t_{0,1})}{a(t_{e,2})} $$\n",
    "\n",
    "$$a(t_{0,1}) = a(t_{e,1}) = \\frac{1}{1+z_1}$$   \n",
    "\n",
    "$$a(t_{e,2}) = \\frac{1}{1+z_2}$$\n",
    "\n",
    "$$\\therefore \\space \\space z_{2}^{*} = \\frac{1+z_2}{1+z_1} - 1 $$"
   ]
  },
  {
   "cell_type": "markdown",
   "metadata": {},
   "source": [
    "#### b). For an Einstein-deSitter Universe, the proper distance is: ####\n",
    "$$d_p(t_0) = \\frac{2c}{H_0}(1-\\frac{1}{\\sqrt{1+z}}) $$ \n",
    "\n",
    "#### Angular diameter distance is related to proper distance by: ####\n",
    "\n",
    "$$d_A = \\frac{d_p(t_0)}{1+z}$$\n",
    "\n",
    "#### Plugging in $z_1$:\n",
    "\n",
    "$$ d_{p,1}(t_0) = \\frac{2(2.99\\times10^{5}\\frac{km}{s})}{72\\frac{km}{s\\cdot MPc}}(1-\\frac{1}{\\sqrt{1+0.5}}) = 1524.097 MPc $$\n",
    "\n",
    "$$\\therefore \\space d_{A,1} = \\frac{d_{p,1}(t_0)}{1+z_1} = \\frac{1524.097}{1.5}MPc = 1016.1 MPc $$\n",
    "\n",
    "#### Similarly the angular diameter distance to Galaxy 2 is:\n",
    "\n",
    "$$ d_{p,2}(t_0) = \\frac{2(2.99\\times10^{5}\\frac{km}{s})}{72\\frac{km}{s\\cdot MPc}}(1-\\frac{1}{\\sqrt{1+1.6}}) = 3154.668 MPc $$\n",
    "\n",
    "$$\\therefore \\space d_{A,2} = \\frac{d_{p,2}(t_0)}{1+z_2} = \\frac{3154.668}{2.6}MPc = 1213.3 MPc $$\n",
    "\n",
    "#### The proper distance from Galaxy 1 to Galaxy 2 is: ####\n",
    "$$d_p(t_0)_{1\\rightarrow 2} = \\frac{2c}{H_0}(1-\\frac{1}{\\sqrt{1+z_{2}^{*}}})$$\n",
    "\n",
    "$$z_{2}^{*} = \\frac{1+1.6}{1+0.5}-1 = 0.73333 $$\n",
    "\n",
    "$$ d_p(t_0)_{1\\rightarrow 2} = \\frac{2(2.99\\times10^{5}\\frac{km}{s})}{72\\frac{km}{s\\cdot MPc}}(1-\\frac{1}{\\sqrt{1+0.7333}}) = 1996.973 MPc $$\n",
    "\n",
    "$$\\therefore \\space (d_{A})_{1\\rightarrow 2} = \\frac{d_p(t_0)_{1\\rightarrow 2}}{1+z_{2}^{*}} = \\frac{1996.973}{1.733}MPc = 1152.1 MPc $$"
   ]
  },
  {
   "cell_type": "markdown",
   "metadata": {},
   "source": [
    "#### One key observation is the difference in angular diameter distance from one frame of reference to another. An observer in the Milky Way would only percieve a ~190MPc separation between Galaxies 1 and 2, but we see that in 1's frame of reference that distance is about 5-6 times what an observer in the Milky Way sees. This is likely caused by the evolution of angular diameter distance with redshift, as it begins to tail off at a redshift of about 1.4 in the canonical universe. ####"
   ]
  },
  {
   "cell_type": "markdown",
   "metadata": {},
   "source": [
    "#### 2. [10 pts] Problem 8.5 in Ryden: Note there is a typo in the problem (it states that the velocity dispersion units are km s-3 rather than the correct units of km s-1). Compare this with the collision time between Andromeda (M31) and the Milky Way (Andromeda is 700 kpc away and is moving towards us at 120 km s-1 ). ####\n",
    "\n",
    "\n",
    "### (8.5) In the previous chapter, I noted that galaxies in rich clusters are poor standard candles, because they tend to grow brighter with time as they merge with other galaxies. Let’s estimate the galaxy merger rate in the Coma cluster to see whether it’s truly significant. The Coma cluster contains N ≈ 1000 galaxies within its half-mass radius of rh ≈ 1.5Mpc. What is the mean number density of galaxies within the half-mass radius? Suppose that the typical cross-section of a galaxy is Σ ≈ 10−3 Mpc2. How far will a galaxy in the Coma cluster travel, on average, before it collides with another galaxy? The velocity dispersion of the Coma cluster is σ ≈ 880kms−3. What is the average time between collisions for a galaxy in the Coma cluster? Is this time greater than or less than the Hubble time? ###"
   ]
  },
  {
   "cell_type": "markdown",
   "metadata": {},
   "source": [
    "#### Calculating the mean number density of galaxies in the cluster ###\n",
    "$$n_G = \\frac{N}{V} $$\n",
    "\n",
    "$$V = \\frac{4}{3}\\pi r_{h}^{3} $$\n",
    "\n",
    "$$ n_G = \\frac{3N}{4\\pi r_{h}^{3}}$$"
   ]
  },
  {
   "cell_type": "code",
   "execution_count": 2,
   "metadata": {
    "collapsed": false
   },
   "outputs": [
    {
     "name": "stdout",
     "output_type": "stream",
     "text": [
      "The number density of galaxies within the half-mass radius is 70.7355302631 galaxies per cubic MPc\n"
     ]
    }
   ],
   "source": [
    "N = 1000.0\n",
    "rh = 1.5\n",
    "V = (4.0/3.0)*pi*(rh**3)\n",
    "x = N/V\n",
    "print(\"The number density of galaxies within the half-mass radius is %s galaxies per cubic MPc\"% x)"
   ]
  },
  {
   "cell_type": "markdown",
   "metadata": {},
   "source": [
    "#### Calculating the average collision time for a galaxy in the coma cluster ####"
   ]
  },
  {
   "cell_type": "markdown",
   "metadata": {},
   "source": [
    "#### We can take the average time between collisions to be the average distance divided by the root-mean-squared velocity: ####\n",
    "\n",
    "$$\\bar t_{collision} = \\frac{\\bar d}{v_{RMS}} $$\n",
    "\n",
    "#### We can also relate velocity dispersion to the RMS velocity:\n",
    "\n",
    "$$v_{RMS}^{2} = 3\\sigma^{2} $$\n",
    "\n",
    "$$\\bar t = \\frac{\\bar d}{\\sqrt{3}\\sigma}$$\n",
    "\n",
    "#### The average distance between collisions is found using the average cross-section and the number density ####\n",
    "\n",
    "$$\\lambda = \\bar d = \\frac{1}{\\Sigma n_G} = \\frac{1}{(10^{-3})(70.7)}MPc  = 14.1MPc$$\n",
    "\n",
    "#### Plugging $\\bar d$ and $\\sigma$ in to our expression for average collision time ####\n",
    "\n",
    "$$\\therefore \\space \\space \\bar t = \\frac{14.1MPc}{\\sqrt{3}(880\\frac{km}{s})} = \\frac{4.4\\times10^{20}}{1524}s = 9.2Gyr$$\n",
    "\n",
    "#### We see that the average time between collisions is less than the Hubble time (14.4Gyr), meaning it is likely that there will be large scale mergers in the cluster ####"
   ]
  },
  {
   "cell_type": "markdown",
   "metadata": {},
   "source": [
    "#### The collision time for Andromeda: ####\n",
    "\n",
    "$$d_{M31} = 700kPc = 2.16\\times10^{19}km$$\n",
    "\n",
    "$$v_{M31} = 120\\frac{km}{s}$$\n",
    "\n",
    "$$\\therefore \\space \\space t_{collision} = 1.8\\times10^{17}s = 5.71 Gyr $$\n",
    "\n",
    "#### The collision time for M31 and the Milky Way is smaller by a factor of about 1.6, so even though our local group is relatively galaxy-poor, we are still much more likely to undergo a merger in the near future. ####"
   ]
  }
 ],
 "metadata": {
  "kernelspec": {
   "display_name": "Python [astroconda]",
   "language": "python",
   "name": "Python [astroconda]"
  },
  "language_info": {
   "codemirror_mode": {
    "name": "ipython",
    "version": 2
   },
   "file_extension": ".py",
   "mimetype": "text/x-python",
   "name": "python",
   "nbconvert_exporter": "python",
   "pygments_lexer": "ipython2",
   "version": "2.7.12"
  }
 },
 "nbformat": 4,
 "nbformat_minor": 0
}
