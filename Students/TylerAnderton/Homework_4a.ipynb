{
 "cells": [
  {
   "cell_type": "markdown",
   "metadata": {},
   "source": [
    "#1\n",
    "\n",
    "We consider to galaxies in the same line of sight from Earth. One has redshift $z_1=0.5$ and the other has redshift $z_2=1.6$. First we need to find the relative redshift between the two galaxies. We can do this by manipulating the definitions of the redshifts in terms of the wavelength emitted from galaxy 2 $\\lambda_2$, the wavelength observed at galaxy 1 $\\lambda_1$, and the wavelength observed on earth $\\lambda_0$:\n",
    "\n",
    "$z_2=\\frac{\\lambda_2-\\lambda_0}{\\lambda_2}$\n",
    "\n",
    "$\\lambda_2=\\frac{\\lambda_2-\\lambda_0}{z_2}$\n",
    "\n",
    "$\\lambda_2(1-\\frac{1}{z_2})=-\\frac{\\lambda_0}{z_2}$\n",
    "\n",
    "$\\lambda_2=\\frac{\\lambda_0}{z_2(\\frac{1}{z_2}-1)}=\\frac{\\lambda_0}{1-z_2}$\n",
    "\n",
    "$z_1=\\frac{\\lambda_1-\\lambda_0}{\\lambda_1}\\Rightarrow\\lambda_1=\\frac{\\lambda_0}{1-z_1}$\n",
    "\n",
    "$z_{2,1}=\\frac{\\lambda_2-\\lambda_1}{\\lambda_2}=\\frac{\\lambda_0(\\frac{1}{1-z_2}-\\frac{1}{1-z_1})}{\\lambda_0\\frac{1}{1-z_2}}=(1-z_2)\\frac{(1-z_1)-(1-z_2)}{(1-z_2)(1-z_1)})=\\frac{z_2-z_1}{1+z_1}=0.73$\n",
    "\n",
    "Since we are only interested in a flat, matter dominated universe, we can use the relations given in the text to find the angular diameter distance:\n",
    "\n",
    "$d_A=\\frac{d_p(t_0)}{1+z}=d_p(t_e)=\\frac{2c}{H_0(1+z)}(1-\\frac{1}{\\sqrt{1+z}})$\n",
    "\n",
    "Plugging in the proper terms gives us angular diameter distances of\n",
    "\n",
    "$d_{A_1}=1082$ Mpc\n",
    "\n",
    "for the angular diameter distance from Earth to galaxy 1,\n",
    "\n",
    "$d_{A_2}=1292$ Mpc\n",
    "\n",
    "for the angular diameter distance to galaxy 2, and\n",
    "\n",
    "$d_{A_{2,1}}=1226$ Mpc\n",
    "\n",
    "for the angular diameter distance from galaxy 1 to galaxy 2. \n",
    "\n",
    "One might notice that the angular diameter distances $d_{A_2}$ and $d_{A_{2,1}}$ are oddly similar. This is because at redshifts around $z=1.5$, the angular size of objects $\\theta$ starts to increase, which means that the angular diameter distance $d_A$ decreases by the relation $d_A=\\frac{l}{\\theta}$. \n",
    "\n"
   ]
  },
  {
   "cell_type": "markdown",
   "metadata": {},
   "source": [
    "#2\n",
    "\n",
    "We are now considering galaxies in the Coma cluster, which contains $N$ $\\approx$ $1000$ glaxies inside a half radius of $r_h$ $\\approx$ $1.5$ Mpc. From this information the average density of galaxies is\n",
    "\n",
    "$n_h=\\frac{N}{\\frac{4}{3}{\\pi}r_h^3}=70.7$ Mpc$^{-3}$\n",
    "\n",
    "If the typical galaxy in the Coma cluster has a cross section of $\\Sigma$ $\\approx$ $10^{-3}$ Mpc$^2$, then the mean free path of galaxies in this cluster is\n",
    "\n",
    "$l=\\frac{1}{n\\Sigma}=14.1$ Mpc\n",
    "\n",
    "Given a radial velocity dispersion of $\\sigma$ $\\approx$ $880$ km s$^{-1}=0.899$ Mpc Gyr$^{-1}$, the transverse velocities can be assumed to be the same due to isotropy in glactic clusters. The average velocity of galaxies in the Coma cluster can then be taken to be $v=\\sqrt{3}\\sigma$. The average time between galaxy collisions in the this cluster is then,\n",
    "\n",
    "$t_{av}=\\frac{l}{v}=9.08$ Gyr,\n",
    "\n",
    "which is a little over half the Hubble time: $t_H=14.4$ Gyr.\n",
    "\n",
    "We can compare this average time of collisions in this cluster with the estimated collision time of Andromeda with the Milky Way. Andromeda is currently $d_A=700$ kpc away from us and is travelling toward us at $v_A=3.89$ $10^{-15}$ kpc s$^{-1}=123$ kpc Gyr$^{-1}$. Given these values Andromeda will collide with the Milky Way in about \n",
    "\n",
    "$t_A=\\frac{d_A}{v_A}=5.69$ Gyr.\n",
    "\n",
    "This collision time is about a third of the average collision time in the Coma cluster. "
   ]
  },
  {
   "cell_type": "code",
   "execution_count": null,
   "metadata": {
    "collapsed": true
   },
   "outputs": [],
   "source": []
  },
  {
   "cell_type": "code",
   "execution_count": null,
   "metadata": {
    "collapsed": true
   },
   "outputs": [],
   "source": []
  }
 ],
 "metadata": {
  "kernelspec": {
   "display_name": "Python 2",
   "language": "python",
   "name": "python2"
  },
  "language_info": {
   "codemirror_mode": {
    "name": "ipython",
    "version": 2
   },
   "file_extension": ".py",
   "mimetype": "text/x-python",
   "name": "python",
   "nbconvert_exporter": "python",
   "pygments_lexer": "ipython2",
   "version": "2.7.10"
  }
 },
 "nbformat": 4,
 "nbformat_minor": 0
}
