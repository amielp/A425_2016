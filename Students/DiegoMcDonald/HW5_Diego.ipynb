{
 "cells": [
  {
   "cell_type": "markdown",
   "metadata": {},
   "source": [
    "1) Using Friedmann Equation given in HW3:\n",
    "$$\\frac{H(z)^2}{H_0^2} = \\Omega_{r,0}(1+z)^4 + \\Omega_{m,0}(1+z)^3 + \\Omega_{\\Lambda} + (1-\\Omega_0)(1+z)^2$$\n",
    "Substituting $a = \\frac{1}{1+z}$ gives:\n",
    "$$ \\frac{\\dot{a}}{a} = H_0(\\frac{\\Omega_{r,0}}{a^4} + \\frac{\\Omega_{m,0}}{a^3} + \\Omega_{\\Lambda} + \\frac{1-\\Omega_0}{a^2})^{1/2}  $$\n",
    "\n",
    "a) For a Loitering Universe, $\\dot{a} \\sim 0$, giving:\n",
    "$$ \\frac{\\Omega_{r,0}}{a^4} + \\frac{\\Omega_{m,0}}{a^3} + \\Omega_{\\Lambda} + \\frac{1-\\Omega_0}{a^2} = 0 $$\n",
    "\n",
    "or\n",
    " \n",
    "$$ \\Omega_{r,0} + a\\Omega_{m,0} + a^4\\Omega_{\\Lambda} + a^2(1-\\Omega_0) = 0 $$ \n",
    "\n",
    "Making $ a = constant $, and hence describing a Loitering Universe.\n",
    "\n",
    "Distributing the $a^2$ to $(1-\\Omega_0)$ and solving for $\\Omega_0$ gives the following condition:\n",
    "\n",
    "$$ \\Omega_0 = \\frac{\\Omega_{r,0}}{a^2} + \\frac{\\Omega_{m,0}}{a} + a^2\\Omega_{\\Lambda} + 1 $$\n",
    "\n",
    "Substituting $\\Omega_0 = \\Omega_{r,0} + \\Omega_{m,0} + \\Omega_{\\Lambda}$ and algebra:\n",
    "\n",
    "$$ \\Omega_{m,0}(1-\\frac{1}{a}) + \\Omega_{r,0}(1-\\frac{1}{a^2}) + \\Omega_{\\Lambda}(1-a^2) = 1 $$\n",
    "\n",
    "Since a Loitering Universe is described by $\\dot{a} \\sim 0$ but $\\dot{a}\\neq 0$, in the code below, I use today's value for the Hubble Paramter multiplied by $10^{-2}$ to make $\\dot{a_0}\\sim0$\n",
    "\n",
    "I then use the relation $a(t) = a_0 - \\dot{a_0}\\Delta$t to calculate the new scale factor after some timestep $\\Delta$t. With this new scale factor $a(t)$, I can then calcultate the new $\\dot{a(t)}$ from the Friedmann Equation above (second from top) and repeat this process until I have gone back 14 Gyrs. \n",
    "\n",
    "The figure produced shows a slight decrease in the scale factor over 14 Gyrs, accurately describing a Loitering Universe with $\\dot{a}\\sim0$\n"
   ]
  },
  {
   "cell_type": "code",
   "execution_count": 1,
   "metadata": {
    "collapsed": false
   },
   "outputs": [],
   "source": [
    "import numpy as np\n",
    "import matplotlib.pyplot as plt\n",
    "from scipy import integrate\n",
    "from IPython.core.debugger import Tracer\n",
    "\n",
    "from astropy import units as u\n",
    "from astropy import constants as const\n",
    " \n",
    "%matplotlib inline\n"
   ]
  },
  {
   "cell_type": "code",
   "execution_count": 70,
   "metadata": {
    "collapsed": false
   },
   "outputs": [
    {
     "name": "stdout",
     "output_type": "stream",
     "text": [
      "Omega_m =  0.3021516799571746\n",
      "Omega_r =  0.039368019989299285\n",
      "Omega_l =  0.87903266716573\n",
      "Omega_0 =  1.2205523671122038  describing a closed Universe\n"
     ]
    },
    {
     "data": {
      "text/plain": [
       "[<matplotlib.lines.Line2D at 0x7f2b03b37828>]"
      ]
     },
     "execution_count": 70,
     "metadata": {},
     "output_type": "execute_result"
    },
    {
     "data": {
      "image/png": "[encoded data removed]",
      "text/plain": [
       "<matplotlib.figure.Figure at 0x7f2b03ef7470>"
      ]
     },
     "metadata": {},
     "output_type": "display_data"
    }
   ],
   "source": [
    "#define friedmann equation as function of scale factor. \n",
    "#find values for omega_m, omega_r, omega_l for:\n",
    "#    Loitering Universe (with positive matter density)\n",
    "#    big crunch universe\n",
    "#plot results showing scale factor as function of time, so 2 plots,\n",
    "#showing how scale factor evolves with time for each universe.\n",
    "#so need an equation a(t) for each above case\n",
    "#graph that shit\n",
    "Mpc = u.def_unit('Mpc', u.pc * 10**6)\n",
    "H_0 = 70 * u.km /(u.s * u.Mpc)\n",
    "H_0 = H_0.decompose()\n",
    "H_0 = H_0.to(1/u.yr)\n",
    "H_0 = 1e-2*H_0 # H_0 = a_dot_now ~ 0 for a loitering Universe; the 1e-50 makes a_dot_now ~0, and is used later\n",
    "t_lim = 14e09 #how far back to calc scale factor, years\n",
    "\n",
    "\n",
    "a_dot_prev = H_0 \n",
    "a_prev = 1\n",
    "deltaT = 1e6 *u.yr # years\n",
    "a_list = np.array([a_prev])\n",
    "a_dot_list = np.array([a_dot_prev.value]) *(1/u.yr)# 1/years\n",
    "\n",
    "omega_0 = 2 #to start the below while loop\n",
    "\n",
    "while omega_0 >= 2:\n",
    "    m = np.random.uniform(0,1)\n",
    "    r = np.random.uniform(0,1)\n",
    "    l = np.random.uniform(0,1)\n",
    "    omega_0 = m + r + l\n",
    "    if omega_0 < 1:\n",
    "        k = -1\n",
    "        shape = 'open'\n",
    "        break # remove break (or below breaks) to guarantee a specific shape for universe\n",
    "    elif omega_0 == 1:\n",
    "        k = 0\n",
    "        shape = 'flat'\n",
    "        break\n",
    "    elif omega_0 >1:\n",
    "        k = 1\n",
    "        shape = 'closed'\n",
    "        break\n",
    "\n",
    "        \n",
    "print ('Omega_m = ',m)\n",
    "print ('Omega_r = ',r)\n",
    "print ('Omega_l = ',l)\n",
    "print ('Omega_0 = ',omega_0,' describing a',shape,'Universe')\n",
    "\n",
    "while True: #working back in time, from now until Big Bang\n",
    "    a_next = a_prev - a_dot_prev * deltaT #decreasing\n",
    "    a_dot_next = a_next * H_0 * (r/a_next**4 + m/a_next**3 + l + (1-omega_0)/a_next**2)**(1/2)\n",
    "    a_list = np.append(a_list,a_next)\n",
    "    a_dot_list = np.append(a_dot_list,a_dot_next)\n",
    "    \n",
    "    \n",
    "    a_prev = a_next \n",
    "    a_dot_prev = a_dot_next\n",
    "    if (a_list.shape[0]*deltaT).value == t_lim:\n",
    "        break\n",
    "\n",
    "        \n",
    "        \n",
    "time = np.arange(0,t_lim,deltaT.value)\n",
    "fig,ax = plt.subplots(1,1)\n",
    "ax.set_ylim(min(a_list)-0.1,max(a_list)+0.1)\n",
    "ax.set_xlabel('Time (years)')\n",
    "ax.set_ylabel('Scale Factor')\n",
    "ax.plot(time,a_list)    \n",
    "\n",
    "\n",
    "                    \n",
    "           \n",
    "                \n",
    "            \n",
    "\n",
    "\n",
    "\n"
   ]
  },
  {
   "cell_type": "markdown",
   "metadata": {},
   "source": [
    "b) Big Crunch Universe.\n",
    "\n",
    "Here, $\\dot{a} \\neq 0$, and in order for a Big Crunch to occur, $\\Omega_0 > 1 $ \n",
    "\n",
    "Using the Friedmann Equation from above:\n",
    "\n",
    "$$ \\frac{\\dot{a}}{a} = H_0(\\frac{\\Omega_{r,0}}{a^4} + \\frac{\\Omega_{m,0}}{a^3} + \\Omega_{\\Lambda} + \\frac{1-\\Omega_0}{a^2})^{1/2}  $$\n",
    "\n",
    "I follow the same process as above, using $H_0 = \\dot{a_0}$ and $a(t) = a_0 + \\dot{a_0}\\Delta$t to get a new scale factor after some timestep. I force $\\Omega_0 > 1$, while allowing $\\Omega_m,\\Omega_r,$ and $\\Omega_{\\Lambda}$ to vary between 0 and 1. \n",
    "\n"
   ]
  },
  {
   "cell_type": "code",
   "execution_count": 73,
   "metadata": {
    "collapsed": false,
    "scrolled": true
   },
   "outputs": [
    {
     "name": "stdout",
     "output_type": "stream",
     "text": [
      "Omega_m =  0.9077027126678691\n",
      "Omega_r =  0.10529780661955945\n",
      "Omega_l =  0.2732515477533741\n",
      "Omega_0 =  1.2862520670408026  describing a closed Universe\n"
     ]
    },
    {
     "name": "stderr",
     "output_type": "stream",
     "text": [
      "/home/dm1681/anaconda3/lib/python3.5/site-packages/astropy/units/quantity.py:885: RuntimeWarning: invalid value encountered in sqrt\n",
      "  return super(Quantity, self).__pow__(other)\n"
     ]
    },
    {
     "data": {
      "text/plain": [
       "[<matplotlib.lines.Line2D at 0x7f2b03a9eb38>]"
      ]
     },
     "execution_count": 73,
     "metadata": {},
     "output_type": "execute_result"
    },
    {
     "data": {
      "image/png": "[encoded data removed]",
      "text/plain": [
       "<matplotlib.figure.Figure at 0x7f2b03e51898>"
      ]
     },
     "metadata": {},
     "output_type": "display_data"
    }
   ],
   "source": [
    "#solve for today\n",
    "Mpc = u.def_unit('Mpc', u.pc * 10**6)\n",
    "H_0 = 70 * u.km /(u.s * u.Mpc)\n",
    "H_0 = H_0.decompose()\n",
    "H_0 = H_0.to(1/u.yr)\n",
    "\n",
    "t_lim = 14e09 #how far back to calc scale factor, years\n",
    "\n",
    "\n",
    "a_dot_prev = H_0\n",
    "a_prev = 1\n",
    "deltaT = 1e6 *u.yr # years\n",
    "a_list = np.array([a_prev])\n",
    "a_dot_list = np.array([a_dot_prev.value]) *(1/u.yr)# 1/years\n",
    "\n",
    "while True:\n",
    "    m = np.random.uniform(0,1)\n",
    "    r = np.random.uniform(0,1)\n",
    "    l = np.random.uniform(0,1)\n",
    "    omega_0 = m + r + l\n",
    "    if omega_0 < 1:\n",
    "        k = -1\n",
    "        shape = 'open'\n",
    "    elif omega_0 == 1:\n",
    "        k = 0\n",
    "        shape = 'flat'\n",
    "    elif omega_0 >1:\n",
    "        k = 1\n",
    "        shape = 'closed'\n",
    "        break\n",
    "\n",
    "\n",
    "print ('Omega_m = ',m)\n",
    "print ('Omega_r = ',r)\n",
    "print ('Omega_l = ',l)\n",
    "print ('Omega_0 = ',omega_0,' describing a',shape,'Universe')\n",
    "\n",
    "\n",
    "\n",
    "while True: #working back in time, from now until Big Bang\n",
    "    a_next = a_prev - a_dot_prev * deltaT #decreasing\n",
    "    a_dot_next = a_next * H_0 * (r/a_next**4 + m/a_next**3 + l + (1-omega_0)/a_next**2)**(1/2)\n",
    "    a_list = np.append(a_list,a_next)\n",
    "    a_dot_list = np.append(a_dot_list,a_dot_next)\n",
    "    \n",
    "    \n",
    "    a_prev = a_next \n",
    "    a_dot_prev = a_dot_next\n",
    "    if (a_list.shape[0]*deltaT).value == t_lim:\n",
    "        break\n",
    "\n",
    "        \n",
    "        \n",
    "time = np.arange(0,t_lim,deltaT.value)\n",
    "a_list = abs(a_list) #absolute value because negative scale factor doesnt make sense\n",
    "fig,ax = plt.subplots(1,1)\n",
    "ax.set_ylim(min(a_list)-0.5,max(a_list)+0.5)\n",
    "ax.set_xlabel('Time (years)')\n",
    "ax.set_ylabel('Scale Factor')\n",
    "ax.plot(time,a_list)"
   ]
  },
  {
   "cell_type": "markdown",
   "metadata": {
    "collapsed": false,
    "scrolled": true
   },
   "source": [
    "2) Here, we are trying to find $$\\sigma_v \\approx 10^{3}\\frac{km}{s}(\\frac{\\theta D_s}{28'' D_{ls}})^{1/2}$$\n",
    "\n",
    "We start with the relation between mass and density: \n",
    "\n",
    "$$ M =\\rho V $$ \n",
    "\n",
    "Using the provided density profile for isothermal sphere and the volume of a sphere:\n",
    "\n",
    "$$ M = \\frac{\\sigma^2}{2\\pi Gr^2}\\frac{4\\pi r^3}{3} $$ \n",
    "\n",
    "Using the Small Angle Approximation $ R = D_L\\theta$ for a lens ring with radius, $\\theta$. This gives us: \n",
    "\n",
    "$$ M = \\frac{2\\sigma^2D_L\\theta}{3G} $$ \n",
    "\n",
    "Next, if $\\theta = \\theta_E$ with the mass enclosed in the Einstein radius:\n",
    "\n",
    "$$ \\theta_E^2 = \\frac{4GMD_{LS}}{c^2D_LD_S} $$\n",
    "\n",
    "Solve for M:\n",
    "\n",
    "$$ M = \\frac{\\theta_E^2c^2 D_L D_S}{4 G D_{LS}} $$\n",
    "\n",
    "Setting both equations for M equal to each other and canceling like terms/algebra gives the general form of the desired relation:\n",
    "\n",
    "$$ \\sigma^2 = \\frac{3c^2\\theta_ED_S}{8D_{LS}} $$\n",
    "\n",
    "If $\\theta = \\alpha \\beta \\theta_E$, we can then write the general form for any $\\theta$\n",
    "\n",
    "$$ \\sigma^2 = \\frac{3c^2\\theta D_S}{8\\alpha \\beta D_{LS}} $$\n",
    "\n",
    "Setting $\\frac{3c^2}{8\\alpha} = 10^6 \\frac{km}{s}$ and $\\beta^{1/2} = 28''$ gives the original form:\n",
    "\n",
    "$$ \\sigma_v \\approx 10^{3}\\frac{km}{s}(\\frac{\\theta D_s}{28'' D_{ls}})^{1/2} $$\n",
    "\n",
    "where $10^3 \\frac{km}{s}$ is the average velocity dispersion for a rich galaxy cluster producing lensing of $28''$"
   ]
  },
  {
   "cell_type": "code",
   "execution_count": null,
   "metadata": {
    "collapsed": true
   },
   "outputs": [],
   "source": []
  }
 ],
 "metadata": {
  "kernelspec": {
   "display_name": "Python [Root]",
   "language": "python",
   "name": "Python [Root]"
  },
  "language_info": {
   "codemirror_mode": {
    "name": "ipython",
    "version": 3
   },
   "file_extension": ".py",
   "mimetype": "text/x-python",
   "name": "python",
   "nbconvert_exporter": "python",
   "pygments_lexer": "ipython3",
   "version": "3.5.2"
  }
 },
 "nbformat": 4,
 "nbformat_minor": 0
}
