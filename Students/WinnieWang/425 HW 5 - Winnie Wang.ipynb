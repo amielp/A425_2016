{
 "cells": [
  {
   "cell_type": "code",
   "execution_count": 39,
   "metadata": {
    "collapsed": false
   },
   "outputs": [
    {
     "name": "stdout",
     "output_type": "stream",
     "text": [
      "425 HW 5 - Friedmann Equation and Gravitational Arcs\n",
      "Winnie Wang, Prof. Andrew Connolly\n"
     ]
    }
   ],
   "source": [
    "%matplotlib inline\n",
    "import numpy as np\n",
    "import numpy.ma as ma #numpy package to mask values\n",
    "import matplotlib.pyplot as plt\n",
    "import scipy.integrate as integrate\n",
    "\n",
    "print \"425 HW 5 - Friedmann Equation and Gravitational Arcs\"\n",
    "print \"Winnie Wang, Prof. Andrew Connolly\""
   ]
  },
  {
   "cell_type": "markdown",
   "metadata": {},
   "source": [
    "To integrate the Big Crunch and 'loitering' universes, we need to integrate:\n",
    "\n",
    "$\\int_{0}^{a} \\frac{da}{[{{\\Omega_{r,0}}{{a}^{-2}} + {\\Omega_{m,0}}{a}^{-1} + \\Omega_{\\Lambda,0}a + (1 - \\Omega_0)]}^{\\frac{1}{2}}} = H_0 t \\rightarrow \\int_{0}^{a} \\frac{da}{[{{\\Omega_{r,0}}{{a}^{-2}} + {\\Omega_{m,0}}{a}^{-1} + \\Omega_{\\Lambda,0}a + (1 - \\Omega_0)]}^{\\frac{1}{2}}}(\\frac{1}{H_0}) = t$\n",
    "\n",
    "In both cases, the $\\Omega_{r,0}$ has to be zero because as $\\Omega_{r,0}$ approaches 1, integral quickly approaches to some solution only containing $\\Omega_{r,0}$, leading to a flat, radiation-only universe. Since this cannot be the case, $\\Omega_{r,0}$ is zero in both 'loitering' and Big Crunch universes.\n",
    "\n",
    "To integrate, a class called \"Friedmann\" is implemented because an exception when the integral cannot be evaluated where $a(t)$ at 0 needs to be thrown. This makes intuitive sense because the denominator of the values (below 'da') cannot be infinity, or otherwise the integral cannot be evaluated. There are two functions in the class: one as \"__init__\" that calls the function itself and \"Hubble_Time\" that represents the integral (which evaluates to some 't'). \n",
    "\n",
    "The class is then called at both loitering and Big Crunch universes in 'for' loops against a linear space (of a(t)) that fills some empty array, with $\\Omega_{r,0}$ and $\\Omega_{l,0}$ referenced from the book. \n",
    "\n",
    "The integrals still run despite the '0' in the integral because the 'for' loops allow NaN to pass through. Moreover, the integrals of the 'Big Crunch' universe are run twice because the integral stops after being evaluated for the first half. To continue the integration, a separate array that contains error values then evaluated for a maximum value that would constitute the initial value for evaluation in the second half of integral."
   ]
  },
  {
   "cell_type": "code",
   "execution_count": 30,
   "metadata": {
    "collapsed": false
   },
   "outputs": [
    {
     "name": "stdout",
     "output_type": "stream",
     "text": [
      "This is Question 1.\n"
     ]
    }
   ],
   "source": [
    "print \"This is Question 1.\"\n",
    "#Constants:\n",
    "H_0 = 2.268e-18 #Hubble constant scaled to 1/s\n",
    "gyr_scale = 3600*24*365*1e9 #to change from seconds to giga-years\n",
    "\n",
    "#Class to integrate the Friedmann Equation:\n",
    "#The class is implemented so that errors can be returned if there is an invalid 't' for some a(t)\n",
    "class Friedmann:\n",
    "    def __init__(self,r,m,l):\n",
    "        self.H_0 = H_0\n",
    "        self.r = r #omega_r\n",
    "        self.m = m #omega_m\n",
    "        self.l = l #omega_l\n",
    "        self.omega = (self.r + self.m + self.l)\n",
    "        pass\n",
    "    \n",
    "    def Hubble_Time(self, a):\n",
    "        t = np.sqrt(1/(self.H_0**2.0*(self.r*(a**-2.0)+ self.m*(a**-1.0) + self.l*(a**2.0) + (1.0 - self.omega + 0.j))))\n",
    "        if t.imag == 0.j:\n",
    "            return abs(t)\n",
    "        else:\n",
    "            pass"
   ]
  },
  {
   "cell_type": "code",
   "execution_count": 31,
   "metadata": {
    "collapsed": false
   },
   "outputs": [
    {
     "name": "stdout",
     "output_type": "stream",
     "text": [
      "Part A: Integrating to obtain loitering universe.\n"
     ]
    }
   ],
   "source": [
    "#Integrating:       \n",
    "print \"Part A: Integrating to obtain loitering universe.\"\n",
    "loiter_a = np.linspace(0.0,1.0,100)\n",
    "loitering_array = []\n",
    "\n",
    "loitering = Friedmann(0.0,0.3,1.7134) #omega_m and omega_l referenced from book; omega_r is supposed to be zero\n",
    "def integrate_loitering(x):\n",
    "    try:\n",
    "        return integrate.quad(loitering.Hubble_Time,0.0,i)\n",
    "    except:\n",
    "        return np.nan,np.nan\n",
    "        \n",
    "for i in loiter_a:\n",
    "    loitery = integrate_loitering(i)\n",
    "    loitering_array.append(loitery)\n",
    "    \n",
    "loitering_array_scaled = np.asarray(loitering_array)/gyr_scale"
   ]
  },
  {
   "cell_type": "code",
   "execution_count": 34,
   "metadata": {
    "collapsed": false
   },
   "outputs": [
    {
     "name": "stdout",
     "output_type": "stream",
     "text": [
      "Part B: Integrating to obtain 'Big Crunch' universe.\n"
     ]
    }
   ],
   "source": [
    "#Part B:\n",
    "print \"Part B: Integrating to obtain 'Big Crunch' universe.\"\n",
    "big_crunch = Friedmann(0.0,0.3,-0.3) \n",
    "#Since the integral will only run to only half of the whole thing, the other half is integrated explicitly\n",
    "#Masked arrays are initialized to ignore the a(t) values that cannot be integrated, so we can graph\n",
    "\n",
    "crunchy_a_increasing = np.linspace(0.0,2.0,1000)        \n",
    "crunchy_array = []\n",
    "\n",
    "def integrate_crunchy(x): #first half that's increasing\n",
    "    try:\n",
    "        return integrate.quad(big_crunch.Hubble_Time,0.0,x)\n",
    "    except:\n",
    "        return np.nan,np.nan        \n",
    "\n",
    "for j in crunchy_a_increasing:\n",
    "    crunchy,err = integrate_crunchy(j)\n",
    "    crunchy_array.append(crunchy)\n",
    "    \n",
    "crunchy_array_scaled = np.asarray(crunchy_array)/gyr_scale\n",
    "crunchy_array_scaled_error = ma.masked_invalid(crunchy_array_scaled)\n",
    "crunchy_a2 = ma.masked_array(crunchy_a_increasing,mask=crunchy_array_scaled_error.mask)\n",
    "\n",
    "#-----------#\n",
    "\n",
    "crunchy_a_decreasing = np.linspace(crunchy_a2.max(),0,1000)\n",
    "crunchy_array2 = []\n",
    "\n",
    "def integrate_crunchy2(x): #other half that is decreasing\n",
    "    try:\n",
    "        return integrate.quad(big_crunch.Hubble_Time,crunchy_a2.max(),x)\n",
    "    except:\n",
    "        return np.nan,np.nan\n",
    "        \n",
    "for k in crunchy_a_decreasing:\n",
    "    crunchy2,err = integrate_crunchy2(k)\n",
    "    crunchy_array2.append(crunchy2)\n",
    "    \n",
    "crunchy_array_scaled2 = np.asarray(crunchy_array2)/gyr_scale"
   ]
  },
  {
   "cell_type": "code",
   "execution_count": 36,
   "metadata": {
    "collapsed": false
   },
   "outputs": [
    {
     "data": {
      "text/plain": [
       "<matplotlib.text.Text at 0x113dae150>"
      ]
     },
     "execution_count": 36,
     "metadata": {},
     "output_type": "execute_result"
    },
    {
     "data": {
      "image/png": "[encoded data removed]",
      "text/plain": [
       "<matplotlib.figure.Figure at 0x115512750>"
      ]
     },
     "metadata": {},
     "output_type": "display_data"
    }
   ],
   "source": [
    "#Loitering universe; blue\n",
    "loiter_line = plt.plot(loitering_array_scaled, loiter_a, label='Loitering') \n",
    "#Big Crunch universe; green\n",
    "big_crunch_line = plt.plot(crunchy_array_scaled_error, crunchy_a2, c='g', label='Big Crunch')\n",
    "big_crunch_line2 = plt.plot((crunchy_array_scaled_error.max()-crunchy_array_scaled2), crunchy_a_decreasing, c='g')\n",
    "plt.title(\"a(t) vs t of Universs\")\n",
    "plt.xlabel('Age (Gyr)')\n",
    "plt.ylabel('a(t) (Scale factor)')"
   ]
  },
  {
   "cell_type": "markdown",
   "metadata": {},
   "source": [
    "Question 2:\n",
    "\n",
    "An isothermal sphere with a density profile of:\n",
    "\n",
    "$\\rho(r) = \\frac{{\\sigma_\\nu}^{2}}{2\\pi G{r}^{2}}$\n",
    "\n",
    "Will have a mass of (given some radius, R):\n",
    "\n",
    "$M(R) = \\frac{4\\pi {R}^{3}}{3} * \\rho(r) = \\frac{4\\pi {R}^{3}}{3} * \\frac{{\\sigma_\\nu}^{2}}{2\\pi G{r}^{2}} = \\frac{2{\\sigma_\\nu}^{2} R}{3G}$\n",
    "\n",
    "Given that the Einstein radius is:\n",
    "\n",
    "${\\theta_E}^{2} = \\frac{4 G M D_LS}{{c}^{2}D_L D_S}$\n",
    "\n",
    "Rearranging this expression for a mass in a sphere with this radius yields:\n",
    "\n",
    "$M = \\frac{{\\theta_E}^{2}{c}^{2} D_L D_S}{4 G D_{LS}}$\n",
    "\n",
    "So an isothermal sphere with an Einstein radius must be solved with a mass of:\n",
    "\n",
    "$\\frac{{\\theta_E}^{2}{c}^{2} D_L D_S}{4 G D_{LS}} \\approx \\frac{2{\\sigma_\\nu}^{2} R}{3G}$\n",
    "\n",
    "In very long distances, note that the small-angle approximation can be applied, where $\\theta$ or in this case, $(\\theta_E) \\approx \\frac{R}{D_L}$. Consequently:\n",
    "\n",
    "$\\frac{{\\theta_E}^{2}{c}^{2} D_L D_S}{4 G D_{LS}} \\approx \\frac{2{\\sigma_\\nu}^{2} R}{3G} \\rightarrow \\frac{{\\theta_E}^{2}{c}^{2} D_L D_S}{4 G D_{LS} R} \\approx \\frac{2{\\sigma_\\nu}^{2}}{3G} \\rightarrow \\frac{\\theta_E{c}^{2} D_S}{4 G D_{LS}} \\approx \\frac{2{\\sigma_\\nu}^{2}}{3G}$\n",
    "\n",
    "Solving for the velocity dispersion results to:\n",
    "\n",
    "${\\sigma_\\nu}^{2} \\approx \\frac{3\\theta_E{c}^{2} D_S}{8 D_{LS}} \\rightarrow {\\sigma_\\nu} \\approx {(\\frac{3\\theta_E{c}^{2} D_S}{8 D_{LS}})}^{\\frac{1}{2}}$\n",
    "\n",
    "Since there are 206265 arcseconds in a radian, converting this to arcseconds approximates this to:\n",
    "\n",
    "${\\sigma_\\nu} \\approx {(\\frac{3\\theta_E{c}^{2} D_S}{8 D_{LS}})}^{\\frac{1}{2}} = {(\\frac{\\theta_E D_S}{D_{LS}})}^{(\\frac{1}{2}}{\\frac{3{c}^{2}}{8(206265'')})}^{\\frac{1}{2}} = {10}^{3}{kms}^{-1}{\\frac{\\theta_E D_S}{28'' D_{LS}}}^{\\frac{1}{2}}$"
   ]
  },
  {
   "cell_type": "code",
   "execution_count": null,
   "metadata": {
    "collapsed": true
   },
   "outputs": [],
   "source": []
  }
 ],
 "metadata": {
  "kernelspec": {
   "display_name": "Python 2",
   "language": "python",
   "name": "python2"
  },
  "language_info": {
   "codemirror_mode": {
    "name": "ipython",
    "version": 2
   },
   "file_extension": ".py",
   "mimetype": "text/x-python",
   "name": "python",
   "nbconvert_exporter": "python",
   "pygments_lexer": "ipython2",
   "version": "2.7.11"
  }
 },
 "nbformat": 4,
 "nbformat_minor": 0
}
