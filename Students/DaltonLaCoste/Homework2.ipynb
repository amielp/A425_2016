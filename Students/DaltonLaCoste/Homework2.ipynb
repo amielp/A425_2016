{
 "cells": [
  {
   "cell_type": "code",
   "execution_count": 44,
   "metadata": {
    "collapsed": false
   },
   "outputs": [
    {
     "name": "stdout",
     "output_type": "stream",
     "text": [
      "Populating the interactive namespace from numpy and matplotlib\n"
     ]
    }
   ],
   "source": [
    "%pylab inline\n",
    "import numdifftools as nd\n",
    "from scipy.integrate import odeint"
   ]
  },
  {
   "cell_type": "markdown",
   "metadata": {},
   "source": [
    "If we lived in a Olberian universe (a) calculate the distance at which any random line-of-sight will intersect the surface of a star (this is referred to as the point at which the optical depth of uniformly distributed stars is unity\n",
    "Assume all the stars have the same luminosity as the Sun, the average number density of stars is $10^{9} Mpc^{-3}$, and the radius of the stars is $7\\times10^{8}$m."
   ]
  },
  {
   "cell_type": "markdown",
   "metadata": {},
   "source": [
    "#### The mean free path of a photon (from Ryden Equation 9.13): ####\n",
    "\n",
    "$$\\lambda = \\frac{1}{n_{e}\\sigma_{e}}$$\n",
    "\n",
    "#### Where $n_{e}$ is the number density and $\\sigma_{e}$ is the surface area ####\n",
    "\n",
    "$$\\lambda = \\frac{1}{(10^{9}MPc^{-3})\\pi (7\\times 10^{8}m)^{2}} = \\frac{MPc^{3}}{\\pi \\times 10^{9}(7\\times 10^{8}m)^2}$$\n",
    "\n",
    "\n",
    "$$MPc = 3.086 \\times 10^{22}m$$\n",
    "\n",
    "\n",
    "$$\\lambda = \\frac{(3.086\\times 10^{22}m)^{3}}{\\pi\\times 10^{9}(7\\times 10^{8}m)^{2}}$$\n",
    "\n",
    "$$\\lambda = \\frac{2.939\\times 10^{67}m^{3}}{1.539\\times 10^{27}m^{2}}$$\n",
    "\n",
    "$$\\lambda = 1.910\\times 10^{40}m = 6.188\\times 10^{17}MPc$$"
   ]
  },
  {
   "cell_type": "markdown",
   "metadata": {},
   "source": [
    "When Edwin Hubble measured the expansion rate of the universe he derived a Hubble’s constant of 500 km s-1 Mpc-1. To get this value of Ho how incorrect were his estimates of the distances to Cepheid stars. How does his value of the universe change the age of the universe and would we need to live in an accelerating or decelerating universe in order to reconcile the Hubble time with the current age of the universe (13.7 Gyr). Remember to explain your answers."
   ]
  },
  {
   "cell_type": "markdown",
   "metadata": {},
   "source": [
    "$$v = H_{0}d$$\n",
    "\n",
    "#### Assuming that the v measured is correct ####\n",
    "\n",
    "$$v = H_{0}^{*}d_{Hubble}$$\n",
    "\n",
    "$$v = H_{0}d_{Actual}$$\n",
    "\n",
    "#### Where $H_{0}^{*}$ is the (incorrect) value Hubble estimated for his constant ####\n",
    "\n",
    "$$H_{0}d_{Actual} = H_{0}^{*}d_{Hubble}$$\n",
    "\n",
    "$$\\frac{H_{0}^{*}}{H_{0}} = \\frac{d_{Actual}}{d_{Hubble}}$$\n",
    "\n",
    "$$\\frac{500}{70} = \\frac{d_{Actual}}{d_{Hubble}}$$\n",
    "\n",
    "$$d_{Actual} = 7.143d_{Hubble}$$\n",
    "\n",
    "$$t_{H_{0}^{*}} = \\frac{1}{H_{0}^{*}}$$\n",
    "$$t_{H_{0}^{*}} = \\frac{1}{500}\\frac{MPc \\cdot s}{km}\\frac{10^{6}Pc}{MPc}\\frac{3.086\\times 10^{13}km}{Pc} = 1,957,128,361 years$$\n",
    "\n",
    "##### Hubble's estimate for the age of the universe is a factor of $\\frac{H_{0}}{H_{0}^{*}}$ smaller than the current best estimate. In order for this Hubble time to be accurate, we would need to live in a decelerating universe ##"
   ]
  },
  {
   "cell_type": "markdown",
   "metadata": {},
   "source": [
    "(Ryden 3.2) Suppose you are a two-dimensional being, living on the surface of a\n",
    "sphere with radius R. An object of width ds << R is at a distance\n",
    "r from you (remember, all distances are measured on the surface of\n",
    "the sphere). What angular width dθ will you measure for the object?\n",
    "Explain the behavior of dθ as r → πR.\n"
   ]
  },
  {
   "cell_type": "markdown",
   "metadata": {},
   "source": [
    "#### Ryden Equation 3.14 ####\n",
    "$$ds^{2} = dr^{2}+R^{2}sin^{2}(\\frac{r}{R})(d\\theta^{2}+sin^{2}(\\theta)d\\phi^{2})$$\n",
    "\n",
    "$$d\\phi = 0$$\n",
    "\n",
    "$$ds^{2} = dr^{2}+R^{2}sin^{2}(\\frac{r}{R})d\\theta^{2}$$\n",
    "\n",
    "$$ds^{2}-dr^{2} = R^{2}sin^{2}(\\frac{r}{R})d\\theta^{2}$$\n",
    "\n",
    "$$d\\theta^{2} = \\frac{ds^{2}-dr^{2}}{R^{2}sin^{2}(\\frac{r}{R})}$$\n",
    "\n",
    "\n",
    "#### The measured angular width is \n",
    "$$d\\theta = \\frac{\\sqrt{ds^{2}-dr^{2}}}{Rsin(\\frac{r}{R})}$$\n",
    "#### Taking the lmit \n",
    "$$\\lim_{r \\rightarrow \\pi R}d\\theta = \\frac{\\sqrt{ds^{2}-dr^{2}}}{Rsin(\\frac{\\pi R}{R})} $$ \n",
    "\n",
    "$$\\lim_{r \\rightarrow \\pi R}d\\theta = \\frac{\\sqrt{ds^{2}-dr^{2}}}{Rsin(\\pi)} $$ \n",
    "\n",
    "$$\\lim_{r \\rightarrow \\pi R}d\\theta = \\infty$$\n",
    "\n",
    "##### The distance $\\pi R$ is the antipodal point to the origin in a positively curved space (Ryden p. 43), so the angular distance approaches $\\infty$ as $r\\rightarrow \\pi R$ #####"
   ]
  },
  {
   "cell_type": "markdown",
   "metadata": {},
   "source": [
    "Using Python solve the following equation numerically and plot a(t) vs t. Note “.” represents the time derivative,\n",
    "$a ̇^{2} = H_{0}^{2} a ^{− 3}$\n",
    "where H0 is the Hubble constant (H0=70 km s-1 Mpc-1)\n",
    "Solve the integration algebraically and overlay the solution on your plot"
   ]
  },
  {
   "cell_type": "markdown",
   "metadata": {},
   "source": [
    "$$a ̇^{2} = H_{0}^{2} a ^{− 3}$$\n",
    "\n",
    "$$a ̇ = H_{0}a^{-3/2}$$\n",
    "\n",
    "$$\\frac{da}{dt} = H_{0}a^{-3/2}$$\n",
    "\n",
    "$$da = H_{0}a^{-3/2}dt$$\n",
    "\n",
    "$$a^{3/2}da  = H_{0}dt$$\n",
    "\n",
    "$$\\frac{2a^{5/2}}{5} = H_{0}t+C$$\n",
    "\n",
    "$$a(t) = [\\frac{5H_{0}(t+C)}{2}]^{2/5}$$\n",
    "\n",
    "$$a(0)= 0$$\n",
    "\n",
    "$$0 = [\\frac{5H_{0}(0+C)}{2}]^{2/5}$$\n",
    "\n",
    "$$C = 0$$\n",
    "\n",
    "$$a(t) = (\\frac{5H_{0}t}{2})^{2/5}$$"
   ]
  },
  {
   "cell_type": "code",
   "execution_count": 67,
   "metadata": {
    "collapsed": false
   },
   "outputs": [],
   "source": [
    "def adot(a,t):\n",
    "    h0 = 70.0\n",
    "    dadt = (h0*a**(-1.5))\n",
    "    return dadt\n",
    "\n",
    "t = np.linspace(0, 1000, 100)\n",
    "solution = odeint(adot, 1, t)"
   ]
  },
  {
   "cell_type": "code",
   "execution_count": 71,
   "metadata": {
    "collapsed": false
   },
   "outputs": [
    {
     "data": {
      "image/png": "[encoded data removed]",
      "text/plain": [
       "<matplotlib.figure.Figure at 0x114a83250>"
      ]
     },
     "metadata": {},
     "output_type": "display_data"
    }
   ],
   "source": [
    "a = (2.5*t*70)**(0.4)\n",
    "fig,ax = plt.subplots(1,1)\n",
    "fig.set_size_inches(15,10)\n",
    "\n",
    "ax.plot(t,a,color='k',label=\"Analytic Solution\");\n",
    "ax.plot(t,solution,linestyle=\"none\",marker=\".\",markersize=10,alpha=0.5,color='r',label=\"Numerical Solution\")\n",
    "ax.legend();"
   ]
  },
  {
   "cell_type": "code",
   "execution_count": null,
   "metadata": {
    "collapsed": true
   },
   "outputs": [],
   "source": []
  },
  {
   "cell_type": "code",
   "execution_count": 42,
   "metadata": {
    "collapsed": false
   },
   "outputs": [
    {
     "ename": "SyntaxError",
     "evalue": "can't assign to function call (<ipython-input-42-8d92bfde11d4>, line 8)",
     "output_type": "error",
     "traceback": [
      "\u001b[0;36m  File \u001b[0;32m\"<ipython-input-42-8d92bfde11d4>\"\u001b[0;36m, line \u001b[0;32m8\u001b[0m\n\u001b[0;31m    ystar(val+1) = ystar(val) + k1*h;\u001b[0m\n\u001b[0;31mSyntaxError\u001b[0m\u001b[0;31m:\u001b[0m can't assign to function call\n"
     ]
    }
   ],
   "source": []
  },
  {
   "cell_type": "code",
   "execution_count": null,
   "metadata": {
    "collapsed": true
   },
   "outputs": [],
   "source": []
  }
 ],
 "metadata": {
  "anaconda-cloud": {},
  "kernelspec": {
   "display_name": "Python [Root]",
   "language": "python",
   "name": "Python [Root]"
  },
  "language_info": {
   "codemirror_mode": {
    "name": "ipython",
    "version": 2
   },
   "file_extension": ".py",
   "mimetype": "text/x-python",
   "name": "python",
   "nbconvert_exporter": "python",
   "pygments_lexer": "ipython2",
   "version": "2.7.11"
  }
 },
 "nbformat": 4,
 "nbformat_minor": 0
}
